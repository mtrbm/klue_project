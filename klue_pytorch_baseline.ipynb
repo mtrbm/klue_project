{
  "cells": [
    {
      "cell_type": "markdown",
      "metadata": {
        "id": "view-in-github",
        "colab_type": "text"
      },
      "source": [
        "<a href=\"https://colab.research.google.com/github/mtrbm/klue_project/blob/main/klue_pytorch_baseline.ipynb\" target=\"_parent\"><img src=\"https://colab.research.google.com/assets/colab-badge.svg\" alt=\"Open In Colab\"/></a>"
      ]
    },
    {
      "cell_type": "markdown",
      "metadata": {
        "id": "Tszu1H5Gn0UB"
      },
      "source": [
        "\"모든 참가자의 '제출'을 목표로 합니다\"를 기반으로 하여 만든 klue/roberta를 이용한 베이스라인입니다.\n",
        "\n",
        "pytorch를 처음 접하시는 분들을 위해 라인마다 아는대로 설명을 써놨으나\n",
        "\n",
        "저도 배운지 얼마 안되어서 부족한 면도 있으니 양해부탁드립니다."
      ]
    },
    {
      "cell_type": "markdown",
      "metadata": {
        "id": "6aV6Cwxan0UC"
      },
      "source": [
        "우선 필요한 패키지들을 import합니다. 처음 보실법한 패키지들을 설명드리면\n",
        "\n",
        "1. transformers : Huggingface에 등록된 pretrained model/tokenizer를 불러올 수 있는 패키지\n",
        "2. torch : 머신러닝 패키지\n",
        "3. tqdm : batch별로 프로세스할 때 진행상황을 바로 보여주는 패키지\n",
        "\n",
        "나머지는 아실거라 짐작하고 넘어가겠습니다."
      ]
    },
    {
      "cell_type": "code",
      "execution_count": 3,
      "metadata": {
        "id": "qDUc9SIgn0UC"
      },
      "outputs": [],
      "source": [
        "# https://dacon.io/en/competitions/official/236037/overview/description\n",
        "\n",
        "import pandas as pd\n",
        "import numpy as np\n",
        "import torch\n",
        "import os\n",
        "import random\n",
        "from sklearn.model_selection import train_test_split\n",
        "from transformers import AutoModel, AutoTokenizer\n",
        "from torch.utils.data import Dataset\n",
        "from torch.utils.data import DataLoader\n",
        "from torch import nn\n",
        "from tqdm import tqdm\n",
        "\n",
        "# for graphing\n",
        "import seaborn as sns\n",
        "import matplotlib.pyplot as plt"
      ]
    },
    {
      "cell_type": "markdown",
      "metadata": {
        "id": "0F9Z8tcBn0UD"
      },
      "source": [
        "우선 데이터를 불러와야겠죠?\n",
        "\n",
        "예측하는데 ID는 필요없기 때문에 drop 해줬습니다."
      ]
    },
    {
      "cell_type": "code",
      "execution_count": 4,
      "metadata": {
        "id": "PTvC_fMpn0UD"
      },
      "outputs": [],
      "source": [
        "train_original = pd.read_csv('train.csv')\n",
        "train_original.drop(columns=['ID'], inplace=True)\n",
        "test = pd.read_csv('test.csv')\n",
        "test.drop(columns=['ID'], inplace=True)\n",
        "submission = pd.read_csv('sample_submission.csv')"
      ]
    },
    {
      "cell_type": "markdown",
      "metadata": {
        "id": "Rqo9SK9xn0UD"
      },
      "source": [
        "아래 코드는 reproducibility를 위한 설정들이고 데이콘에서 제공한 베이스라인 코드에서 따왔습니다.\n",
        "\n",
        "자세한 설명은 : https://tempdev.tistory.com/28\n",
        "\n",
        "m1 reproducibility 추가\n",
        "\n",
        "CFG안에 key, value에 대해서 설명하자면\n",
        "1. epochs\n",
        "    - 총 트레이닝을 몇번 반복할지\n",
        "    - training set를 처음부터 끝까지 도는걸 몇번할지\n",
        "2. learning_rate\n",
        "    - 트레이닝 속도\n",
        "    - 높으면 optimize 값으로 빨리 접근할 수는 있지만 지나칠 수 있다.\n",
        "    - 낮으면 optimizer 값으로 느리게 접근하지만 지나치지는 않는다. --> training에 소요되는 시간 증가\n",
        "3. batch_size\n",
        "    - 한번에 몇개의 training items를 가지고 neural network의 weight를 조정할 것인가\n",
        "    - 예를 들어 1000개의 items를 training할 때 batch_size가 32라고 하면 1000개를 32개씩 쪼개서 한번에 32개의 item만을 가지고 training하고 weights를 업데이트하고 다음 32개로 넘어간다. 이때 마지막 그룹은 32개보다 적다.\n",
        "    - batch_size가 작으면 weights를 자주 업데이트하고 크면 weights를 덜 자주 업데이트 한다 --> batch_size가 작으면 sample size가 작은거랑 비슷하므로 그룹마다 차이가 크다 / batch_size가 크면 sample size가 큰거랑 비슷하므로 그룹마다 차이가 작다.\n",
        "\n",
        "\n",
        "이 코드를 돌린 디바이스가 m1 mac이므로 torch.device('mps')를 썼지만 맥이 아닌 gpu를 쓸때는 'cuda'를 쓰면 된다. gpu가 없다면 'cpu'로 설정하면 되는데 그러면 속도가 많이 느려질 것이다. gpu가 있는지 알아보기 위해서는 torch.cuda.is_available()를 돌려보면 true 아니면 false가 나올 것이다."
      ]
    },
    {
      "cell_type": "code",
      "execution_count": 5,
      "metadata": {
        "id": "MxvLRcKxn0UE"
      },
      "outputs": [],
      "source": [
        "def seed_everything(seed):\n",
        "    random.seed(seed)\n",
        "    os.environ['PYTHONHASHSEED'] = str(seed)\n",
        "    np.random.seed(seed)\n",
        "    torch.manual_seed(seed)\n",
        "    torch.cuda.manual_seed(seed)\n",
        "    torch.backends.cudnn.deterministic = True\n",
        "    torch.backends.cudnn.benchmark = True\n",
        "\n",
        "CFG = {\n",
        "    'EPOCHS':20,\n",
        "    'LEARNING_RATE':1e-5,\n",
        "    'BATCH_SIZE':32,\n",
        "    'SEED':41\n",
        "}\n",
        "\n",
        "seed_everything(CFG['SEED']) # Seed 고정\n",
        "device = torch.device('cuda')"
      ]
    },
    {
      "cell_type": "markdown",
      "metadata": {
        "id": "YHNCi4A-n0UE"
      },
      "source": [
        "그 다음으로는 train_test_split를 이용해서 train와 val을 나눠줍니다.\n",
        "\n",
        "유형(type), 극성(polarity), 시제(tense), 확실성(certainty) 중에서 imbalanced한 label도 있기때문에\n",
        "\n",
        "stratify를 추가해주는게 좋다."
      ]
    },
    {
      "cell_type": "code",
      "execution_count": 6,
      "metadata": {
        "id": "4mIq3sWLn0UE"
      },
      "outputs": [],
      "source": [
        "train, val, _, _ = train_test_split(train_original, train_original['label'], test_size=0.2, random_state=CFG['SEED'])\n",
        "train = train.reset_index(drop=True)\n",
        "val = val.reset_index(drop=True)"
      ]
    },
    {
      "cell_type": "markdown",
      "metadata": {
        "id": "DGBfSVvvn0UE"
      },
      "source": [
        "위에서 언급했듯이 transformers 패키지를 통해서 pretrained된 모델을 불러올 수 있다.\n",
        "\n",
        "불러오는 방법은 https://huggingface.co/models 여기서 model 이름을 검색하고\n",
        "\n",
        "모델은 AutoModel.from_pretrained()을 통해서, 토크나이저는 AutoTokenizer.from_pretrained()을 통해서\n",
        "\n",
        "모델이름을 파라미터로 넣어주면 된다."
      ]
    },
    {
      "cell_type": "code",
      "execution_count": 7,
      "metadata": {
        "id": "fM3gqk-ln0UE",
        "colab": {
          "base_uri": "https://localhost:8080/",
          "height": 411,
          "referenced_widgets": [
            "923f49eaeca94491b876ed222024b95c",
            "be35be854f35472dbfeffda83df4b44e",
            "c46ec444d3864565be5429fde601f9b5",
            "b30ab6a0a7aa4a5482185a4cf4b0dbc8",
            "e47c875ce14a4c6a9d129aed6cf31fd7",
            "0986369541c140a6b59877b7982960fc",
            "8ff810c4de3d4490b28979000f9d69f3",
            "9674456b8e7149fd83d1e686b19b2340",
            "d5bcff7d9e4946e288d5b21a0d2d50b9",
            "1e8531dd295f4c1c8fd0e0840ad7e077",
            "2918e18c014245d6902ca2d242fe4d7e",
            "3de6f2efa61a4be29fadae573f92cf41",
            "b24ca22b34784811a1daf7ebea4ec3eb",
            "5eebd229e09346d283f0a97478ed4877",
            "a05cd6038bb144b49854091013f2c703",
            "76e9160b2567490daf76aef5e1dbb075",
            "2b97dc6bbae64a0581cdcbc34e404dbd",
            "200d79714f524d6aaf48bff2353d2867",
            "720194d333404c958b9580939c15e528",
            "aa5d2c4240354953b570ec096f0c4d87",
            "6fa2d9044bd74d6294f097a820b0ab84",
            "fbfbc3fbf80d4e9095eb01dabbaa2298",
            "9491a3f6b045443fb6cc1e18671e9dcc",
            "8d9f8a9c134f4700b437001b4fc51cc0",
            "f8d8efed81104687b45084a09d916dc8",
            "13374504c83b4c9b96a93c320afaba6b",
            "93eb1e062c204d2e9cb85ef26af74493",
            "3635b4a431464d7eb3124555eaea2639",
            "609344acb9514974aa727a94f54a8422",
            "8f3dc6fd30ee482e97c051e6f67922ea",
            "592d6ebccfbb4f53b7632545f7f3cd54",
            "84c44233fc1b45f299d3b4b13789c35a",
            "ed8b537af7574d10bf213704bd89ebb9",
            "2e4c057614044496a90919fe3b26b495",
            "25e32e1041c54cd4be3dc952ed29436f",
            "3b21d4545055451f90c14dfcfa7a7516",
            "ff1a8938dcaf4c35bcc9a393e686e582",
            "210a345c502d4217a2cc5a8fcc4158ba",
            "10bc9d3b8a344c2a9eb6d257bde967f5",
            "529589323e8642758b582952c302e016",
            "d6f9a2f2a4a543249c05692e01a5d7ce",
            "2e1693dd9d484de3a00457f7469b6449",
            "5f7ef336cbda42cf945f78d5364e83dc",
            "8d15e2e0be4748238882fa92ec22f8d7",
            "0d712d1bf4d3422a856d27d9f33accbf",
            "c1d2c48cbdd3446a806dbff08bdf4884",
            "cedc9abba42c47c7ab488ccde0070df4",
            "4ebdb8acc1be4c84ab424d6676e2490f",
            "d7fb056a042e47529b5d0e0ce19bf874",
            "1aee74cdeee342f48959f36eaca748ec",
            "a821ce9c1bf94bceb146d61b7ea18f56",
            "58f4853f90b94c30826e6deacf926aa4",
            "a72e3ca888b3489986bd31cbe1dfb9e6",
            "e482968bc35f4b50bab92a5af5d41635",
            "2bc23edaf1e347c590c9aeab3c6e8722",
            "edbd1466ae034d8a9760a64e74d14b4f",
            "708063274b42488b8e82716aa1563c8c",
            "a2e05a5df93c47429da42d384a85a42f",
            "f334336947e44ba6a15a173e8aa0ca0e",
            "5d9b969442294dd1ba0d22a40a5dd7fa",
            "38f10fa6836f4a97a62fe86634220af0",
            "f04db2718d894fb59e1364085717082e",
            "181a065272f940c790348a661434cef2",
            "7e6801e80ed54dd082d00850e03676e0",
            "2b89f1d4c1694c2f9b4a54cc6ffae43a",
            "6c3027e774f54fe5a58c391d31ff7eae"
          ]
        },
        "outputId": "74935ced-830f-47a6-f834-780ebc6a313e"
      },
      "outputs": [
        {
          "output_type": "stream",
          "name": "stderr",
          "text": [
            "/usr/local/lib/python3.10/dist-packages/huggingface_hub/utils/_token.py:89: UserWarning: \n",
            "The secret `HF_TOKEN` does not exist in your Colab secrets.\n",
            "To authenticate with the Hugging Face Hub, create a token in your settings tab (https://huggingface.co/settings/tokens), set it as secret in your Google Colab and restart your session.\n",
            "You will be able to reuse this secret in all of your notebooks.\n",
            "Please note that authentication is recommended but still optional to access public models or datasets.\n",
            "  warnings.warn(\n"
          ]
        },
        {
          "output_type": "display_data",
          "data": {
            "text/plain": [
              "config.json:   0%|          | 0.00/545 [00:00<?, ?B/s]"
            ],
            "application/vnd.jupyter.widget-view+json": {
              "version_major": 2,
              "version_minor": 0,
              "model_id": "923f49eaeca94491b876ed222024b95c"
            }
          },
          "metadata": {}
        },
        {
          "output_type": "display_data",
          "data": {
            "text/plain": [
              "model.safetensors:   0%|          | 0.00/273M [00:00<?, ?B/s]"
            ],
            "application/vnd.jupyter.widget-view+json": {
              "version_major": 2,
              "version_minor": 0,
              "model_id": "3de6f2efa61a4be29fadae573f92cf41"
            }
          },
          "metadata": {}
        },
        {
          "output_type": "stream",
          "name": "stderr",
          "text": [
            "Some weights of RobertaModel were not initialized from the model checkpoint at klue/roberta-small and are newly initialized: ['roberta.pooler.dense.bias', 'roberta.pooler.dense.weight']\n",
            "You should probably TRAIN this model on a down-stream task to be able to use it for predictions and inference.\n"
          ]
        },
        {
          "output_type": "display_data",
          "data": {
            "text/plain": [
              "tokenizer_config.json:   0%|          | 0.00/375 [00:00<?, ?B/s]"
            ],
            "application/vnd.jupyter.widget-view+json": {
              "version_major": 2,
              "version_minor": 0,
              "model_id": "9491a3f6b045443fb6cc1e18671e9dcc"
            }
          },
          "metadata": {}
        },
        {
          "output_type": "display_data",
          "data": {
            "text/plain": [
              "vocab.txt:   0%|          | 0.00/248k [00:00<?, ?B/s]"
            ],
            "application/vnd.jupyter.widget-view+json": {
              "version_major": 2,
              "version_minor": 0,
              "model_id": "2e4c057614044496a90919fe3b26b495"
            }
          },
          "metadata": {}
        },
        {
          "output_type": "display_data",
          "data": {
            "text/plain": [
              "tokenizer.json:   0%|          | 0.00/752k [00:00<?, ?B/s]"
            ],
            "application/vnd.jupyter.widget-view+json": {
              "version_major": 2,
              "version_minor": 0,
              "model_id": "0d712d1bf4d3422a856d27d9f33accbf"
            }
          },
          "metadata": {}
        },
        {
          "output_type": "display_data",
          "data": {
            "text/plain": [
              "special_tokens_map.json:   0%|          | 0.00/173 [00:00<?, ?B/s]"
            ],
            "application/vnd.jupyter.widget-view+json": {
              "version_major": 2,
              "version_minor": 0,
              "model_id": "edbd1466ae034d8a9760a64e74d14b4f"
            }
          },
          "metadata": {}
        },
        {
          "output_type": "stream",
          "name": "stderr",
          "text": [
            "/usr/local/lib/python3.10/dist-packages/transformers/tokenization_utils_base.py:1601: FutureWarning: `clean_up_tokenization_spaces` was not set. It will be set to `True` by default. This behavior will be depracted in transformers v4.45, and will be then set to `False` by default. For more details check this issue: https://github.com/huggingface/transformers/issues/31884\n",
            "  warnings.warn(\n"
          ]
        }
      ],
      "source": [
        "model_nm = 'klue/roberta-small'\n",
        "base_model = AutoModel.from_pretrained(model_nm)\n",
        "tokenizer = AutoTokenizer.from_pretrained(model_nm)"
      ]
    },
    {
      "cell_type": "markdown",
      "metadata": {
        "id": "5oOacaEon0UF"
      },
      "source": [
        "토크나이저의 역할은 문장을 토큰이라고 하는 작은 단위 (더이상 나눌 수 없는 가장 작은 단위)로 나누어주고 pretrained tokenizer에 그 토큰이 어디에 저장되어 있는지 input_ids로 되돌려준다.\n",
        "\n",
        "밑 코드는 그 input_ids 길이가 어떤지 histogram으로 그려본 것이다.\n",
        "\n",
        "(저도 이 분야는 신생아라 틀린 부분이 있을 수 있습니다.)"
      ]
    },
    {
      "cell_type": "code",
      "execution_count": 8,
      "metadata": {
        "id": "KEQLLKFwn0UF",
        "colab": {
          "base_uri": "https://localhost:8080/",
          "height": 448
        },
        "outputId": "2dfa30d8-aa96-43fc-eed7-54c3381256c3"
      },
      "outputs": [
        {
          "output_type": "display_data",
          "data": {
            "text/plain": [
              "<Figure size 640x480 with 1 Axes>"
            ],
            "image/png": "[encoded data removed]"
          },
          "metadata": {}
        },
        {
          "output_type": "stream",
          "name": "stdout",
          "text": [
            "log value : 90.4092368060602\n"
          ]
        }
      ],
      "source": [
        "tokenizer_len = [len(tokenizer(s)['input_ids']) for s in train['문장']]\n",
        "sns.histplot(tokenizer_len)\n",
        "plt.show()\n",
        "\n",
        "print(f'log value : {np.mean(tokenizer_len)+3*np.std(tokenizer_len)}')"
      ]
    },
    {
      "cell_type": "markdown",
      "metadata": {
        "id": "AnOcm61Gn0UF"
      },
      "source": [
        "따라서, log를 취해주면"
      ]
    },
    {
      "cell_type": "code",
      "execution_count": 9,
      "metadata": {
        "id": "H8zpSwjKn0UF",
        "colab": {
          "base_uri": "https://localhost:8080/",
          "height": 466
        },
        "outputId": "adb0e8ad-1e19-460e-99ea-deb13f491d46"
      },
      "outputs": [
        {
          "output_type": "display_data",
          "data": {
            "text/plain": [
              "<Figure size 640x480 with 1 Axes>"
            ],
            "image/png": "[encoded data removed]"
          },
          "metadata": {}
        },
        {
          "output_type": "stream",
          "name": "stdout",
          "text": [
            "log value : 4.8974082584991345\n",
            "original value : 133.94218592094492\n"
          ]
        }
      ],
      "source": [
        "tokenizer_log = np.log(tokenizer_len)\n",
        "sns.histplot(tokenizer_log)\n",
        "plt.show()\n",
        "\n",
        "print(f'log value : {np.mean(tokenizer_log)+3*np.std(tokenizer_log)}')\n",
        "print(f'original value : {np.exp(np.mean(tokenizer_log)+3*np.std(tokenizer_log))}')"
      ]
    },
    {
      "cell_type": "markdown",
      "metadata": {
        "id": "gkmCvmd8n0UF"
      },
      "source": [
        "따라서, 적정선은 90에서 134 사이가 아닐까 생각된다."
      ]
    },
    {
      "cell_type": "markdown",
      "metadata": {
        "id": "ikA_5nSHn0UF"
      },
      "source": [
        "위 값은 잠깐 뒤로하고 아래 코드를 위부터 설명하자면,\n",
        "\n",
        "torch.utils.data의 Dataset의 child class인 SentenceTypeDataset을 만들어준다. 이는 pytorch neural network에 내 맘대로\n",
        "x가 뭔지 y가 뭔지 정한 dataset을 제공하기 위한 클래스이다. 만드는데 꼭 필요한 function은 총 3가지이다.\n",
        "\n",
        "_ _ init _ _()\n",
        "- x랑 y가 뭔지 저장해줘야 한다.\n",
        "- 이때 이번에는 텍스트 데이터를 다뤄주기때문에 dataframe, tokenizer, labels를 parameter로 넣어줬고 dataframe의 문장을 tokenizer로 토큰화 시킨다음 self.texts에 저장해주고 입력받은 labels는 그대로 self.labels에 저장해줬다.\n",
        "- batch에 들어가는 입력들은 input size가 다 같아야 한다. 따라서 tokenizer로 나온 값들을 그대로 넣어버리면 오류가 난다. 위 히스토그램에서 볼 수 있듯이 문장마다 다르기 때문. 따라서 위 값(90)으로 tokenizer의 max_length를 정해주고 max_length보다 작은 길이들은 padding으로 채워주고 긴 길이들은 truncation으로 잘라준다. 이때 max_length는 길면 길수록 training time이 늘어난다.\n",
        "- tokenizer안에 return_tensors의 pt는 tensor로 tokenizer값을 리턴해준다는 뜻이다.\n",
        "\n",
        "_ _ len _ _()\n",
        "- self.texts의 길이는 리턴해줍니다.\n",
        "\n",
        "_ _ getitem _ _()\n",
        "- idx에 해당되는 x와 y를 리턴해줍니다.\n",
        "- x는 self.texts에서 가져오고 y는 그 텍스트(x)에 해당되는 type, polarity, tense, certainty를 리턴하면 됩니다.\n",
        "- 나중 코드에서 나오겠지만 미리 설명을 하자면 labels는 train, val set에서만 dictionary형태로 주어진다. 이때 type, polarity, tense, certainty가 key고 해당 레이블에 해당되는 값을 one-hot encoding한게 value다.\n",
        "- dictionary에 저장된 형태는 list고 pytorch에는 tensor 형태로 넣어줘야하기 때문에 torch.Tensor()로 형태를 바꾸어준다.\n",
        "- test set의 경우 labels이 주어지지 않기 때문에 똑같은 길이지만 -1로 채워놓은 tensor를 리턴해준다."
      ]
    },
    {
      "cell_type": "code",
      "execution_count": 10,
      "metadata": {
        "id": "Dm6gWhsAn0UF"
      },
      "outputs": [],
      "source": [
        "class SentenceTypeDataset(Dataset):\n",
        "    def __init__(self, dataframe, tokenizer, labels=None):\n",
        "        texts = dataframe['문장'].values.tolist()\n",
        "\n",
        "        self.texts = [tokenizer(text, padding='max_length', max_length=90, truncation=True, return_tensors='pt') for text in texts]\n",
        "        self.labels = labels\n",
        "\n",
        "    def __len__(self):\n",
        "        return len(self.texts)\n",
        "\n",
        "    def __getitem__(self, idx):\n",
        "        text = self.texts[idx]\n",
        "\n",
        "        if self.labels is not None:\n",
        "            type_tmp = self.labels['type'][idx]\n",
        "            polarity_tmp = self.labels['polarity'][idx]\n",
        "            tense_tmp = self.labels['tense'][idx]\n",
        "            certainty_tmp = self.labels['certainty'][idx]\n",
        "            return text, torch.Tensor(type_tmp), torch.Tensor(polarity_tmp), torch.Tensor(tense_tmp), torch.Tensor(certainty_tmp)\n",
        "        else:\n",
        "            return text, torch.Tensor([-1,-1,-1,-1]), torch.Tensor([-1,-1,-1]), torch.Tensor([-1,-1,-1]), torch.Tensor([-1,-1])"
      ]
    },
    {
      "cell_type": "markdown",
      "metadata": {
        "id": "_ydzoI20n0UF"
      },
      "source": [
        "다음으로는 Classifier class를 만드는 것이다.\n",
        "\n",
        "\\__init__()\n",
        "- 우선 nn.Module의 child class이기 때문에 \\__init__() 안에 super().\\__init__()을 불러주고 base_model을 통해서 받을 pretrained_model을 self.klue에 저장한다.\n",
        "이때 klue의 output features는 768이다. 확인방법은 base_model을 셀에 쳐보면 된다. (더 쉬운 방법이 있으면 알려주세요)\n",
        "\n",
        "- transfer learning의 기본적인 방법은 중간에 hidden layer는 pretrained_model의 것을 이용하고 output layer를 내가 원하는 방향으로 만들어서 training 하는 것이다. 따라서, self.fc1, self.type_clf, self.softmax 등등 다양한 레이어들을 추가해줬다. 이때 self.fc1에는 nn.Linear(768, 32)를 저장해줬는데, 이는 in_feature로 768, out_feature로는 32를 내보낸다는 뜻이다. 일반적으로 알고 있는 dense layer의 역할을 한다. 그 다음으로는 self.relu에 nn.ReLU()를 저장해서 activation function으로 사용해줬다. 그 다음으로는 multilabel classification 문제이기 때문에 각 label마다 nn.Linear(32, # of types)으로 레이어를 만들어줬다. 이때 # of types만큼의 out_feature가 필요한 이유는 types들을 one-hot encoding을 해줬기 때문이다. 그 다음으로는 classification에 많이 사용되는 nn.Softmax(dim=1)을 넣어줬다. softmax에서 나온 값들의 합은 1로써 어느 type에 해당되는지 확률들을 리턴해준다. 이때 합해져야되는 값들이 dim=1에 있기때문에 dim=1이라는 파라미터를 넣어주었다.\n",
        "\n",
        "\\__forward__()\n",
        "- 그 다음으로 꼭 작성해줘야 하는 function은 forward다. (backward는 필요없음) 여기서는 위에서 작성한 레이어들을 어느 순서로 지나칠지 순서를 정해주는 단계이다. 우선, pretrained_model을 지나고 나온 output을 fc1과 relu에 넘겨주고 그 다음으로는 각 label의 clf-softmax 페어를 지나쳐준다. 그리고 나온 4개의 output을 리턴해주면 된다.\n",
        "- multilabel이기 때문에 4개의 값을 리턴해주는거지 단순하게 binary 또는 multiclassification이면 보통 1개의 output만을 리턴해주면 된다.\n",
        "- 아래 코드에 써있듯이 input_ids는 토큰에 해당되는 ids들, attention_mask는 어느 토큰에 집중해야되는지 알려주는 역할을 한다. 이는 왜 필요하나 하면 padding 단계에서 추가된 padding token에 대한 접근을 막기위해 사용된다."
      ]
    },
    {
      "cell_type": "code",
      "execution_count": 11,
      "metadata": {
        "id": "FjU_XG1Mn0UG"
      },
      "outputs": [],
      "source": [
        "class SentenceClassifier(nn.Module):\n",
        "    def __init__(self, base_model):\n",
        "        super().__init__()\n",
        "        self.klue = base_model # from transformers package\n",
        "\n",
        "        self.fc1 = nn.Linear(768, 32)\n",
        "        self.relu = nn.ReLU()\n",
        "        self.type_clf = nn.Linear(32,4)\n",
        "        self.polarity_clf = nn.Linear(32,3)\n",
        "        self.tense_clf = nn.Linear(32,3)\n",
        "        self.certainty_clf = nn.Linear(32,2)\n",
        "        self.softmax = nn.Softmax(dim=1)\n",
        "\n",
        "    def forward(self, input_ids, attention_mask):\n",
        "        # input_ids : token's id / attention_mask : make a model to focus on which token\n",
        "        klue_out = self.klue(input_ids= input_ids, attention_mask = attention_mask)[0][:,0]\n",
        "\n",
        "        x = self.fc1(klue_out)\n",
        "        x = self.relu(x)\n",
        "\n",
        "        type_output = self.type_clf(x)\n",
        "        type_output = self.softmax(type_output)\n",
        "        polarity_output = self.polarity_clf(x)\n",
        "        polarity_output = self.softmax(polarity_output)\n",
        "        tense_output = self.tense_clf(x)\n",
        "        tense_output = self.softmax(tense_output)\n",
        "        certainty_output = self.certainty_clf(x)\n",
        "        certainty_output = self.softmax(certainty_output)\n",
        "\n",
        "        return type_output, polarity_output, tense_output, certainty_output"
      ]
    },
    {
      "cell_type": "markdown",
      "metadata": {
        "id": "2W2ly2J_n0UG"
      },
      "source": [
        "다음으로는! training 단계이다.\n",
        "\n",
        "우선 val_loss를 기준으로 early_stop을 할건지 말건지 정하기 때문에 best_val_loss를 설정해주었고, crossentropyloss를 이용할건데 작아질수록 좋은 값이기 때문에 최초값은 높은 값으로 설정해주었다.\n",
        "\n",
        "그 다음으로는 criterion인데 이는 loss function이다. 4개의 다른 label들이 있기 때문에 dictionary에 4개를 넣어주었다. 나중 단계에서 criterion에 있는 CrossEntropyLoss를 통해서 true값과 pred값의 차이를 구하고 어떤 방향으로 weights를 조정해야되는지 정한다.\n",
        "\n",
        "optimizer는 어떤 방식으로 최적화를 한걸지 정해주는 변수인데, 일반적으로 많이 쓰이는 Adam을 써줬다. Adam 안에는 모델의 파라미터(model.parameters())와 learning_rate를 넣어주었다. 위에서 언급했듯이 이때 learning_rate가 큰지 작은지에 따라 training 속도가 결정난다. 그 다음으로는 모델을 gpu로 보내주었다. 이 코드가 있어야 gpu를 사용해서 training 한다.\n",
        "- mac m칩 유저의 경우 “PYTORCH_ENABLE_MPS_FALLBACK=1”를 설정해줘야 mps가 안되는 코드는 cpu로 계산을 해준다. (2022/12/16 cumsum은 mps로 계산이 안됨)\n",
        "\n",
        "그리고 주어진 epochs만큰 for loop을 돌리는데 그 밑에 있는 total_acc_train은 total_f1_train으로 바뀌어야 맞다. 이 부분은 중간에 f1 계산하는 코드 넣는거를 까먹고 못하고 코드를 그대로 돌려서 남은 것이니 만약 이 코드 그대로 돌린다고 하면 바꾸어주길 바란다. 그 밑에 total_loss_train은 epoch별로 loss 값이 어땠는지 기록해주기 위해 만든 변수다.\n",
        "\n",
        "그 다음으로는 model.train()이 있는데 이는 model을 training 모드로 만들어주는거다. 이렇게 해야 weight들이 업데이트된다. 이와 반대로 나중에 val이나 test set을 모델에 넘겨줄때는 model.eval()을 불러줘야한다. 이래야 weights들이 업데이트 되지 않는다.\n",
        "\n",
        "그 다음으로는 train_dataloader를 for loop으로 돌려주는데 뒤에 나오겠지만 dataloader는 지정해준 batch_size만큼 item의 x와 y를 넘겨준다. 이때 쓰이는 것이 위에서 만들어준 SentenceTypeDataset의 getitem()이다. 따라서, 5개의 변수 (train_input, type_label, polarity_label, tense_label, certainty_label)로 받아야한다. 그 다음으로는 train_input에 있는 attention_mask와 input_ids와 label들을 device로 넘겨준다.\n",
        "\n",
        "그리고 training을 시작하기 전에 optimizer.grad()를 설정해줘서 매 epoch마다 전에 썼던 값들을 기억하는 것이 아니라 0 베이스에서 시작하게 해준다. epoch를 통한 값들의 정확한 업데이트를 위해서는 꼭 필요한 코드다.\n",
        "\n",
        "그리고 나서 model에 input_ids와 attention_mask를 넣어서 얻은 4개의 값들을 저장해준다. 이때 이 값들은 각 label마다 one-hot encoding된 컬럼에 해당될 확률들이다. 바로 다음에 이 값들은 criterion에 있는 CrossEntropyLoss()로 들어가서 실제와 얼마나 유사한지 계산되고 그 계산된 값을 total_loss_train에 저장해준다.\n",
        "\n",
        "그 다음으로는 계산된 loss 값을 바탕으로 backpropagation(loss.backward()과 optimizer.step()을 통해서)을 진행하여 weights들을 업데이트해준다.\n",
        "\n",
        "이렇게 training data를 다 거쳤다면 그 다음은 validation data 차례다. 우선 with torch.no_grad()과 model.eval()을 불러주어서 weights들을 업데이트하는게 아니라는 것을 선언해준다. 그 후에는 training data에서 했던 방식이랑 다 같지만 optimizer.zero_grad(), loss.backward(), optimier.step()만 빠진다. weights들을 업데이트하지 않기 때문.\n",
        "\n",
        "그 다음으로는 지금까지 저장한 loss와 metric을 프린트해주고, val_loss가 좋아졌는지 여부에 따라서 모델을 저장할 것인지 early stop 할 것인지 정해준다."
      ]
    },
    {
      "cell_type": "code",
      "execution_count": 12,
      "metadata": {
        "id": "uChaWMcLn0UG"
      },
      "outputs": [],
      "source": [
        "from sklearn.metrics import f1_score\n",
        "import numpy as np\n",
        "import torch\n",
        "\n",
        "def sentence_train(model, train_dataloader, val_dataloader, learning_rate, epochs, model_nm):\n",
        "    best_val_loss = 99999999999999  # setting max (act as infinity)\n",
        "    early_stopping_threshold_count = 0\n",
        "\n",
        "    criterion = {\n",
        "        'type': nn.CrossEntropyLoss().to(device),\n",
        "        'polarity': nn.CrossEntropyLoss().to(device),\n",
        "        'tense': nn.CrossEntropyLoss().to(device),\n",
        "        'certainty': nn.CrossEntropyLoss().to(device)\n",
        "    }\n",
        "\n",
        "    optimizer = torch.optim.Adam(model.parameters(), lr=learning_rate)\n",
        "    model = model.to(device)\n",
        "\n",
        "    for epoch in range(epochs):\n",
        "        total_f1_train = 0  # F1 score for training set\n",
        "        total_loss_train = 0\n",
        "\n",
        "        model.train()  # sets into the training mode\n",
        "\n",
        "        all_true_labels = []\n",
        "        all_pred_labels = []\n",
        "\n",
        "        for train_input, type_label, polarity_label, tense_label, certainty_label in tqdm(train_dataloader):\n",
        "            attention_mask = train_input['attention_mask'].to(device)\n",
        "            input_ids = train_input['input_ids'].squeeze(1).to(device)\n",
        "            type_label = type_label.to(device)\n",
        "            polarity_label = polarity_label.to(device)\n",
        "            tense_label = tense_label.to(device)\n",
        "            certainty_label = certainty_label.to(device)\n",
        "\n",
        "            optimizer.zero_grad()  # 가중치를 업데이트할 때 사용할 기울기를 초기화\n",
        "\n",
        "            type_output, polarity_output, tense_output, certainty_output = model(input_ids, attention_mask)  # from the forward function\n",
        "\n",
        "            loss = 0.25 * criterion['type'](type_output, type_label) + \\\n",
        "                   0.25 * criterion['polarity'](polarity_output, polarity_label) + \\\n",
        "                   0.25 * criterion['tense'](tense_output, tense_label) + \\\n",
        "                   0.25 * criterion['certainty'](certainty_output, certainty_label)\n",
        "            total_loss_train += loss.item()\n",
        "\n",
        "            loss.backward()\n",
        "            optimizer.step()\n",
        "\n",
        "            # Collect true labels and predicted labels for F1 score calculation\n",
        "            all_true_labels.append(type_label.cpu().numpy())  # True labels\n",
        "            all_pred_labels.append(torch.argmax(type_output, dim=1).cpu().numpy())  # Predicted labels\n",
        "\n",
        "        # Flatten the list of true and predicted labels\n",
        "\n",
        "        all_true_labels = np.argmax(np.concatenate(all_true_labels), axis=1) if all_true_labels[0].ndim > 1 else np.concatenate(all_true_labels)\n",
        "        all_pred_labels = np.argmax(np.concatenate(all_pred_labels), axis=1) if all_pred_labels[0].ndim > 1 else np.concatenate(all_pred_labels)\n",
        "\n",
        "        print(all_true_labels)\n",
        "        print(all_pred_labels)\n",
        "        # Compute F1 score for training\n",
        "        total_f1_train = f1_score(all_true_labels, all_pred_labels, average='weighted')  # 'weighted' for multiclass\n",
        "\n",
        "        with torch.no_grad():  # since we should not change gradient for validation\n",
        "            total_f1_val = 0  # F1 score for validation set\n",
        "            total_loss_val = 0\n",
        "\n",
        "            model.eval()  # deactivate training\n",
        "\n",
        "            all_true_val_labels = []\n",
        "            all_pred_val_labels = []\n",
        "\n",
        "            for val_input, vtype_label, vpolarity_label, vtense_label, vcertainty_label in tqdm(val_dataloader):\n",
        "                attention_mask = val_input['attention_mask'].to(device)\n",
        "                input_ids = val_input['input_ids'].squeeze(1).to(device)\n",
        "\n",
        "                vtype_label = vtype_label.to(device)\n",
        "                vpolarity_label = vpolarity_label.to(device)\n",
        "                vtense_label = vtense_label.to(device)\n",
        "                vcertainty_label = vcertainty_label.to(device)\n",
        "\n",
        "                vtype_output, vpolarity_output, vtense_output, vcertainty_output = model(input_ids, attention_mask)  # from the forward function\n",
        "\n",
        "                loss = 0.25 * criterion['type'](vtype_output, vtype_label) + \\\n",
        "                        0.25 * criterion['polarity'](vpolarity_output, vpolarity_label) + \\\n",
        "                        0.25 * criterion['tense'](vtense_output, vtense_label) + \\\n",
        "                        0.25 * criterion['certainty'](vcertainty_output, vcertainty_label)\n",
        "\n",
        "                total_loss_val += loss.item()\n",
        "\n",
        "                # Collect true labels and predicted labels for F1 score calculation\n",
        "                all_true_val_labels.append(vtype_label.cpu().numpy())  # True labels\n",
        "                all_pred_val_labels.append(torch.argmax(vtype_output, dim=1).cpu().numpy())  # Predicted labels\n",
        "\n",
        "            # Flatten the list of true and predicted labels\n",
        "            all_true_val_labels = np.argmax(np.concatenate(all_true_val_labels), axis=1) if all_true_val_labels[0].ndim > 1 else np.concatenate(all_true_val_labels)\n",
        "            all_pred_val_labels = np.argmax(np.concatenate(all_pred_val_labels), axis=1) if all_pred_val_labels[0].ndim > 1 else np.concatenate(all_pred_val_labels)\n",
        "\n",
        "            print(all_true_val_labels)\n",
        "            print(all_pred_val_labels)\n",
        "            # Compute F1 score for validation\n",
        "            total_f1_val = f1_score(all_true_val_labels, all_pred_val_labels, average='weighted')  # 'weighted' for multiclass\n",
        "\n",
        "            os.makedirs(\"model\", exist_ok=True)\n",
        "\n",
        "            print(f'Epochs: {epoch + 1} '\n",
        "                  f'| Train Loss: {total_loss_train / len(train_dataloader): .3f} '\n",
        "                  f'| Train F1 Score: {total_f1_train: .3f} '\n",
        "                  f'| Val Loss: {total_loss_val / len(val_dataloader): .3f} '\n",
        "                  f'| Val F1 Score: {total_f1_val: .3f}')\n",
        "\n",
        "            if best_val_loss > total_loss_val:\n",
        "                best_val_loss = total_loss_val  # saving only the best one\n",
        "                torch.save(model, f\"model/{model_nm}.pt\")\n",
        "                print(\"Saved model\")\n",
        "                early_stopping_threshold_count = 0\n",
        "            else:\n",
        "                early_stopping_threshold_count += 1  # checking how many epochs have passed that val_loss didn't increase\n",
        "\n",
        "            if early_stopping_threshold_count >= 3:  # ==> patience=1\n",
        "                print(\"Early stopping\")\n",
        "                break\n"
      ]
    },
    {
      "cell_type": "markdown",
      "metadata": {
        "id": "h1B3zH4Cn0UG"
      },
      "source": [
        "필요한 class, function들은 다 적었으니 이제 dataset들을 준비할 차례다.\n",
        "\n",
        "우선 train에서 label을 제외한 나머지 컬럼들만 킵해주고 그중에서도 유형,극성,시제,확실성을 pd.get_dummies로 one-hot encoding해준다."
      ]
    },
    {
      "cell_type": "code",
      "execution_count": 13,
      "metadata": {
        "id": "2cp8CqOPn0UG",
        "colab": {
          "base_uri": "https://localhost:8080/",
          "height": 1000
        },
        "outputId": "8c22efe0-49d7-4535-c487-58063d60204e"
      },
      "outputs": [
        {
          "output_type": "execute_result",
          "data": {
            "text/plain": [
              "                                                      문장  유형_대화형  유형_사실형  \\\n",
              "0      용산구청 관계자는 ＂재정이 열악한 지자체로서는 1800억원을 마련할 수 없다＂며 서...   False    True   \n",
              "1      부산시는 이처럼 부산이 가파른 상승세를 보이는 이유에 대해 지난해부터 추진하고 있는...   False    True   \n",
              "2      그러나 미숙아, 만성호흡기질환, 선천 심장병, 선천 면역결핍질환, 암환자 등의 고위...   False    True   \n",
              "3                          탁구 종목에서 중국 대표팀 위상이 뛰어나기 때문이다.   False   False   \n",
              "4      이 논문에 따르면 ＇BT-11＇은 뇌의 신경전달물질인 아세틸콜린을 분해하는 효소의 ...   False    True   \n",
              "...                                                  ...     ...     ...   \n",
              "13227                          우리가 익히 아는 대로 임꺽정은 신출귀몰했다.   False    True   \n",
              "13228  김 상무보는 ＂실제 이용자 수와 인당 사용시간 등 주요 데이터가 매년 두 자릿수 상...   False    True   \n",
              "13229  ＇디폴트 옵션＇의 필요성을 주장해온 쪽이 항상 사례로 들어온 것이 ＇401K＇로 불...    True   False   \n",
              "13230  1992년부터 선양시 조선족노인협회를 후원하기 시작해 1997년에는 1500㎡ 건물...   False    True   \n",
              "13231               차량은 고속 상태지만 운전자는 정체모드에서 사고가 많이 발생한다.   False    True   \n",
              "\n",
              "       유형_예측형  유형_추론형  극성_긍정  극성_미정  극성_부정  시제_과거  시제_미래  시제_현재  확실성_불확실  \\\n",
              "0       False   False   True  False  False   True  False  False    False   \n",
              "1       False   False   True  False  False   True  False  False    False   \n",
              "2       False   False   True  False  False  False  False   True    False   \n",
              "3       False    True   True  False  False  False  False   True    False   \n",
              "4       False   False   True  False  False  False  False   True    False   \n",
              "...       ...     ...    ...    ...    ...    ...    ...    ...      ...   \n",
              "13227   False   False   True  False  False   True  False  False    False   \n",
              "13228   False   False   True  False  False   True  False  False    False   \n",
              "13229   False   False   True  False  False  False  False   True    False   \n",
              "13230   False   False   True  False  False   True  False  False    False   \n",
              "13231   False   False   True  False  False  False  False   True    False   \n",
              "\n",
              "       확실성_확실  \n",
              "0        True  \n",
              "1        True  \n",
              "2        True  \n",
              "3        True  \n",
              "4        True  \n",
              "...       ...  \n",
              "13227    True  \n",
              "13228    True  \n",
              "13229    True  \n",
              "13230    True  \n",
              "13231    True  \n",
              "\n",
              "[13232 rows x 13 columns]"
            ],
            "text/html": [
              "\n",
              "  <div id=\"df-f770db20-2db5-4bdb-866f-22f2dff1678b\" class=\"colab-df-container\">\n",
              "    <div>\n",
              "<style scoped>\n",
              "    .dataframe tbody tr th:only-of-type {\n",
              "        vertical-align: middle;\n",
              "    }\n",
              "\n",
              "    .dataframe tbody tr th {\n",
              "        vertical-align: top;\n",
              "    }\n",
              "\n",
              "    .dataframe thead th {\n",
              "        text-align: right;\n",
              "    }\n",
              "</style>\n",
              "<table border=\"1\" class=\"dataframe\">\n",
              "  <thead>\n",
              "    <tr style=\"text-align: right;\">\n",
              "      <th></th>\n",
              "      <th>문장</th>\n",
              "      <th>유형_대화형</th>\n",
              "      <th>유형_사실형</th>\n",
              "      <th>유형_예측형</th>\n",
              "      <th>유형_추론형</th>\n",
              "      <th>극성_긍정</th>\n",
              "      <th>극성_미정</th>\n",
              "      <th>극성_부정</th>\n",
              "      <th>시제_과거</th>\n",
              "      <th>시제_미래</th>\n",
              "      <th>시제_현재</th>\n",
              "      <th>확실성_불확실</th>\n",
              "      <th>확실성_확실</th>\n",
              "    </tr>\n",
              "  </thead>\n",
              "  <tbody>\n",
              "    <tr>\n",
              "      <th>0</th>\n",
              "      <td>용산구청 관계자는 ＂재정이 열악한 지자체로서는 1800억원을 마련할 수 없다＂며 서...</td>\n",
              "      <td>False</td>\n",
              "      <td>True</td>\n",
              "      <td>False</td>\n",
              "      <td>False</td>\n",
              "      <td>True</td>\n",
              "      <td>False</td>\n",
              "      <td>False</td>\n",
              "      <td>True</td>\n",
              "      <td>False</td>\n",
              "      <td>False</td>\n",
              "      <td>False</td>\n",
              "      <td>True</td>\n",
              "    </tr>\n",
              "    <tr>\n",
              "      <th>1</th>\n",
              "      <td>부산시는 이처럼 부산이 가파른 상승세를 보이는 이유에 대해 지난해부터 추진하고 있는...</td>\n",
              "      <td>False</td>\n",
              "      <td>True</td>\n",
              "      <td>False</td>\n",
              "      <td>False</td>\n",
              "      <td>True</td>\n",
              "      <td>False</td>\n",
              "      <td>False</td>\n",
              "      <td>True</td>\n",
              "      <td>False</td>\n",
              "      <td>False</td>\n",
              "      <td>False</td>\n",
              "      <td>True</td>\n",
              "    </tr>\n",
              "    <tr>\n",
              "      <th>2</th>\n",
              "      <td>그러나 미숙아, 만성호흡기질환, 선천 심장병, 선천 면역결핍질환, 암환자 등의 고위...</td>\n",
              "      <td>False</td>\n",
              "      <td>True</td>\n",
              "      <td>False</td>\n",
              "      <td>False</td>\n",
              "      <td>True</td>\n",
              "      <td>False</td>\n",
              "      <td>False</td>\n",
              "      <td>False</td>\n",
              "      <td>False</td>\n",
              "      <td>True</td>\n",
              "      <td>False</td>\n",
              "      <td>True</td>\n",
              "    </tr>\n",
              "    <tr>\n",
              "      <th>3</th>\n",
              "      <td>탁구 종목에서 중국 대표팀 위상이 뛰어나기 때문이다.</td>\n",
              "      <td>False</td>\n",
              "      <td>False</td>\n",
              "      <td>False</td>\n",
              "      <td>True</td>\n",
              "      <td>True</td>\n",
              "      <td>False</td>\n",
              "      <td>False</td>\n",
              "      <td>False</td>\n",
              "      <td>False</td>\n",
              "      <td>True</td>\n",
              "      <td>False</td>\n",
              "      <td>True</td>\n",
              "    </tr>\n",
              "    <tr>\n",
              "      <th>4</th>\n",
              "      <td>이 논문에 따르면 ＇BT-11＇은 뇌의 신경전달물질인 아세틸콜린을 분해하는 효소의 ...</td>\n",
              "      <td>False</td>\n",
              "      <td>True</td>\n",
              "      <td>False</td>\n",
              "      <td>False</td>\n",
              "      <td>True</td>\n",
              "      <td>False</td>\n",
              "      <td>False</td>\n",
              "      <td>False</td>\n",
              "      <td>False</td>\n",
              "      <td>True</td>\n",
              "      <td>False</td>\n",
              "      <td>True</td>\n",
              "    </tr>\n",
              "    <tr>\n",
              "      <th>...</th>\n",
              "      <td>...</td>\n",
              "      <td>...</td>\n",
              "      <td>...</td>\n",
              "      <td>...</td>\n",
              "      <td>...</td>\n",
              "      <td>...</td>\n",
              "      <td>...</td>\n",
              "      <td>...</td>\n",
              "      <td>...</td>\n",
              "      <td>...</td>\n",
              "      <td>...</td>\n",
              "      <td>...</td>\n",
              "      <td>...</td>\n",
              "    </tr>\n",
              "    <tr>\n",
              "      <th>13227</th>\n",
              "      <td>우리가 익히 아는 대로 임꺽정은 신출귀몰했다.</td>\n",
              "      <td>False</td>\n",
              "      <td>True</td>\n",
              "      <td>False</td>\n",
              "      <td>False</td>\n",
              "      <td>True</td>\n",
              "      <td>False</td>\n",
              "      <td>False</td>\n",
              "      <td>True</td>\n",
              "      <td>False</td>\n",
              "      <td>False</td>\n",
              "      <td>False</td>\n",
              "      <td>True</td>\n",
              "    </tr>\n",
              "    <tr>\n",
              "      <th>13228</th>\n",
              "      <td>김 상무보는 ＂실제 이용자 수와 인당 사용시간 등 주요 데이터가 매년 두 자릿수 상...</td>\n",
              "      <td>False</td>\n",
              "      <td>True</td>\n",
              "      <td>False</td>\n",
              "      <td>False</td>\n",
              "      <td>True</td>\n",
              "      <td>False</td>\n",
              "      <td>False</td>\n",
              "      <td>True</td>\n",
              "      <td>False</td>\n",
              "      <td>False</td>\n",
              "      <td>False</td>\n",
              "      <td>True</td>\n",
              "    </tr>\n",
              "    <tr>\n",
              "      <th>13229</th>\n",
              "      <td>＇디폴트 옵션＇의 필요성을 주장해온 쪽이 항상 사례로 들어온 것이 ＇401K＇로 불...</td>\n",
              "      <td>True</td>\n",
              "      <td>False</td>\n",
              "      <td>False</td>\n",
              "      <td>False</td>\n",
              "      <td>True</td>\n",
              "      <td>False</td>\n",
              "      <td>False</td>\n",
              "      <td>False</td>\n",
              "      <td>False</td>\n",
              "      <td>True</td>\n",
              "      <td>False</td>\n",
              "      <td>True</td>\n",
              "    </tr>\n",
              "    <tr>\n",
              "      <th>13230</th>\n",
              "      <td>1992년부터 선양시 조선족노인협회를 후원하기 시작해 1997년에는 1500㎡ 건물...</td>\n",
              "      <td>False</td>\n",
              "      <td>True</td>\n",
              "      <td>False</td>\n",
              "      <td>False</td>\n",
              "      <td>True</td>\n",
              "      <td>False</td>\n",
              "      <td>False</td>\n",
              "      <td>True</td>\n",
              "      <td>False</td>\n",
              "      <td>False</td>\n",
              "      <td>False</td>\n",
              "      <td>True</td>\n",
              "    </tr>\n",
              "    <tr>\n",
              "      <th>13231</th>\n",
              "      <td>차량은 고속 상태지만 운전자는 정체모드에서 사고가 많이 발생한다.</td>\n",
              "      <td>False</td>\n",
              "      <td>True</td>\n",
              "      <td>False</td>\n",
              "      <td>False</td>\n",
              "      <td>True</td>\n",
              "      <td>False</td>\n",
              "      <td>False</td>\n",
              "      <td>False</td>\n",
              "      <td>False</td>\n",
              "      <td>True</td>\n",
              "      <td>False</td>\n",
              "      <td>True</td>\n",
              "    </tr>\n",
              "  </tbody>\n",
              "</table>\n",
              "<p>13232 rows × 13 columns</p>\n",
              "</div>\n",
              "    <div class=\"colab-df-buttons\">\n",
              "\n",
              "  <div class=\"colab-df-container\">\n",
              "    <button class=\"colab-df-convert\" onclick=\"convertToInteractive('df-f770db20-2db5-4bdb-866f-22f2dff1678b')\"\n",
              "            title=\"Convert this dataframe to an interactive table.\"\n",
              "            style=\"display:none;\">\n",
              "\n",
              "  <svg xmlns=\"http://www.w3.org/2000/svg\" height=\"24px\" viewBox=\"0 -960 960 960\">\n",
              "    <path d=\"M120-120v-720h720v720H120Zm60-500h600v-160H180v160Zm220 220h160v-160H400v160Zm0 220h160v-160H400v160ZM180-400h160v-160H180v160Zm440 0h160v-160H620v160ZM180-180h160v-160H180v160Zm440 0h160v-160H620v160Z\"/>\n",
              "  </svg>\n",
              "    </button>\n",
              "\n",
              "  <style>\n",
              "    .colab-df-container {\n",
              "      display:flex;\n",
              "      gap: 12px;\n",
              "    }\n",
              "\n",
              "    .colab-df-convert {\n",
              "      background-color: #E8F0FE;\n",
              "      border: none;\n",
              "      border-radius: 50%;\n",
              "      cursor: pointer;\n",
              "      display: none;\n",
              "      fill: #1967D2;\n",
              "      height: 32px;\n",
              "      padding: 0 0 0 0;\n",
              "      width: 32px;\n",
              "    }\n",
              "\n",
              "    .colab-df-convert:hover {\n",
              "      background-color: #E2EBFA;\n",
              "      box-shadow: 0px 1px 2px rgba(60, 64, 67, 0.3), 0px 1px 3px 1px rgba(60, 64, 67, 0.15);\n",
              "      fill: #174EA6;\n",
              "    }\n",
              "\n",
              "    .colab-df-buttons div {\n",
              "      margin-bottom: 4px;\n",
              "    }\n",
              "\n",
              "    [theme=dark] .colab-df-convert {\n",
              "      background-color: #3B4455;\n",
              "      fill: #D2E3FC;\n",
              "    }\n",
              "\n",
              "    [theme=dark] .colab-df-convert:hover {\n",
              "      background-color: #434B5C;\n",
              "      box-shadow: 0px 1px 3px 1px rgba(0, 0, 0, 0.15);\n",
              "      filter: drop-shadow(0px 1px 2px rgba(0, 0, 0, 0.3));\n",
              "      fill: #FFFFFF;\n",
              "    }\n",
              "  </style>\n",
              "\n",
              "    <script>\n",
              "      const buttonEl =\n",
              "        document.querySelector('#df-f770db20-2db5-4bdb-866f-22f2dff1678b button.colab-df-convert');\n",
              "      buttonEl.style.display =\n",
              "        google.colab.kernel.accessAllowed ? 'block' : 'none';\n",
              "\n",
              "      async function convertToInteractive(key) {\n",
              "        const element = document.querySelector('#df-f770db20-2db5-4bdb-866f-22f2dff1678b');\n",
              "        const dataTable =\n",
              "          await google.colab.kernel.invokeFunction('convertToInteractive',\n",
              "                                                    [key], {});\n",
              "        if (!dataTable) return;\n",
              "\n",
              "        const docLinkHtml = 'Like what you see? Visit the ' +\n",
              "          '<a target=\"_blank\" href=https://colab.research.google.com/notebooks/data_table.ipynb>data table notebook</a>'\n",
              "          + ' to learn more about interactive tables.';\n",
              "        element.innerHTML = '';\n",
              "        dataTable['output_type'] = 'display_data';\n",
              "        await google.colab.output.renderOutput(dataTable, element);\n",
              "        const docLink = document.createElement('div');\n",
              "        docLink.innerHTML = docLinkHtml;\n",
              "        element.appendChild(docLink);\n",
              "      }\n",
              "    </script>\n",
              "  </div>\n",
              "\n",
              "\n",
              "<div id=\"df-f77f8d76-9842-4ef7-9a99-02e98be9df23\">\n",
              "  <button class=\"colab-df-quickchart\" onclick=\"quickchart('df-f77f8d76-9842-4ef7-9a99-02e98be9df23')\"\n",
              "            title=\"Suggest charts\"\n",
              "            style=\"display:none;\">\n",
              "\n",
              "<svg xmlns=\"http://www.w3.org/2000/svg\" height=\"24px\"viewBox=\"0 0 24 24\"\n",
              "     width=\"24px\">\n",
              "    <g>\n",
              "        <path d=\"M19 3H5c-1.1 0-2 .9-2 2v14c0 1.1.9 2 2 2h14c1.1 0 2-.9 2-2V5c0-1.1-.9-2-2-2zM9 17H7v-7h2v7zm4 0h-2V7h2v10zm4 0h-2v-4h2v4z\"/>\n",
              "    </g>\n",
              "</svg>\n",
              "  </button>\n",
              "\n",
              "<style>\n",
              "  .colab-df-quickchart {\n",
              "      --bg-color: #E8F0FE;\n",
              "      --fill-color: #1967D2;\n",
              "      --hover-bg-color: #E2EBFA;\n",
              "      --hover-fill-color: #174EA6;\n",
              "      --disabled-fill-color: #AAA;\n",
              "      --disabled-bg-color: #DDD;\n",
              "  }\n",
              "\n",
              "  [theme=dark] .colab-df-quickchart {\n",
              "      --bg-color: #3B4455;\n",
              "      --fill-color: #D2E3FC;\n",
              "      --hover-bg-color: #434B5C;\n",
              "      --hover-fill-color: #FFFFFF;\n",
              "      --disabled-bg-color: #3B4455;\n",
              "      --disabled-fill-color: #666;\n",
              "  }\n",
              "\n",
              "  .colab-df-quickchart {\n",
              "    background-color: var(--bg-color);\n",
              "    border: none;\n",
              "    border-radius: 50%;\n",
              "    cursor: pointer;\n",
              "    display: none;\n",
              "    fill: var(--fill-color);\n",
              "    height: 32px;\n",
              "    padding: 0;\n",
              "    width: 32px;\n",
              "  }\n",
              "\n",
              "  .colab-df-quickchart:hover {\n",
              "    background-color: var(--hover-bg-color);\n",
              "    box-shadow: 0 1px 2px rgba(60, 64, 67, 0.3), 0 1px 3px 1px rgba(60, 64, 67, 0.15);\n",
              "    fill: var(--button-hover-fill-color);\n",
              "  }\n",
              "\n",
              "  .colab-df-quickchart-complete:disabled,\n",
              "  .colab-df-quickchart-complete:disabled:hover {\n",
              "    background-color: var(--disabled-bg-color);\n",
              "    fill: var(--disabled-fill-color);\n",
              "    box-shadow: none;\n",
              "  }\n",
              "\n",
              "  .colab-df-spinner {\n",
              "    border: 2px solid var(--fill-color);\n",
              "    border-color: transparent;\n",
              "    border-bottom-color: var(--fill-color);\n",
              "    animation:\n",
              "      spin 1s steps(1) infinite;\n",
              "  }\n",
              "\n",
              "  @keyframes spin {\n",
              "    0% {\n",
              "      border-color: transparent;\n",
              "      border-bottom-color: var(--fill-color);\n",
              "      border-left-color: var(--fill-color);\n",
              "    }\n",
              "    20% {\n",
              "      border-color: transparent;\n",
              "      border-left-color: var(--fill-color);\n",
              "      border-top-color: var(--fill-color);\n",
              "    }\n",
              "    30% {\n",
              "      border-color: transparent;\n",
              "      border-left-color: var(--fill-color);\n",
              "      border-top-color: var(--fill-color);\n",
              "      border-right-color: var(--fill-color);\n",
              "    }\n",
              "    40% {\n",
              "      border-color: transparent;\n",
              "      border-right-color: var(--fill-color);\n",
              "      border-top-color: var(--fill-color);\n",
              "    }\n",
              "    60% {\n",
              "      border-color: transparent;\n",
              "      border-right-color: var(--fill-color);\n",
              "    }\n",
              "    80% {\n",
              "      border-color: transparent;\n",
              "      border-right-color: var(--fill-color);\n",
              "      border-bottom-color: var(--fill-color);\n",
              "    }\n",
              "    90% {\n",
              "      border-color: transparent;\n",
              "      border-bottom-color: var(--fill-color);\n",
              "    }\n",
              "  }\n",
              "</style>\n",
              "\n",
              "  <script>\n",
              "    async function quickchart(key) {\n",
              "      const quickchartButtonEl =\n",
              "        document.querySelector('#' + key + ' button');\n",
              "      quickchartButtonEl.disabled = true;  // To prevent multiple clicks.\n",
              "      quickchartButtonEl.classList.add('colab-df-spinner');\n",
              "      try {\n",
              "        const charts = await google.colab.kernel.invokeFunction(\n",
              "            'suggestCharts', [key], {});\n",
              "      } catch (error) {\n",
              "        console.error('Error during call to suggestCharts:', error);\n",
              "      }\n",
              "      quickchartButtonEl.classList.remove('colab-df-spinner');\n",
              "      quickchartButtonEl.classList.add('colab-df-quickchart-complete');\n",
              "    }\n",
              "    (() => {\n",
              "      let quickchartButtonEl =\n",
              "        document.querySelector('#df-f77f8d76-9842-4ef7-9a99-02e98be9df23 button');\n",
              "      quickchartButtonEl.style.display =\n",
              "        google.colab.kernel.accessAllowed ? 'block' : 'none';\n",
              "    })();\n",
              "  </script>\n",
              "</div>\n",
              "\n",
              "  <div id=\"id_9ffaa957-7e5f-47ae-bbf2-6de589466bbe\">\n",
              "    <style>\n",
              "      .colab-df-generate {\n",
              "        background-color: #E8F0FE;\n",
              "        border: none;\n",
              "        border-radius: 50%;\n",
              "        cursor: pointer;\n",
              "        display: none;\n",
              "        fill: #1967D2;\n",
              "        height: 32px;\n",
              "        padding: 0 0 0 0;\n",
              "        width: 32px;\n",
              "      }\n",
              "\n",
              "      .colab-df-generate:hover {\n",
              "        background-color: #E2EBFA;\n",
              "        box-shadow: 0px 1px 2px rgba(60, 64, 67, 0.3), 0px 1px 3px 1px rgba(60, 64, 67, 0.15);\n",
              "        fill: #174EA6;\n",
              "      }\n",
              "\n",
              "      [theme=dark] .colab-df-generate {\n",
              "        background-color: #3B4455;\n",
              "        fill: #D2E3FC;\n",
              "      }\n",
              "\n",
              "      [theme=dark] .colab-df-generate:hover {\n",
              "        background-color: #434B5C;\n",
              "        box-shadow: 0px 1px 3px 1px rgba(0, 0, 0, 0.15);\n",
              "        filter: drop-shadow(0px 1px 2px rgba(0, 0, 0, 0.3));\n",
              "        fill: #FFFFFF;\n",
              "      }\n",
              "    </style>\n",
              "    <button class=\"colab-df-generate\" onclick=\"generateWithVariable('train_tmp')\"\n",
              "            title=\"Generate code using this dataframe.\"\n",
              "            style=\"display:none;\">\n",
              "\n",
              "  <svg xmlns=\"http://www.w3.org/2000/svg\" height=\"24px\"viewBox=\"0 0 24 24\"\n",
              "       width=\"24px\">\n",
              "    <path d=\"M7,19H8.4L18.45,9,17,7.55,7,17.6ZM5,21V16.75L18.45,3.32a2,2,0,0,1,2.83,0l1.4,1.43a1.91,1.91,0,0,1,.58,1.4,1.91,1.91,0,0,1-.58,1.4L9.25,21ZM18.45,9,17,7.55Zm-12,3A5.31,5.31,0,0,0,4.9,8.1,5.31,5.31,0,0,0,1,6.5,5.31,5.31,0,0,0,4.9,4.9,5.31,5.31,0,0,0,6.5,1,5.31,5.31,0,0,0,8.1,4.9,5.31,5.31,0,0,0,12,6.5,5.46,5.46,0,0,0,6.5,12Z\"/>\n",
              "  </svg>\n",
              "    </button>\n",
              "    <script>\n",
              "      (() => {\n",
              "      const buttonEl =\n",
              "        document.querySelector('#id_9ffaa957-7e5f-47ae-bbf2-6de589466bbe button.colab-df-generate');\n",
              "      buttonEl.style.display =\n",
              "        google.colab.kernel.accessAllowed ? 'block' : 'none';\n",
              "\n",
              "      buttonEl.onclick = () => {\n",
              "        google.colab.notebook.generateWithVariable('train_tmp');\n",
              "      }\n",
              "      })();\n",
              "    </script>\n",
              "  </div>\n",
              "\n",
              "    </div>\n",
              "  </div>\n"
            ],
            "application/vnd.google.colaboratory.intrinsic+json": {
              "type": "dataframe",
              "variable_name": "train_tmp",
              "summary": "{\n  \"name\": \"train_tmp\",\n  \"rows\": 13232,\n  \"fields\": [\n    {\n      \"column\": \"\\ubb38\\uc7a5\",\n      \"properties\": {\n        \"dtype\": \"string\",\n        \"num_unique_values\": 13211,\n        \"samples\": [\n          \"\\uac1c\\ubc1c\\uc0ac \\ub137\\ub9c8\\ube14\\ub125\\uc11c\\uc2a4\\uc758 \\uae40\\uc815\\ubbfc \\ub300\\ud45c\\ub294 \\uff02\\uc6d0\\uc791 \\uff07\\uc138\\ube10\\ub098\\uc774\\uce20\\uff07\\ub294 \\uc2f1\\uae00 \\uc911\\uc2ec\\uc758 \\uac8c\\uc784\\uc73c\\ub85c \\uc7a5\\ub974\\uc801 \\ud55c\\uacc4\\uc5d0 \\ub300\\ud55c \\uc544\\uc26c\\uc6c0\\uc774 \\uc788\\uc5c8\\ub2e4\\uff02\\ub77c\\uba70 \\uff02\\uce5c\\uad6c\\uc640 \\uae38\\ub4dc\\uc6d0\\uc774 \\ud568\\uaed8 \\uc5b4\\uc6b0\\ub7ec\\uc838 \\uc990\\uae38 \\uc218 \\uc788\\ub294 \\uc138\\ube10\\ub098\\uc774\\uce20\\ub97c \\ub9cc\\ub4e4\\uace0 \\uc2f6\\uc5c8\\ub2e4\\uff02\\ub77c\\uace0 \\uc124\\uba85\\ud588\\ub2e4.\",\n          \"\\uc774\\ud6c4\\ub85c 1995\\ub144 \\uc7a5\\uae30 \\ubcf4\\uc874\\uc774 \\uac00\\ub2a5\\ud55c \\ud0c1\\uc8fc\\uc5d0 \\ud55c\\uc815\\ud558\\uc5ec \\uc804\\uad6d\\uc801\\uc778 \\uc2dc\\ud310\\ub3c4 \\ud5c8\\uc6a9\\ub410\\uc73c\\uba70, 2000\\ub144 \\ub4e4\\uc5b4\\uc11c\\uc11c \\uc804\\uccb4 \\ud0c1\\uc8fc\\uc5d0 \\ub300\\ud55c \\uacf5\\uae09\\uad6c\\uc5ed \\uc81c\\ud55c\\uc81c\\ub3c4\\uac00 \\ud3d0\\uc9c0\\ub418\\uba74\\uc11c \\uc804\\uad6d\\uc801\\uc73c\\ub85c \\uc9c0\\uba85\\ub3c4\\ub97c \\uac00\\uc9c4 \\uc804\\ud1b5\\uc8fc\\uc758 \\ucd9c\\uc2dc\\uac00 \\uac00\\ub2a5\\ud574\\uc84c\\ub2e4\\uace0 \\ud55c\\ub2e4.\",\n          \"\\uc804\\ud22c\\ub294 \\uac00\\ub85c\\uc138\\ub85c 3\\uce78\\uc529, \\ucd1d 9\\uce78\\uc73c\\ub85c \\uad6c\\uc131\\ub41c \\ubc30\\uce58\\ud310\\uc5d0 \\ucd5c\\ub300 5\\uba85\\uc758 \\ubb34\\uc7a5\\uc744 \\ubc30\\uce58\\ud558\\ub294 \\ud615\\ud0dc\\ub85c \\uc9c4\\ud589\\ub41c\\ub2e4.\"\n        ],\n        \"semantic_type\": \"\",\n        \"description\": \"\"\n      }\n    },\n    {\n      \"column\": \"\\uc720\\ud615_\\ub300\\ud654\\ud615\",\n      \"properties\": {\n        \"dtype\": \"boolean\",\n        \"num_unique_values\": 2,\n        \"samples\": [\n          true,\n          false\n        ],\n        \"semantic_type\": \"\",\n        \"description\": \"\"\n      }\n    },\n    {\n      \"column\": \"\\uc720\\ud615_\\uc0ac\\uc2e4\\ud615\",\n      \"properties\": {\n        \"dtype\": \"boolean\",\n        \"num_unique_values\": 2,\n        \"samples\": [\n          false,\n          true\n        ],\n        \"semantic_type\": \"\",\n        \"description\": \"\"\n      }\n    },\n    {\n      \"column\": \"\\uc720\\ud615_\\uc608\\uce21\\ud615\",\n      \"properties\": {\n        \"dtype\": \"boolean\",\n        \"num_unique_values\": 2,\n        \"samples\": [\n          true,\n          false\n        ],\n        \"semantic_type\": \"\",\n        \"description\": \"\"\n      }\n    },\n    {\n      \"column\": \"\\uc720\\ud615_\\ucd94\\ub860\\ud615\",\n      \"properties\": {\n        \"dtype\": \"boolean\",\n        \"num_unique_values\": 2,\n        \"samples\": [\n          true,\n          false\n        ],\n        \"semantic_type\": \"\",\n        \"description\": \"\"\n      }\n    },\n    {\n      \"column\": \"\\uadf9\\uc131_\\uae0d\\uc815\",\n      \"properties\": {\n        \"dtype\": \"boolean\",\n        \"num_unique_values\": 2,\n        \"samples\": [\n          false,\n          true\n        ],\n        \"semantic_type\": \"\",\n        \"description\": \"\"\n      }\n    },\n    {\n      \"column\": \"\\uadf9\\uc131_\\ubbf8\\uc815\",\n      \"properties\": {\n        \"dtype\": \"boolean\",\n        \"num_unique_values\": 2,\n        \"samples\": [\n          true,\n          false\n        ],\n        \"semantic_type\": \"\",\n        \"description\": \"\"\n      }\n    },\n    {\n      \"column\": \"\\uadf9\\uc131_\\ubd80\\uc815\",\n      \"properties\": {\n        \"dtype\": \"boolean\",\n        \"num_unique_values\": 2,\n        \"samples\": [\n          true,\n          false\n        ],\n        \"semantic_type\": \"\",\n        \"description\": \"\"\n      }\n    },\n    {\n      \"column\": \"\\uc2dc\\uc81c_\\uacfc\\uac70\",\n      \"properties\": {\n        \"dtype\": \"boolean\",\n        \"num_unique_values\": 2,\n        \"samples\": [\n          false,\n          true\n        ],\n        \"semantic_type\": \"\",\n        \"description\": \"\"\n      }\n    },\n    {\n      \"column\": \"\\uc2dc\\uc81c_\\ubbf8\\ub798\",\n      \"properties\": {\n        \"dtype\": \"boolean\",\n        \"num_unique_values\": 2,\n        \"samples\": [\n          true,\n          false\n        ],\n        \"semantic_type\": \"\",\n        \"description\": \"\"\n      }\n    },\n    {\n      \"column\": \"\\uc2dc\\uc81c_\\ud604\\uc7ac\",\n      \"properties\": {\n        \"dtype\": \"boolean\",\n        \"num_unique_values\": 2,\n        \"samples\": [\n          true,\n          false\n        ],\n        \"semantic_type\": \"\",\n        \"description\": \"\"\n      }\n    },\n    {\n      \"column\": \"\\ud655\\uc2e4\\uc131_\\ubd88\\ud655\\uc2e4\",\n      \"properties\": {\n        \"dtype\": \"boolean\",\n        \"num_unique_values\": 2,\n        \"samples\": [\n          true,\n          false\n        ],\n        \"semantic_type\": \"\",\n        \"description\": \"\"\n      }\n    },\n    {\n      \"column\": \"\\ud655\\uc2e4\\uc131_\\ud655\\uc2e4\",\n      \"properties\": {\n        \"dtype\": \"boolean\",\n        \"num_unique_values\": 2,\n        \"samples\": [\n          false,\n          true\n        ],\n        \"semantic_type\": \"\",\n        \"description\": \"\"\n      }\n    }\n  ]\n}"
            }
          },
          "metadata": {},
          "execution_count": 13
        }
      ],
      "source": [
        "train_tmp = train[['문장', '유형', '극성', '시제', '확실성']]\n",
        "train_tmp = pd.get_dummies(train_tmp, columns=['유형', '극성', '시제', '확실성'])\n",
        "train_tmp"
      ]
    },
    {
      "cell_type": "markdown",
      "metadata": {
        "id": "zdQx6etAn0UG"
      },
      "source": [
        "그 다음으로는 각 label별로 뽑아서 train_labels에 dictionary형태로 저장해준다."
      ]
    },
    {
      "cell_type": "code",
      "execution_count": 14,
      "metadata": {
        "id": "nePqb56pn0UG"
      },
      "outputs": [],
      "source": [
        "train_type = train_tmp.iloc[:,1:5].values.tolist()\n",
        "train_polarity = train_tmp.iloc[:,5:8].values.tolist()\n",
        "train_tense = train_tmp.iloc[:,8:11].values.tolist()\n",
        "train_certainty = train_tmp.iloc[:,11:13].values.tolist()\n",
        "train_labels = {\n",
        "    'type': train_type,\n",
        "    'polarity': train_polarity,\n",
        "    'tense': train_tense,\n",
        "    'certainty': train_certainty\n",
        "}"
      ]
    },
    {
      "cell_type": "markdown",
      "metadata": {
        "id": "ZXLFnQfqn0UG"
      },
      "source": [
        "똑같은 방식으로 validation data도 만든다."
      ]
    },
    {
      "cell_type": "code",
      "execution_count": 15,
      "metadata": {
        "id": "Ii91MruAn0UH"
      },
      "outputs": [],
      "source": [
        "val_tmp = val[['문장', '유형', '극성', '시제', '확실성']]\n",
        "val_tmp = pd.get_dummies(val_tmp, columns=['유형', '극성', '시제', '확실성'])\n",
        "\n",
        "val_type = val_tmp.iloc[:,1:5].values.tolist()\n",
        "val_polarity = val_tmp.iloc[:,5:8].values.tolist()\n",
        "val_tense = val_tmp.iloc[:,8:11].values.tolist()\n",
        "val_certainty = val_tmp.iloc[:,11:13].values.tolist()\n",
        "val_labels = {\n",
        "    'type': val_type,\n",
        "    'polarity': val_polarity,\n",
        "    'tense': val_tense,\n",
        "    'certainty': val_certainty\n",
        "}"
      ]
    },
    {
      "cell_type": "markdown",
      "metadata": {
        "id": "hetr05lzn0UH"
      },
      "source": [
        "train, val set가 준비되었다면 위에서 만든 SetenceTypeDataset에 dataframe, tokenizer, labels들을 넣어주고 SentenceTypeDataset, batch_size는 필수적으로 값을 정해서 DataLoader에 넣어준다. 위에서 잠깐 언급했듯이 DataLoader는 지정된 batch_size만큼 item들을 모델에 넘겨주어서 training 할 수 있게 해준다.\n",
        "\n",
        "여기서 shuffle는 item들을 랜덤하게 고른다는 의미고 num_workers는 설명을 봐도 잘 모르겠다."
      ]
    },
    {
      "cell_type": "code",
      "execution_count": 16,
      "metadata": {
        "id": "LAOt7rVwn0UH"
      },
      "outputs": [],
      "source": [
        "train_dataloader = DataLoader(SentenceTypeDataset(train_tmp, tokenizer, train_labels), batch_size=CFG['BATCH_SIZE'], shuffle=True, num_workers=0) # num_workers: how many subprocesses to use for data loading\n",
        "val_dataloader = DataLoader(SentenceTypeDataset(val_tmp, tokenizer, val_labels), batch_size=CFG['BATCH_SIZE'], num_workers=0)"
      ]
    },
    {
      "cell_type": "markdown",
      "metadata": {
        "id": "RHZOnSRnn0UH"
      },
      "source": [
        "그 다음으로는 base_model (klue를 이용한 pretrained_model)을 기반으로해서 SentenceClassifier를 불러준다."
      ]
    },
    {
      "cell_type": "code",
      "execution_count": 17,
      "metadata": {
        "id": "mXHw1x46n0UH"
      },
      "outputs": [],
      "source": [
        "model = SentenceClassifier(base_model)"
      ]
    },
    {
      "cell_type": "markdown",
      "metadata": {
        "id": "RkZ_zwp2n0UH"
      },
      "source": [
        "그리고 이제서야 training을 할 수 있는 상태에 온 것이다.\n",
        "\n",
        "위에서 만든 sentence_train function에 필요한 파라미터들을 보내주어서 training을 시작해준다.\n",
        "\n",
        "(위에서 말했듯이 f1을 계산 안하고 accuracy를 그대로 남겨주었기 때문에 accuracy는 계속 0이다.)"
      ]
    },
    {
      "cell_type": "code",
      "execution_count": 18,
      "metadata": {
        "id": "IBmBdZSdn0UH",
        "colab": {
          "base_uri": "https://localhost:8080/"
        },
        "outputId": "86d88a28-a2ff-4e11-e3bc-c4bf2cdd2185"
      },
      "outputs": [
        {
          "output_type": "stream",
          "name": "stderr",
          "text": [
            "100%|██████████| 414/414 [01:33<00:00,  4.44it/s]\n"
          ]
        },
        {
          "output_type": "stream",
          "name": "stdout",
          "text": [
            "[3 1 1 ... 1 3 1]\n",
            "[3 2 3 ... 1 1 1]\n"
          ]
        },
        {
          "output_type": "stream",
          "name": "stderr",
          "text": [
            "100%|██████████| 104/104 [00:08<00:00, 12.25it/s]\n"
          ]
        },
        {
          "output_type": "stream",
          "name": "stdout",
          "text": [
            "[1 1 1 ... 1 1 1]\n",
            "[1 1 1 ... 1 1 1]\n",
            "Epochs: 1 | Train Loss:  0.793 | Train F1 Score:  0.739 | Val Loss:  0.724 | Val F1 Score:  0.735\n",
            "Saved model\n"
          ]
        },
        {
          "output_type": "stream",
          "name": "stderr",
          "text": [
            "100%|██████████| 414/414 [01:40<00:00,  4.12it/s]\n"
          ]
        },
        {
          "output_type": "stream",
          "name": "stdout",
          "text": [
            "[1 1 1 ... 1 1 1]\n",
            "[1 1 1 ... 1 1 1]\n"
          ]
        },
        {
          "output_type": "stream",
          "name": "stderr",
          "text": [
            "100%|██████████| 104/104 [00:08<00:00, 12.05it/s]\n"
          ]
        },
        {
          "output_type": "stream",
          "name": "stdout",
          "text": [
            "[1 1 1 ... 1 1 1]\n",
            "[1 1 1 ... 1 1 1]\n",
            "Epochs: 2 | Train Loss:  0.694 | Train F1 Score:  0.739 | Val Loss:  0.673 | Val F1 Score:  0.740\n",
            "Saved model\n"
          ]
        },
        {
          "output_type": "stream",
          "name": "stderr",
          "text": [
            "100%|██████████| 414/414 [01:40<00:00,  4.12it/s]\n"
          ]
        },
        {
          "output_type": "stream",
          "name": "stdout",
          "text": [
            "[1 1 1 ... 1 1 3]\n",
            "[1 1 1 ... 1 1 1]\n"
          ]
        },
        {
          "output_type": "stream",
          "name": "stderr",
          "text": [
            "100%|██████████| 104/104 [00:08<00:00, 12.11it/s]\n"
          ]
        },
        {
          "output_type": "stream",
          "name": "stdout",
          "text": [
            "[1 1 1 ... 1 1 1]\n",
            "[1 1 1 ... 1 1 1]\n",
            "Epochs: 3 | Train Loss:  0.658 | Train F1 Score:  0.752 | Val Loss:  0.651 | Val F1 Score:  0.755\n",
            "Saved model\n"
          ]
        },
        {
          "output_type": "stream",
          "name": "stderr",
          "text": [
            "100%|██████████| 414/414 [01:40<00:00,  4.12it/s]\n"
          ]
        },
        {
          "output_type": "stream",
          "name": "stdout",
          "text": [
            "[1 1 3 ... 3 1 0]\n",
            "[1 1 1 ... 1 1 0]\n"
          ]
        },
        {
          "output_type": "stream",
          "name": "stderr",
          "text": [
            "100%|██████████| 104/104 [00:08<00:00, 12.06it/s]\n"
          ]
        },
        {
          "output_type": "stream",
          "name": "stdout",
          "text": [
            "[1 1 1 ... 1 1 1]\n",
            "[1 1 1 ... 1 1 1]\n",
            "Epochs: 4 | Train Loss:  0.639 | Train F1 Score:  0.779 | Val Loss:  0.639 | Val F1 Score:  0.791\n",
            "Saved model\n"
          ]
        },
        {
          "output_type": "stream",
          "name": "stderr",
          "text": [
            "100%|██████████| 414/414 [01:40<00:00,  4.12it/s]\n"
          ]
        },
        {
          "output_type": "stream",
          "name": "stdout",
          "text": [
            "[0 1 1 ... 3 3 1]\n",
            "[0 1 1 ... 1 1 1]\n"
          ]
        },
        {
          "output_type": "stream",
          "name": "stderr",
          "text": [
            "100%|██████████| 104/104 [00:08<00:00, 12.05it/s]\n"
          ]
        },
        {
          "output_type": "stream",
          "name": "stdout",
          "text": [
            "[1 1 1 ... 1 1 1]\n",
            "[1 1 1 ... 1 1 1]\n",
            "Epochs: 5 | Train Loss:  0.627 | Train F1 Score:  0.802 | Val Loss:  0.633 | Val F1 Score:  0.803\n",
            "Saved model\n"
          ]
        },
        {
          "output_type": "stream",
          "name": "stderr",
          "text": [
            "100%|██████████| 414/414 [01:40<00:00,  4.12it/s]\n"
          ]
        },
        {
          "output_type": "stream",
          "name": "stdout",
          "text": [
            "[1 1 1 ... 1 3 1]\n",
            "[1 1 1 ... 1 3 1]\n"
          ]
        },
        {
          "output_type": "stream",
          "name": "stderr",
          "text": [
            "100%|██████████| 104/104 [00:08<00:00, 12.19it/s]\n"
          ]
        },
        {
          "output_type": "stream",
          "name": "stdout",
          "text": [
            "[1 1 1 ... 1 1 1]\n",
            "[1 1 1 ... 1 1 1]\n",
            "Epochs: 6 | Train Loss:  0.618 | Train F1 Score:  0.818 | Val Loss:  0.629 | Val F1 Score:  0.828\n",
            "Saved model\n"
          ]
        },
        {
          "output_type": "stream",
          "name": "stderr",
          "text": [
            "100%|██████████| 414/414 [01:40<00:00,  4.12it/s]\n"
          ]
        },
        {
          "output_type": "stream",
          "name": "stdout",
          "text": [
            "[1 1 1 ... 1 1 1]\n",
            "[1 1 1 ... 1 1 1]\n"
          ]
        },
        {
          "output_type": "stream",
          "name": "stderr",
          "text": [
            "100%|██████████| 104/104 [00:08<00:00, 12.09it/s]\n"
          ]
        },
        {
          "output_type": "stream",
          "name": "stdout",
          "text": [
            "[1 1 1 ... 1 1 1]\n",
            "[1 1 1 ... 1 1 1]\n",
            "Epochs: 7 | Train Loss:  0.612 | Train F1 Score:  0.836 | Val Loss:  0.627 | Val F1 Score:  0.841\n",
            "Saved model\n"
          ]
        },
        {
          "output_type": "stream",
          "name": "stderr",
          "text": [
            "100%|██████████| 414/414 [01:40<00:00,  4.12it/s]\n"
          ]
        },
        {
          "output_type": "stream",
          "name": "stdout",
          "text": [
            "[1 1 3 ... 1 1 1]\n",
            "[1 1 3 ... 3 1 1]\n"
          ]
        },
        {
          "output_type": "stream",
          "name": "stderr",
          "text": [
            "100%|██████████| 104/104 [00:08<00:00, 12.22it/s]\n"
          ]
        },
        {
          "output_type": "stream",
          "name": "stdout",
          "text": [
            "[1 1 1 ... 1 1 1]\n",
            "[1 1 1 ... 1 1 1]\n",
            "Epochs: 8 | Train Loss:  0.607 | Train F1 Score:  0.867 | Val Loss:  0.622 | Val F1 Score:  0.872\n",
            "Saved model\n"
          ]
        },
        {
          "output_type": "stream",
          "name": "stderr",
          "text": [
            "100%|██████████| 414/414 [01:40<00:00,  4.12it/s]\n"
          ]
        },
        {
          "output_type": "stream",
          "name": "stdout",
          "text": [
            "[1 1 1 ... 3 1 1]\n",
            "[1 1 1 ... 1 1 1]\n"
          ]
        },
        {
          "output_type": "stream",
          "name": "stderr",
          "text": [
            "100%|██████████| 104/104 [00:08<00:00, 12.13it/s]\n"
          ]
        },
        {
          "output_type": "stream",
          "name": "stdout",
          "text": [
            "[1 1 1 ... 1 1 1]\n",
            "[1 1 1 ... 1 1 1]\n",
            "Epochs: 9 | Train Loss:  0.600 | Train F1 Score:  0.892 | Val Loss:  0.621 | Val F1 Score:  0.876\n",
            "Saved model\n"
          ]
        },
        {
          "output_type": "stream",
          "name": "stderr",
          "text": [
            "100%|██████████| 414/414 [01:40<00:00,  4.11it/s]\n"
          ]
        },
        {
          "output_type": "stream",
          "name": "stdout",
          "text": [
            "[1 3 1 ... 1 1 1]\n",
            "[1 3 1 ... 1 1 1]\n"
          ]
        },
        {
          "output_type": "stream",
          "name": "stderr",
          "text": [
            "100%|██████████| 104/104 [00:08<00:00, 12.09it/s]\n"
          ]
        },
        {
          "output_type": "stream",
          "name": "stdout",
          "text": [
            "[1 1 1 ... 1 1 1]\n",
            "[1 1 1 ... 1 1 1]\n",
            "Epochs: 10 | Train Loss:  0.594 | Train F1 Score:  0.905 | Val Loss:  0.618 | Val F1 Score:  0.879\n",
            "Saved model\n"
          ]
        },
        {
          "output_type": "stream",
          "name": "stderr",
          "text": [
            "100%|██████████| 414/414 [01:40<00:00,  4.12it/s]\n"
          ]
        },
        {
          "output_type": "stream",
          "name": "stdout",
          "text": [
            "[0 1 1 ... 1 3 1]\n",
            "[0 1 1 ... 1 3 1]\n"
          ]
        },
        {
          "output_type": "stream",
          "name": "stderr",
          "text": [
            "100%|██████████| 104/104 [00:08<00:00, 12.07it/s]\n"
          ]
        },
        {
          "output_type": "stream",
          "name": "stdout",
          "text": [
            "[1 1 1 ... 1 1 1]\n",
            "[1 1 1 ... 1 1 1]\n",
            "Epochs: 11 | Train Loss:  0.591 | Train F1 Score:  0.910 | Val Loss:  0.620 | Val F1 Score:  0.872\n"
          ]
        },
        {
          "output_type": "stream",
          "name": "stderr",
          "text": [
            "100%|██████████| 414/414 [01:40<00:00,  4.12it/s]\n"
          ]
        },
        {
          "output_type": "stream",
          "name": "stdout",
          "text": [
            "[3 1 1 ... 1 2 1]\n",
            "[3 1 1 ... 1 2 1]\n"
          ]
        },
        {
          "output_type": "stream",
          "name": "stderr",
          "text": [
            "100%|██████████| 104/104 [00:08<00:00, 12.18it/s]\n"
          ]
        },
        {
          "output_type": "stream",
          "name": "stdout",
          "text": [
            "[1 1 1 ... 1 1 1]\n",
            "[1 1 1 ... 1 1 1]\n",
            "Epochs: 12 | Train Loss:  0.587 | Train F1 Score:  0.922 | Val Loss:  0.618 | Val F1 Score:  0.880\n",
            "Saved model\n"
          ]
        },
        {
          "output_type": "stream",
          "name": "stderr",
          "text": [
            "100%|██████████| 414/414 [01:40<00:00,  4.11it/s]\n"
          ]
        },
        {
          "output_type": "stream",
          "name": "stdout",
          "text": [
            "[1 1 3 ... 1 1 1]\n",
            "[1 1 3 ... 1 1 1]\n"
          ]
        },
        {
          "output_type": "stream",
          "name": "stderr",
          "text": [
            "100%|██████████| 104/104 [00:08<00:00, 12.08it/s]\n"
          ]
        },
        {
          "output_type": "stream",
          "name": "stdout",
          "text": [
            "[1 1 1 ... 1 1 1]\n",
            "[1 1 1 ... 1 1 1]\n",
            "Epochs: 13 | Train Loss:  0.584 | Train F1 Score:  0.927 | Val Loss:  0.619 | Val F1 Score:  0.881\n"
          ]
        },
        {
          "output_type": "stream",
          "name": "stderr",
          "text": [
            "100%|██████████| 414/414 [01:40<00:00,  4.12it/s]\n"
          ]
        },
        {
          "output_type": "stream",
          "name": "stdout",
          "text": [
            "[1 1 1 ... 1 1 1]\n",
            "[1 1 1 ... 1 1 1]\n"
          ]
        },
        {
          "output_type": "stream",
          "name": "stderr",
          "text": [
            "100%|██████████| 104/104 [00:08<00:00, 12.14it/s]\n"
          ]
        },
        {
          "output_type": "stream",
          "name": "stdout",
          "text": [
            "[1 1 1 ... 1 1 1]\n",
            "[1 1 1 ... 1 1 1]\n",
            "Epochs: 14 | Train Loss:  0.581 | Train F1 Score:  0.932 | Val Loss:  0.620 | Val F1 Score:  0.878\n"
          ]
        },
        {
          "output_type": "stream",
          "name": "stderr",
          "text": [
            "100%|██████████| 414/414 [01:40<00:00,  4.12it/s]\n"
          ]
        },
        {
          "output_type": "stream",
          "name": "stdout",
          "text": [
            "[1 1 1 ... 1 1 1]\n",
            "[1 1 1 ... 1 1 1]\n"
          ]
        },
        {
          "output_type": "stream",
          "name": "stderr",
          "text": [
            "100%|██████████| 104/104 [00:08<00:00, 12.20it/s]\n"
          ]
        },
        {
          "output_type": "stream",
          "name": "stdout",
          "text": [
            "[1 1 1 ... 1 1 1]\n",
            "[1 1 1 ... 1 1 1]\n",
            "Epochs: 15 | Train Loss:  0.580 | Train F1 Score:  0.934 | Val Loss:  0.616 | Val F1 Score:  0.886\n",
            "Saved model\n"
          ]
        },
        {
          "output_type": "stream",
          "name": "stderr",
          "text": [
            "100%|██████████| 414/414 [01:40<00:00,  4.12it/s]\n"
          ]
        },
        {
          "output_type": "stream",
          "name": "stdout",
          "text": [
            "[1 1 1 ... 1 1 1]\n",
            "[1 1 1 ... 1 1 1]\n"
          ]
        },
        {
          "output_type": "stream",
          "name": "stderr",
          "text": [
            "100%|██████████| 104/104 [00:08<00:00, 12.13it/s]\n"
          ]
        },
        {
          "output_type": "stream",
          "name": "stdout",
          "text": [
            "[1 1 1 ... 1 1 1]\n",
            "[1 1 1 ... 1 1 1]\n",
            "Epochs: 16 | Train Loss:  0.578 | Train F1 Score:  0.938 | Val Loss:  0.617 | Val F1 Score:  0.877\n"
          ]
        },
        {
          "output_type": "stream",
          "name": "stderr",
          "text": [
            "100%|██████████| 414/414 [01:40<00:00,  4.12it/s]\n"
          ]
        },
        {
          "output_type": "stream",
          "name": "stdout",
          "text": [
            "[3 1 1 ... 1 1 1]\n",
            "[1 1 1 ... 1 1 1]\n"
          ]
        },
        {
          "output_type": "stream",
          "name": "stderr",
          "text": [
            "100%|██████████| 104/104 [00:08<00:00, 12.18it/s]\n"
          ]
        },
        {
          "output_type": "stream",
          "name": "stdout",
          "text": [
            "[1 1 1 ... 1 1 1]\n",
            "[1 1 1 ... 1 1 1]\n",
            "Epochs: 17 | Train Loss:  0.576 | Train F1 Score:  0.943 | Val Loss:  0.619 | Val F1 Score:  0.879\n"
          ]
        },
        {
          "output_type": "stream",
          "name": "stderr",
          "text": [
            "100%|██████████| 414/414 [01:40<00:00,  4.12it/s]\n"
          ]
        },
        {
          "output_type": "stream",
          "name": "stdout",
          "text": [
            "[1 1 1 ... 1 3 1]\n",
            "[1 1 1 ... 1 1 1]\n"
          ]
        },
        {
          "output_type": "stream",
          "name": "stderr",
          "text": [
            "100%|██████████| 104/104 [00:08<00:00, 12.14it/s]"
          ]
        },
        {
          "output_type": "stream",
          "name": "stdout",
          "text": [
            "[1 1 1 ... 1 1 1]\n",
            "[1 1 1 ... 1 1 1]\n",
            "Epochs: 18 | Train Loss:  0.575 | Train F1 Score:  0.944 | Val Loss:  0.617 | Val F1 Score:  0.879\n",
            "Early stopping\n"
          ]
        },
        {
          "output_type": "stream",
          "name": "stderr",
          "text": [
            "\n"
          ]
        }
      ],
      "source": [
        "sentence_train(model, train_dataloader, val_dataloader, CFG['LEARNING_RATE'], CFG['EPOCHS'], 'kclue')"
      ]
    },
    {
      "cell_type": "markdown",
      "metadata": {
        "id": "Y4QvLgFUn0UI"
      },
      "source": [
        "training이 끝났으면 test data를 이용해 예측을 해야되는데 이때 방법은 validation때와 비슷하다. 따라서, 설명은 생략하겠습니다."
      ]
    },
    {
      "cell_type": "code",
      "execution_count": 19,
      "metadata": {
        "id": "giX1utUYn0UI"
      },
      "outputs": [],
      "source": [
        "def get_type_predictions(model, loader):\n",
        "\n",
        "    device = torch.device('cuda')\n",
        "    model = model.to(device)\n",
        "\n",
        "    type_probs, polarity_probs, tense_probs, clarity_probs = [], [], [], []\n",
        "    with torch.no_grad():\n",
        "        model.eval()\n",
        "        for data_input, _, _, _, _ in tqdm(loader):\n",
        "            attention_mask = data_input['attention_mask'].to(device)\n",
        "            input_ids = data_input['input_ids'].squeeze(1).to(device)\n",
        "\n",
        "\n",
        "            type_output, polarity_output, tense_output, clarity_output = model(input_ids, attention_mask)\n",
        "            type_probs.append(type_output)\n",
        "            polarity_probs.append(polarity_output)\n",
        "            tense_probs.append(tense_output)\n",
        "            clarity_probs.append(clarity_output)\n",
        "\n",
        "    return torch.cat(type_probs).cpu().detach().numpy(), \\\n",
        "            torch.cat(polarity_probs).cpu().detach().numpy(), \\\n",
        "            torch.cat(tense_probs).cpu().detach().numpy(), \\\n",
        "            torch.cat(clarity_probs).cpu().detach().numpy()"
      ]
    },
    {
      "cell_type": "code",
      "execution_count": 20,
      "metadata": {
        "id": "fkMqTaDHn0UI",
        "colab": {
          "base_uri": "https://localhost:8080/"
        },
        "outputId": "cbf3591f-ee26-408d-d2ec-1befe92cf54f"
      },
      "outputs": [
        {
          "output_type": "stream",
          "name": "stderr",
          "text": [
            "<ipython-input-20-80b7eea347f6>:1: FutureWarning: You are using `torch.load` with `weights_only=False` (the current default value), which uses the default pickle module implicitly. It is possible to construct malicious pickle data which will execute arbitrary code during unpickling (See https://github.com/pytorch/pytorch/blob/main/SECURITY.md#untrusted-models for more details). In a future release, the default value for `weights_only` will be flipped to `True`. This limits the functions that could be executed during unpickling. Arbitrary objects will no longer be allowed to be loaded via this mode unless they are explicitly allowlisted by the user via `torch.serialization.add_safe_globals`. We recommend you start setting `weights_only=True` for any use case where you don't have full control of the loaded file. Please open an issue on GitHub for any issues related to this experimental feature.\n",
            "  model = torch.load(\"model/kclue.pt\")\n"
          ]
        }
      ],
      "source": [
        "model = torch.load(\"model/kclue.pt\")\n",
        "test_dataloader = DataLoader(SentenceTypeDataset(test, tokenizer), batch_size=CFG['BATCH_SIZE'], shuffle=False)"
      ]
    },
    {
      "cell_type": "code",
      "execution_count": 21,
      "metadata": {
        "id": "Z04H4Qpgn0UI"
      },
      "outputs": [],
      "source": [
        "#val_pred_type, val_pred_polarity, val_pred_tense, val_pred_certainty = get_type_predictions(model, val_dataloader)\n",
        "\n",
        "#val_type = ['대화형' if i==0 else '사실형' if i==1 else '예측형' if i==2 else '추론형' for i in [np.argmax(p) for p in val_pred_type]]\n",
        "#val_polarity = ['긍정' if i==0 else '미정' if i==1 else '부정' for i in [np.argmax(p) for p in val_pred_polarity]]\n",
        "#val_type = ['과거' if i==0 else '미래' if i==1 else '현재' for i in [np.argmax(p) for p in val_pred_tense]]\n",
        "#val_type = ['불확실' if i==0 else '확실' for i in [np.argmax(p) for p in val_pred_certainty]]"
      ]
    },
    {
      "cell_type": "code",
      "execution_count": 22,
      "metadata": {
        "id": "gseX3IdOn0UI",
        "colab": {
          "base_uri": "https://localhost:8080/"
        },
        "outputId": "cabcbbfd-9a54-4c4b-dfdf-baa9b59904e9"
      },
      "outputs": [
        {
          "output_type": "stream",
          "name": "stderr",
          "text": [
            "100%|██████████| 222/222 [00:18<00:00, 12.03it/s]\n"
          ]
        }
      ],
      "source": [
        "test_pred_type, test_pred_polarity, test_pred_tense, test_pred_certainty = get_type_predictions(model, test_dataloader)"
      ]
    },
    {
      "cell_type": "markdown",
      "metadata": {
        "id": "-xa-6c1gn0UM"
      },
      "source": [
        "여기서 잠깐 test_pred_tense가 어떻게 생겼는지 살펴보면"
      ]
    },
    {
      "cell_type": "code",
      "execution_count": 23,
      "metadata": {
        "id": "lDXSTVJLn0UM",
        "colab": {
          "base_uri": "https://localhost:8080/"
        },
        "outputId": "49900a33-3c1f-4b92-c661-afdaa2ef5646"
      },
      "outputs": [
        {
          "output_type": "execute_result",
          "data": {
            "text/plain": [
              "array([[4.1921597e-04, 2.4419444e-04, 9.9933654e-01],\n",
              "       [2.6184224e-04, 1.5775536e-04, 9.9958044e-01],\n",
              "       [9.9945742e-01, 1.8135221e-04, 3.6118994e-04],\n",
              "       ...,\n",
              "       [2.7170070e-04, 5.9366482e-04, 9.9913472e-01],\n",
              "       [1.0324885e-01, 4.7258678e-01, 4.2416438e-01],\n",
              "       [9.9902499e-01, 2.5746459e-04, 7.1755017e-04]], dtype=float32)"
            ]
          },
          "metadata": {},
          "execution_count": 23
        }
      ],
      "source": [
        "test_pred_tense"
      ]
    },
    {
      "cell_type": "markdown",
      "metadata": {
        "id": "g_ZzNnAPn0UM"
      },
      "source": [
        "위에 보이는 것과 같이 tense에는 3개의 타입이 있으므로 3개의 컬럼들을 볼 수 있다. 그리고 각 컬럼에 해당될 확률이 어느정도인지 저장되어 있는 형태이다. 이때 같은 row에 위치한 값들을 더해보면"
      ]
    },
    {
      "cell_type": "code",
      "execution_count": 24,
      "metadata": {
        "id": "z-XjnLZ6n0UM",
        "colab": {
          "base_uri": "https://localhost:8080/"
        },
        "outputId": "573d957e-2e37-4dc3-ba7a-b5dc921eb406"
      },
      "outputs": [
        {
          "output_type": "execute_result",
          "data": {
            "text/plain": [
              "0.9999999511055648"
            ]
          },
          "metadata": {},
          "execution_count": 24
        }
      ],
      "source": [
        "sum(test_pred_tense[0])"
      ]
    },
    {
      "cell_type": "markdown",
      "metadata": {
        "id": "XYJCx-ren0UM"
      },
      "source": [
        "1인것을 알 수 있다. 위에 softmax에서 설명한 그대로이다.\n",
        "\n",
        "따라서, 이제 이 값들을 np.argmax()를 통해서 어느 인덱스에 최고 값이 있는지 알아보고 그 인덱스에 맞춰서 맞는 label로 변형해줘야 한다.\n",
        "그 후 저장하면 제출할 수 있는 파일이 만들어진다."
      ]
    },
    {
      "cell_type": "code",
      "execution_count": 25,
      "metadata": {
        "id": "uyym_mHNn0UM"
      },
      "outputs": [],
      "source": [
        "test_type = ['대화형' if i==0 else '사실형' if i==1 else '예측형' if i==2 else '추론형' for i in [np.argmax(p) for p in test_pred_type]]\n",
        "test_polarity = ['긍정' if i==0 else '미정' if i==1 else '부정' for i in [np.argmax(p) for p in test_pred_polarity]]\n",
        "test_tense = ['과거' if i==0 else '미래' if i==1 else '현재' for i in [np.argmax(p) for p in test_pred_tense]]\n",
        "test_certainty = ['불확실' if i==0 else '확실' for i in [np.argmax(p) for p in test_pred_certainty]]"
      ]
    },
    {
      "cell_type": "code",
      "execution_count": 26,
      "metadata": {
        "id": "otzbsMVqn0UM"
      },
      "outputs": [],
      "source": [
        "label_sum = []\n",
        "for i in range(len(test_type)):\n",
        "    label_sum.append(f'{test_type[i]}-{test_polarity[i]}-{test_tense[i]}-{test_certainty[i]}')\n",
        "os.makedirs('submission', exist_ok=True)\n",
        "\n",
        "submission['label'] = label_sum\n",
        "submission.to_csv('submission/klue1.csv', index=False)"
      ]
    },
    {
      "cell_type": "code",
      "execution_count": 27,
      "metadata": {
        "id": "kiU6ya37n0UN",
        "colab": {
          "base_uri": "https://localhost:8080/",
          "height": 423
        },
        "outputId": "9cd93aed-b3df-4db6-fb81-acc46c53961a"
      },
      "outputs": [
        {
          "output_type": "execute_result",
          "data": {
            "text/plain": [
              "             ID         label\n",
              "0     TEST_0000  사실형-긍정-현재-확실\n",
              "1     TEST_0001  사실형-긍정-현재-확실\n",
              "2     TEST_0002  사실형-긍정-과거-확실\n",
              "3     TEST_0003  사실형-긍정-과거-확실\n",
              "4     TEST_0004  사실형-긍정-과거-확실\n",
              "...         ...           ...\n",
              "7085  TEST_7085  사실형-긍정-현재-확실\n",
              "7086  TEST_7086  추론형-긍정-현재-확실\n",
              "7087  TEST_7087  사실형-긍정-현재-확실\n",
              "7088  TEST_7088  추론형-긍정-미래-확실\n",
              "7089  TEST_7089  사실형-긍정-과거-확실\n",
              "\n",
              "[7090 rows x 2 columns]"
            ],
            "text/html": [
              "\n",
              "  <div id=\"df-fb08c5b1-4f73-4da3-96c6-38a81cc354e0\" class=\"colab-df-container\">\n",
              "    <div>\n",
              "<style scoped>\n",
              "    .dataframe tbody tr th:only-of-type {\n",
              "        vertical-align: middle;\n",
              "    }\n",
              "\n",
              "    .dataframe tbody tr th {\n",
              "        vertical-align: top;\n",
              "    }\n",
              "\n",
              "    .dataframe thead th {\n",
              "        text-align: right;\n",
              "    }\n",
              "</style>\n",
              "<table border=\"1\" class=\"dataframe\">\n",
              "  <thead>\n",
              "    <tr style=\"text-align: right;\">\n",
              "      <th></th>\n",
              "      <th>ID</th>\n",
              "      <th>label</th>\n",
              "    </tr>\n",
              "  </thead>\n",
              "  <tbody>\n",
              "    <tr>\n",
              "      <th>0</th>\n",
              "      <td>TEST_0000</td>\n",
              "      <td>사실형-긍정-현재-확실</td>\n",
              "    </tr>\n",
              "    <tr>\n",
              "      <th>1</th>\n",
              "      <td>TEST_0001</td>\n",
              "      <td>사실형-긍정-현재-확실</td>\n",
              "    </tr>\n",
              "    <tr>\n",
              "      <th>2</th>\n",
              "      <td>TEST_0002</td>\n",
              "      <td>사실형-긍정-과거-확실</td>\n",
              "    </tr>\n",
              "    <tr>\n",
              "      <th>3</th>\n",
              "      <td>TEST_0003</td>\n",
              "      <td>사실형-긍정-과거-확실</td>\n",
              "    </tr>\n",
              "    <tr>\n",
              "      <th>4</th>\n",
              "      <td>TEST_0004</td>\n",
              "      <td>사실형-긍정-과거-확실</td>\n",
              "    </tr>\n",
              "    <tr>\n",
              "      <th>...</th>\n",
              "      <td>...</td>\n",
              "      <td>...</td>\n",
              "    </tr>\n",
              "    <tr>\n",
              "      <th>7085</th>\n",
              "      <td>TEST_7085</td>\n",
              "      <td>사실형-긍정-현재-확실</td>\n",
              "    </tr>\n",
              "    <tr>\n",
              "      <th>7086</th>\n",
              "      <td>TEST_7086</td>\n",
              "      <td>추론형-긍정-현재-확실</td>\n",
              "    </tr>\n",
              "    <tr>\n",
              "      <th>7087</th>\n",
              "      <td>TEST_7087</td>\n",
              "      <td>사실형-긍정-현재-확실</td>\n",
              "    </tr>\n",
              "    <tr>\n",
              "      <th>7088</th>\n",
              "      <td>TEST_7088</td>\n",
              "      <td>추론형-긍정-미래-확실</td>\n",
              "    </tr>\n",
              "    <tr>\n",
              "      <th>7089</th>\n",
              "      <td>TEST_7089</td>\n",
              "      <td>사실형-긍정-과거-확실</td>\n",
              "    </tr>\n",
              "  </tbody>\n",
              "</table>\n",
              "<p>7090 rows × 2 columns</p>\n",
              "</div>\n",
              "    <div class=\"colab-df-buttons\">\n",
              "\n",
              "  <div class=\"colab-df-container\">\n",
              "    <button class=\"colab-df-convert\" onclick=\"convertToInteractive('df-fb08c5b1-4f73-4da3-96c6-38a81cc354e0')\"\n",
              "            title=\"Convert this dataframe to an interactive table.\"\n",
              "            style=\"display:none;\">\n",
              "\n",
              "  <svg xmlns=\"http://www.w3.org/2000/svg\" height=\"24px\" viewBox=\"0 -960 960 960\">\n",
              "    <path d=\"M120-120v-720h720v720H120Zm60-500h600v-160H180v160Zm220 220h160v-160H400v160Zm0 220h160v-160H400v160ZM180-400h160v-160H180v160Zm440 0h160v-160H620v160ZM180-180h160v-160H180v160Zm440 0h160v-160H620v160Z\"/>\n",
              "  </svg>\n",
              "    </button>\n",
              "\n",
              "  <style>\n",
              "    .colab-df-container {\n",
              "      display:flex;\n",
              "      gap: 12px;\n",
              "    }\n",
              "\n",
              "    .colab-df-convert {\n",
              "      background-color: #E8F0FE;\n",
              "      border: none;\n",
              "      border-radius: 50%;\n",
              "      cursor: pointer;\n",
              "      display: none;\n",
              "      fill: #1967D2;\n",
              "      height: 32px;\n",
              "      padding: 0 0 0 0;\n",
              "      width: 32px;\n",
              "    }\n",
              "\n",
              "    .colab-df-convert:hover {\n",
              "      background-color: #E2EBFA;\n",
              "      box-shadow: 0px 1px 2px rgba(60, 64, 67, 0.3), 0px 1px 3px 1px rgba(60, 64, 67, 0.15);\n",
              "      fill: #174EA6;\n",
              "    }\n",
              "\n",
              "    .colab-df-buttons div {\n",
              "      margin-bottom: 4px;\n",
              "    }\n",
              "\n",
              "    [theme=dark] .colab-df-convert {\n",
              "      background-color: #3B4455;\n",
              "      fill: #D2E3FC;\n",
              "    }\n",
              "\n",
              "    [theme=dark] .colab-df-convert:hover {\n",
              "      background-color: #434B5C;\n",
              "      box-shadow: 0px 1px 3px 1px rgba(0, 0, 0, 0.15);\n",
              "      filter: drop-shadow(0px 1px 2px rgba(0, 0, 0, 0.3));\n",
              "      fill: #FFFFFF;\n",
              "    }\n",
              "  </style>\n",
              "\n",
              "    <script>\n",
              "      const buttonEl =\n",
              "        document.querySelector('#df-fb08c5b1-4f73-4da3-96c6-38a81cc354e0 button.colab-df-convert');\n",
              "      buttonEl.style.display =\n",
              "        google.colab.kernel.accessAllowed ? 'block' : 'none';\n",
              "\n",
              "      async function convertToInteractive(key) {\n",
              "        const element = document.querySelector('#df-fb08c5b1-4f73-4da3-96c6-38a81cc354e0');\n",
              "        const dataTable =\n",
              "          await google.colab.kernel.invokeFunction('convertToInteractive',\n",
              "                                                    [key], {});\n",
              "        if (!dataTable) return;\n",
              "\n",
              "        const docLinkHtml = 'Like what you see? Visit the ' +\n",
              "          '<a target=\"_blank\" href=https://colab.research.google.com/notebooks/data_table.ipynb>data table notebook</a>'\n",
              "          + ' to learn more about interactive tables.';\n",
              "        element.innerHTML = '';\n",
              "        dataTable['output_type'] = 'display_data';\n",
              "        await google.colab.output.renderOutput(dataTable, element);\n",
              "        const docLink = document.createElement('div');\n",
              "        docLink.innerHTML = docLinkHtml;\n",
              "        element.appendChild(docLink);\n",
              "      }\n",
              "    </script>\n",
              "  </div>\n",
              "\n",
              "\n",
              "<div id=\"df-a903f330-80d0-411f-9749-b1677a9e3b2a\">\n",
              "  <button class=\"colab-df-quickchart\" onclick=\"quickchart('df-a903f330-80d0-411f-9749-b1677a9e3b2a')\"\n",
              "            title=\"Suggest charts\"\n",
              "            style=\"display:none;\">\n",
              "\n",
              "<svg xmlns=\"http://www.w3.org/2000/svg\" height=\"24px\"viewBox=\"0 0 24 24\"\n",
              "     width=\"24px\">\n",
              "    <g>\n",
              "        <path d=\"M19 3H5c-1.1 0-2 .9-2 2v14c0 1.1.9 2 2 2h14c1.1 0 2-.9 2-2V5c0-1.1-.9-2-2-2zM9 17H7v-7h2v7zm4 0h-2V7h2v10zm4 0h-2v-4h2v4z\"/>\n",
              "    </g>\n",
              "</svg>\n",
              "  </button>\n",
              "\n",
              "<style>\n",
              "  .colab-df-quickchart {\n",
              "      --bg-color: #E8F0FE;\n",
              "      --fill-color: #1967D2;\n",
              "      --hover-bg-color: #E2EBFA;\n",
              "      --hover-fill-color: #174EA6;\n",
              "      --disabled-fill-color: #AAA;\n",
              "      --disabled-bg-color: #DDD;\n",
              "  }\n",
              "\n",
              "  [theme=dark] .colab-df-quickchart {\n",
              "      --bg-color: #3B4455;\n",
              "      --fill-color: #D2E3FC;\n",
              "      --hover-bg-color: #434B5C;\n",
              "      --hover-fill-color: #FFFFFF;\n",
              "      --disabled-bg-color: #3B4455;\n",
              "      --disabled-fill-color: #666;\n",
              "  }\n",
              "\n",
              "  .colab-df-quickchart {\n",
              "    background-color: var(--bg-color);\n",
              "    border: none;\n",
              "    border-radius: 50%;\n",
              "    cursor: pointer;\n",
              "    display: none;\n",
              "    fill: var(--fill-color);\n",
              "    height: 32px;\n",
              "    padding: 0;\n",
              "    width: 32px;\n",
              "  }\n",
              "\n",
              "  .colab-df-quickchart:hover {\n",
              "    background-color: var(--hover-bg-color);\n",
              "    box-shadow: 0 1px 2px rgba(60, 64, 67, 0.3), 0 1px 3px 1px rgba(60, 64, 67, 0.15);\n",
              "    fill: var(--button-hover-fill-color);\n",
              "  }\n",
              "\n",
              "  .colab-df-quickchart-complete:disabled,\n",
              "  .colab-df-quickchart-complete:disabled:hover {\n",
              "    background-color: var(--disabled-bg-color);\n",
              "    fill: var(--disabled-fill-color);\n",
              "    box-shadow: none;\n",
              "  }\n",
              "\n",
              "  .colab-df-spinner {\n",
              "    border: 2px solid var(--fill-color);\n",
              "    border-color: transparent;\n",
              "    border-bottom-color: var(--fill-color);\n",
              "    animation:\n",
              "      spin 1s steps(1) infinite;\n",
              "  }\n",
              "\n",
              "  @keyframes spin {\n",
              "    0% {\n",
              "      border-color: transparent;\n",
              "      border-bottom-color: var(--fill-color);\n",
              "      border-left-color: var(--fill-color);\n",
              "    }\n",
              "    20% {\n",
              "      border-color: transparent;\n",
              "      border-left-color: var(--fill-color);\n",
              "      border-top-color: var(--fill-color);\n",
              "    }\n",
              "    30% {\n",
              "      border-color: transparent;\n",
              "      border-left-color: var(--fill-color);\n",
              "      border-top-color: var(--fill-color);\n",
              "      border-right-color: var(--fill-color);\n",
              "    }\n",
              "    40% {\n",
              "      border-color: transparent;\n",
              "      border-right-color: var(--fill-color);\n",
              "      border-top-color: var(--fill-color);\n",
              "    }\n",
              "    60% {\n",
              "      border-color: transparent;\n",
              "      border-right-color: var(--fill-color);\n",
              "    }\n",
              "    80% {\n",
              "      border-color: transparent;\n",
              "      border-right-color: var(--fill-color);\n",
              "      border-bottom-color: var(--fill-color);\n",
              "    }\n",
              "    90% {\n",
              "      border-color: transparent;\n",
              "      border-bottom-color: var(--fill-color);\n",
              "    }\n",
              "  }\n",
              "</style>\n",
              "\n",
              "  <script>\n",
              "    async function quickchart(key) {\n",
              "      const quickchartButtonEl =\n",
              "        document.querySelector('#' + key + ' button');\n",
              "      quickchartButtonEl.disabled = true;  // To prevent multiple clicks.\n",
              "      quickchartButtonEl.classList.add('colab-df-spinner');\n",
              "      try {\n",
              "        const charts = await google.colab.kernel.invokeFunction(\n",
              "            'suggestCharts', [key], {});\n",
              "      } catch (error) {\n",
              "        console.error('Error during call to suggestCharts:', error);\n",
              "      }\n",
              "      quickchartButtonEl.classList.remove('colab-df-spinner');\n",
              "      quickchartButtonEl.classList.add('colab-df-quickchart-complete');\n",
              "    }\n",
              "    (() => {\n",
              "      let quickchartButtonEl =\n",
              "        document.querySelector('#df-a903f330-80d0-411f-9749-b1677a9e3b2a button');\n",
              "      quickchartButtonEl.style.display =\n",
              "        google.colab.kernel.accessAllowed ? 'block' : 'none';\n",
              "    })();\n",
              "  </script>\n",
              "</div>\n",
              "\n",
              "  <div id=\"id_c07f0884-e069-4ce1-bca5-30cf7f9c4c19\">\n",
              "    <style>\n",
              "      .colab-df-generate {\n",
              "        background-color: #E8F0FE;\n",
              "        border: none;\n",
              "        border-radius: 50%;\n",
              "        cursor: pointer;\n",
              "        display: none;\n",
              "        fill: #1967D2;\n",
              "        height: 32px;\n",
              "        padding: 0 0 0 0;\n",
              "        width: 32px;\n",
              "      }\n",
              "\n",
              "      .colab-df-generate:hover {\n",
              "        background-color: #E2EBFA;\n",
              "        box-shadow: 0px 1px 2px rgba(60, 64, 67, 0.3), 0px 1px 3px 1px rgba(60, 64, 67, 0.15);\n",
              "        fill: #174EA6;\n",
              "      }\n",
              "\n",
              "      [theme=dark] .colab-df-generate {\n",
              "        background-color: #3B4455;\n",
              "        fill: #D2E3FC;\n",
              "      }\n",
              "\n",
              "      [theme=dark] .colab-df-generate:hover {\n",
              "        background-color: #434B5C;\n",
              "        box-shadow: 0px 1px 3px 1px rgba(0, 0, 0, 0.15);\n",
              "        filter: drop-shadow(0px 1px 2px rgba(0, 0, 0, 0.3));\n",
              "        fill: #FFFFFF;\n",
              "      }\n",
              "    </style>\n",
              "    <button class=\"colab-df-generate\" onclick=\"generateWithVariable('submission')\"\n",
              "            title=\"Generate code using this dataframe.\"\n",
              "            style=\"display:none;\">\n",
              "\n",
              "  <svg xmlns=\"http://www.w3.org/2000/svg\" height=\"24px\"viewBox=\"0 0 24 24\"\n",
              "       width=\"24px\">\n",
              "    <path d=\"M7,19H8.4L18.45,9,17,7.55,7,17.6ZM5,21V16.75L18.45,3.32a2,2,0,0,1,2.83,0l1.4,1.43a1.91,1.91,0,0,1,.58,1.4,1.91,1.91,0,0,1-.58,1.4L9.25,21ZM18.45,9,17,7.55Zm-12,3A5.31,5.31,0,0,0,4.9,8.1,5.31,5.31,0,0,0,1,6.5,5.31,5.31,0,0,0,4.9,4.9,5.31,5.31,0,0,0,6.5,1,5.31,5.31,0,0,0,8.1,4.9,5.31,5.31,0,0,0,12,6.5,5.46,5.46,0,0,0,6.5,12Z\"/>\n",
              "  </svg>\n",
              "    </button>\n",
              "    <script>\n",
              "      (() => {\n",
              "      const buttonEl =\n",
              "        document.querySelector('#id_c07f0884-e069-4ce1-bca5-30cf7f9c4c19 button.colab-df-generate');\n",
              "      buttonEl.style.display =\n",
              "        google.colab.kernel.accessAllowed ? 'block' : 'none';\n",
              "\n",
              "      buttonEl.onclick = () => {\n",
              "        google.colab.notebook.generateWithVariable('submission');\n",
              "      }\n",
              "      })();\n",
              "    </script>\n",
              "  </div>\n",
              "\n",
              "    </div>\n",
              "  </div>\n"
            ],
            "application/vnd.google.colaboratory.intrinsic+json": {
              "type": "dataframe",
              "variable_name": "submission",
              "summary": "{\n  \"name\": \"submission\",\n  \"rows\": 7090,\n  \"fields\": [\n    {\n      \"column\": \"ID\",\n      \"properties\": {\n        \"dtype\": \"string\",\n        \"num_unique_values\": 7090,\n        \"samples\": [\n          \"TEST_2794\",\n          \"TEST_3590\",\n          \"TEST_0712\"\n        ],\n        \"semantic_type\": \"\",\n        \"description\": \"\"\n      }\n    },\n    {\n      \"column\": \"label\",\n      \"properties\": {\n        \"dtype\": \"category\",\n        \"num_unique_values\": 29,\n        \"samples\": [\n          \"\\ub300\\ud654\\ud615-\\ubd80\\uc815-\\uacfc\\uac70-\\ubd88\\ud655\\uc2e4\",\n          \"\\ub300\\ud654\\ud615-\\uae0d\\uc815-\\uacfc\\uac70-\\ubd88\\ud655\\uc2e4\",\n          \"\\ucd94\\ub860\\ud615-\\ubd80\\uc815-\\ud604\\uc7ac-\\ud655\\uc2e4\"\n        ],\n        \"semantic_type\": \"\",\n        \"description\": \"\"\n      }\n    }\n  ]\n}"
            }
          },
          "metadata": {},
          "execution_count": 27
        }
      ],
      "source": [
        "submission"
      ]
    },
    {
      "cell_type": "code",
      "source": [
        "import joblib\n",
        "torch.save(model.state_dict(), \"klue_state_dict.pth\")\n",
        "joblib.dump(\"klue_state_dict.pth\", './klue_model.pkl')"
      ],
      "metadata": {
        "id": "eAB-AjC7cV-z",
        "colab": {
          "base_uri": "https://localhost:8080/"
        },
        "outputId": "7db806b1-661e-44bf-b293-f453030c5641"
      },
      "execution_count": 28,
      "outputs": [
        {
          "output_type": "execute_result",
          "data": {
            "text/plain": [
              "['./klue_model.pkl']"
            ]
          },
          "metadata": {},
          "execution_count": 28
        }
      ]
    },
    {
      "cell_type": "code",
      "source": [
        "import torch\n",
        "import joblib\n",
        "\n",
        "# joblib으로 압축된 state_dict 파일을 불러옴\n",
        "state_dict_path = joblib.load(\"./klue_model.pkl\")\n",
        "model.load_state_dict(torch.load(state_dict_path))\n",
        "model.eval()"
      ],
      "metadata": {
        "colab": {
          "base_uri": "https://localhost:8080/"
        },
        "id": "VoRvWkbk2jg_",
        "outputId": "bdebe84f-ed2a-44be-8ce3-d448c0a40b49"
      },
      "execution_count": 29,
      "outputs": [
        {
          "output_type": "stream",
          "name": "stderr",
          "text": [
            "<ipython-input-29-3ca5335ba21d>:6: FutureWarning: You are using `torch.load` with `weights_only=False` (the current default value), which uses the default pickle module implicitly. It is possible to construct malicious pickle data which will execute arbitrary code during unpickling (See https://github.com/pytorch/pytorch/blob/main/SECURITY.md#untrusted-models for more details). In a future release, the default value for `weights_only` will be flipped to `True`. This limits the functions that could be executed during unpickling. Arbitrary objects will no longer be allowed to be loaded via this mode unless they are explicitly allowlisted by the user via `torch.serialization.add_safe_globals`. We recommend you start setting `weights_only=True` for any use case where you don't have full control of the loaded file. Please open an issue on GitHub for any issues related to this experimental feature.\n",
            "  model.load_state_dict(torch.load(state_dict_path))\n"
          ]
        },
        {
          "output_type": "execute_result",
          "data": {
            "text/plain": [
              "SentenceClassifier(\n",
              "  (klue): RobertaModel(\n",
              "    (embeddings): RobertaEmbeddings(\n",
              "      (word_embeddings): Embedding(32000, 768, padding_idx=1)\n",
              "      (position_embeddings): Embedding(514, 768, padding_idx=1)\n",
              "      (token_type_embeddings): Embedding(1, 768)\n",
              "      (LayerNorm): LayerNorm((768,), eps=1e-05, elementwise_affine=True)\n",
              "      (dropout): Dropout(p=0.1, inplace=False)\n",
              "    )\n",
              "    (encoder): RobertaEncoder(\n",
              "      (layer): ModuleList(\n",
              "        (0-5): 6 x RobertaLayer(\n",
              "          (attention): RobertaAttention(\n",
              "            (self): RobertaSelfAttention(\n",
              "              (query): Linear(in_features=768, out_features=768, bias=True)\n",
              "              (key): Linear(in_features=768, out_features=768, bias=True)\n",
              "              (value): Linear(in_features=768, out_features=768, bias=True)\n",
              "              (dropout): Dropout(p=0.1, inplace=False)\n",
              "            )\n",
              "            (output): RobertaSelfOutput(\n",
              "              (dense): Linear(in_features=768, out_features=768, bias=True)\n",
              "              (LayerNorm): LayerNorm((768,), eps=1e-05, elementwise_affine=True)\n",
              "              (dropout): Dropout(p=0.1, inplace=False)\n",
              "            )\n",
              "          )\n",
              "          (intermediate): RobertaIntermediate(\n",
              "            (dense): Linear(in_features=768, out_features=3072, bias=True)\n",
              "            (intermediate_act_fn): GELUActivation()\n",
              "          )\n",
              "          (output): RobertaOutput(\n",
              "            (dense): Linear(in_features=3072, out_features=768, bias=True)\n",
              "            (LayerNorm): LayerNorm((768,), eps=1e-05, elementwise_affine=True)\n",
              "            (dropout): Dropout(p=0.1, inplace=False)\n",
              "          )\n",
              "        )\n",
              "      )\n",
              "    )\n",
              "    (pooler): RobertaPooler(\n",
              "      (dense): Linear(in_features=768, out_features=768, bias=True)\n",
              "      (activation): Tanh()\n",
              "    )\n",
              "  )\n",
              "  (fc1): Linear(in_features=768, out_features=32, bias=True)\n",
              "  (relu): ReLU()\n",
              "  (type_clf): Linear(in_features=32, out_features=4, bias=True)\n",
              "  (polarity_clf): Linear(in_features=32, out_features=3, bias=True)\n",
              "  (tense_clf): Linear(in_features=32, out_features=3, bias=True)\n",
              "  (certainty_clf): Linear(in_features=32, out_features=2, bias=True)\n",
              "  (softmax): Softmax(dim=1)\n",
              ")"
            ]
          },
          "metadata": {},
          "execution_count": 29
        }
      ]
    },
    {
      "cell_type": "code",
      "source": [
        "for name, param in model.named_parameters():\n",
        "    print(f\"{name}: {param[0]}\")\n",
        "    break  # 첫 번째 파라미터만 출력"
      ],
      "metadata": {
        "colab": {
          "base_uri": "https://localhost:8080/"
        },
        "id": "tPbwZ0cj2lo7",
        "outputId": "c56fc646-f94d-4028-aed4-5ce270397c87"
      },
      "execution_count": 30,
      "outputs": [
        {
          "output_type": "stream",
          "name": "stdout",
          "text": [
            "klue.embeddings.word_embeddings.weight: tensor([ 1.5178e-02,  3.7604e-03,  2.5689e-03,  4.1329e-03, -3.1239e-04,\n",
            "         4.6769e-03, -1.9888e-02,  9.7399e-03,  1.8324e-02,  9.2234e-03,\n",
            "        -6.3532e-03, -1.3621e-02,  7.0846e-03, -1.1213e-02,  3.7035e-03,\n",
            "         1.3209e-02,  4.8898e-03,  3.7844e-03,  6.0232e-03,  1.8193e-02,\n",
            "         2.8695e-02, -3.4859e-02, -1.1367e-03,  5.4720e-03,  6.5624e-03,\n",
            "         2.5487e-02, -7.5329e-03,  1.8111e-03,  4.8922e-03,  2.9378e-03,\n",
            "         4.2020e-03, -2.5570e-03,  8.2622e-03,  1.2972e-02,  6.9747e-03,\n",
            "         2.9758e-02,  9.7347e-03,  8.7259e-03,  7.0513e-03, -6.9991e-03,\n",
            "         8.4558e-02, -3.3213e-03,  2.0299e-03, -8.3634e-03, -1.3870e-02,\n",
            "         4.9520e-03,  1.5589e-02,  1.3919e-04, -5.2307e-03,  1.5091e-01,\n",
            "        -1.6378e-05, -3.2854e-03,  9.9134e-03,  4.5700e-04,  1.2622e-02,\n",
            "        -1.3159e-02, -3.5704e-03,  1.4130e-01,  2.5262e-02,  1.8438e-02,\n",
            "        -6.6528e-03,  1.1198e-02,  5.1069e-03, -6.7084e-03, -3.0639e-03,\n",
            "        -6.2501e-03,  3.0974e-03,  1.4051e-02,  9.5384e-03,  6.9847e-03,\n",
            "        -5.9143e-05,  2.2460e-01, -1.0174e-03, -1.7175e-02,  1.8648e-02,\n",
            "        -2.1255e-03,  2.8974e-03,  8.0348e-03, -1.2314e-03,  1.7244e-02,\n",
            "        -1.1839e-02,  9.1612e-03,  1.8073e-02,  1.1095e-01,  1.4627e-02,\n",
            "        -8.1472e-03,  1.8022e-02,  4.6697e-03,  2.0172e-03,  3.5452e-03,\n",
            "         1.6946e-02,  1.2169e-01, -3.5513e-03,  2.4537e-01,  2.4479e-02,\n",
            "         2.8350e-02, -9.1082e-04,  7.1493e-03,  1.1907e-03,  3.3768e-03,\n",
            "         3.8676e-02, -1.4655e-03,  6.9518e-03,  7.4208e-03, -1.9012e-02,\n",
            "         1.3419e-02, -2.9753e-03,  2.1729e-02,  2.2350e-03,  1.7149e-02,\n",
            "         2.7639e-01, -4.1640e-03,  1.3566e-02,  1.5352e-02,  2.4649e-02,\n",
            "        -7.3881e-04, -1.6642e-02,  1.7648e-02, -1.7363e-02,  2.2134e-02,\n",
            "        -1.2237e-02,  1.5987e-02,  1.8894e-03,  2.5898e-03,  1.4477e-02,\n",
            "         2.1490e-01, -8.9735e-03, -4.7347e-03,  4.5316e-03,  2.2141e-03,\n",
            "         1.2090e-02,  1.2289e-02, -5.2742e-03, -1.8754e-03,  1.5318e-02,\n",
            "        -2.9481e-03, -2.0974e-02, -3.8958e-03,  6.0990e-03,  1.3637e-02,\n",
            "        -3.4640e-03,  1.6010e-02, -9.0335e-04, -7.9672e-03, -1.2717e-03,\n",
            "        -4.0123e-03,  1.6131e-02,  8.6867e-04,  1.5533e-02,  1.0041e-02,\n",
            "         5.3199e-03,  9.4808e-03, -7.6862e-04,  1.0611e-02,  1.9061e-02,\n",
            "         3.0396e-03, -1.6033e-02, -6.5502e-03,  1.5366e-01,  1.2803e-02,\n",
            "        -3.5876e-03,  1.5198e-02, -1.0490e-02, -1.1732e-02,  2.0110e-02,\n",
            "        -3.1400e-03,  1.2587e-01,  3.3337e-03,  2.3752e-02, -1.5747e-02,\n",
            "         6.7646e-03, -1.6257e-03,  1.1755e-02,  2.7716e-02,  1.3526e-02,\n",
            "        -8.6634e-03, -8.5772e-03,  2.7600e-03,  2.2299e-03, -1.0919e-02,\n",
            "        -6.2832e-03,  2.2392e-03,  1.1451e-02,  5.2308e-03,  8.4180e-04,\n",
            "         4.1488e-03, -4.4993e-03, -7.5093e-04,  2.7492e-02,  1.0666e-02,\n",
            "         1.5032e-03, -1.2441e-02,  1.2832e-02, -5.7649e-03, -1.4331e-03,\n",
            "        -8.5997e-03,  1.3255e-02,  3.4667e-03, -9.6272e-03,  5.4004e-03,\n",
            "         1.3159e-02,  1.3099e-03, -7.4174e-03,  1.2103e-02,  3.8047e-03,\n",
            "        -6.5276e-03,  1.2860e-02,  1.6400e-03, -1.6858e-03,  1.3102e-02,\n",
            "        -2.0174e-04, -9.6293e-03,  3.6898e-03,  1.2140e-03, -2.7045e-02,\n",
            "        -5.1602e-03, -6.7192e-03,  5.1493e-03, -3.1878e-03,  2.3634e-01,\n",
            "        -9.3226e-03, -9.3908e-03,  1.0066e-02, -3.6026e-03,  1.5867e-02,\n",
            "         1.6332e-02,  1.6629e-03, -9.0556e-04, -9.5782e-03,  2.1710e-01,\n",
            "         2.9638e-03,  1.3448e-02,  1.0622e-02,  5.5030e-03,  2.8569e-02,\n",
            "        -1.6710e-02,  4.4439e-03,  6.2651e-03,  6.0961e-03, -3.8734e-03,\n",
            "         2.5827e-01, -2.0040e-03,  3.1160e-03, -6.7282e-03, -3.9022e-03,\n",
            "        -1.8919e-02,  6.8926e-03, -3.0008e-03,  5.0888e-03,  1.8161e-02,\n",
            "        -7.1564e-03, -1.6225e-05, -1.2027e-02,  1.9030e-02, -1.0289e-02,\n",
            "         1.9482e-03, -3.9909e-04,  6.8920e-03, -4.3712e-03,  3.0731e-02,\n",
            "         1.9613e-02, -9.4163e-03, -2.1796e-03, -3.0293e-03,  1.0424e-02,\n",
            "         2.6064e-02,  2.6041e-01,  1.1988e-02,  1.8912e-02,  1.1217e-02,\n",
            "         1.1151e-02,  1.1509e-02,  5.6106e-03, -4.2055e-03, -2.1393e-02,\n",
            "        -1.0896e-02,  1.8607e-01, -6.6730e-04,  1.5797e-02,  2.6687e-03,\n",
            "        -2.7759e-03, -6.7190e-02,  2.6085e-03,  2.6315e-03,  2.0473e-02,\n",
            "         1.9756e-02,  7.7024e-03, -1.0309e-03,  2.0917e-03, -3.7086e-03,\n",
            "        -8.0654e-03, -1.1863e-02,  1.1245e-02,  2.3520e-03,  1.8718e-01,\n",
            "        -1.5739e-03, -1.0140e-02,  1.2367e-02, -7.7378e-03,  3.7222e-04,\n",
            "        -9.8826e-03,  3.0584e-01, -5.8821e-03,  8.6891e-03,  1.7601e-02,\n",
            "         2.0438e-02,  1.8210e-02, -7.3872e-04, -4.2868e-03, -2.2583e-02,\n",
            "         7.2409e-03, -2.4345e-03, -3.0148e-02,  7.5454e-03,  7.0309e-03,\n",
            "        -1.0474e-02, -2.3680e-02,  1.6990e-03,  2.3108e-02,  9.4036e-03,\n",
            "         2.9715e-03, -6.4738e-04,  9.8274e-03,  4.7903e-03,  1.2109e-02,\n",
            "        -7.6719e-03, -3.0477e-03, -6.2213e-05, -6.3408e-03,  1.6894e-02,\n",
            "        -1.4503e-02,  2.4355e-03, -1.2076e-02, -4.0337e-04, -5.9184e-03,\n",
            "        -3.1389e-03, -3.1023e-03, -5.8868e-02,  9.5233e-04,  7.1454e-03,\n",
            "        -9.1955e-03,  6.7404e-03,  5.4510e-03, -7.1070e-03,  8.8593e-03,\n",
            "         8.2022e-03,  1.8230e-02,  4.7407e-03,  4.2784e-03,  2.2527e-02,\n",
            "         2.0856e-03,  2.1033e-02, -1.9580e-02, -1.4349e-03, -1.2557e-02,\n",
            "        -2.4810e-03,  2.3005e-02,  3.1500e-03,  4.9235e-03, -1.0907e-02,\n",
            "         1.3919e-02,  3.7276e-03,  5.2509e-03,  3.5839e-04, -2.0515e-02,\n",
            "         1.7495e-01,  1.6063e-01, -2.9018e-04,  3.6272e-03,  1.9027e-02,\n",
            "         1.3451e-02,  2.2781e-02,  5.1424e-03, -4.0689e-03, -1.2135e-02,\n",
            "         6.7364e-03, -1.8241e-03,  3.0635e-03, -6.8830e-03,  5.6175e-03,\n",
            "         8.3888e-03,  1.6289e-01, -1.9911e-02,  2.4368e-02, -1.7950e-02,\n",
            "         7.1019e-03,  1.0328e-02,  1.2825e-02,  3.4994e-03, -1.0016e-02,\n",
            "         2.9209e-03,  8.6846e-03,  1.5096e-02, -1.3560e-02,  9.0808e-03,\n",
            "         7.4549e-03,  1.2360e-02, -5.8996e-03,  1.8115e-02, -2.2836e-02,\n",
            "         1.3311e-02,  3.1072e-02,  6.6798e-03,  2.0135e-02,  1.9595e-02,\n",
            "        -1.2086e-03,  1.9081e-02,  1.1912e-02,  5.0697e-03, -6.6739e-04,\n",
            "        -7.7168e-03,  1.0440e-02, -4.5455e-03,  1.7168e-03, -4.9016e-03,\n",
            "        -4.2544e-03, -5.9806e-03,  1.0596e-02,  1.7297e-03,  3.0500e-02,\n",
            "         9.4621e-04, -7.0597e-03,  3.0934e-03,  2.5872e-02, -6.2799e-03,\n",
            "        -1.6499e-03,  1.0675e-02,  5.8144e-03,  1.7767e-01,  4.9309e-03,\n",
            "         1.5106e-02, -2.1383e-02,  5.2367e-03,  1.3429e-02, -5.6290e-03,\n",
            "         1.8430e-01, -9.0092e-03,  6.7234e-03,  1.2889e-02,  1.0121e-02,\n",
            "        -2.1052e-02,  2.0591e-02,  1.5077e-02,  1.8307e-02, -1.5706e-03,\n",
            "         6.1106e-03,  9.5088e-03, -4.0168e-03,  1.6178e-04,  2.5068e-02,\n",
            "         5.2236e-04,  1.5836e-03, -3.7349e-03, -4.1961e-03, -1.2715e-02,\n",
            "         2.8378e-01,  3.5853e-03,  6.2963e-03,  1.5395e-02,  1.6861e-02,\n",
            "         1.6793e-02, -5.0066e-03, -4.4481e-03, -1.2803e-02,  1.2171e-02,\n",
            "         1.0512e-02,  9.8904e-06,  3.8548e-03,  1.1700e-02,  1.4718e-02,\n",
            "         6.6116e-03,  1.3129e-02,  8.9998e-03,  3.6102e-04,  4.9801e-03,\n",
            "         1.0706e-02,  1.3386e-02, -7.4295e-03, -4.1835e-03,  3.9064e-03,\n",
            "         7.4608e-03, -1.2984e-02, -1.6918e-02,  9.8480e-02, -3.9543e-03,\n",
            "         5.1426e-03,  1.6878e-02,  1.1381e-02, -2.2493e-03, -5.2819e-03,\n",
            "         1.0521e-02,  2.3869e-04,  1.1340e-02,  1.2510e-02,  3.3129e-02,\n",
            "        -1.0095e-03, -9.2366e-03,  9.8646e-03,  2.2459e-02,  5.2454e-03,\n",
            "         2.9366e-02, -1.0363e-02,  6.8539e-03,  1.5572e-03, -1.5146e-02,\n",
            "         1.2503e-02, -2.9307e-03,  1.1368e-02, -1.4645e-02,  2.5223e-02,\n",
            "         7.1084e-03,  3.5932e-02,  1.4368e-03,  3.5728e-03,  6.6719e-03,\n",
            "        -7.7971e-03,  4.4454e-03,  1.9449e-02, -2.4481e-03,  9.0059e-03,\n",
            "        -1.4163e-02,  1.4313e-02, -1.3417e-02,  1.6741e-02,  1.0912e-02,\n",
            "        -5.4066e-03,  5.7180e-03, -5.1196e-03, -9.0757e-03,  3.7791e-02,\n",
            "         7.7331e-03, -6.1696e-03,  2.4722e-03,  3.9992e-03,  7.2616e-03,\n",
            "        -1.7657e-02, -1.1077e-02, -8.0096e-03,  2.4110e-03, -1.6198e-02,\n",
            "        -3.8552e-03, -1.7570e-03,  1.6114e-02,  1.0640e-02,  1.0378e-03,\n",
            "         6.9938e-03,  2.8009e-01, -3.3418e-03, -1.2610e-02, -4.6360e-03,\n",
            "         9.7063e-03,  1.9523e-01,  3.4373e-03, -1.0226e-02,  8.0804e-03,\n",
            "         1.0334e-02, -5.7715e-03,  7.1998e-05, -1.3727e-02,  7.7011e-03,\n",
            "         1.3898e-03,  3.8267e-03,  1.6508e-02,  1.6305e-02, -1.3460e-02,\n",
            "         1.7845e-02,  1.1800e-03,  1.4746e-02,  1.3810e-02,  5.5200e-03,\n",
            "         1.2320e-02,  8.3442e-03, -1.0485e-02, -5.7084e-03, -2.3093e-02,\n",
            "        -3.6907e-03, -5.3523e-03, -7.3229e-03,  5.8964e-03, -2.5439e-02,\n",
            "         6.1195e-03,  2.7033e-04, -1.0942e-02,  8.7010e-04,  1.4495e-02,\n",
            "         5.4689e-03, -5.2274e-04,  2.3522e-03, -1.3435e-02, -5.0200e-03,\n",
            "         8.6287e-03,  3.5787e-03,  5.4317e-03,  5.6371e-02,  1.1641e-02,\n",
            "         4.9739e-03, -1.0146e-02,  1.2929e-03, -4.8713e-04,  1.3031e-02,\n",
            "        -5.2310e-04, -1.5613e-03, -9.9134e-03,  3.8761e-03,  2.5764e-02,\n",
            "        -8.8913e-03, -2.8600e-03,  5.2189e-03, -1.3753e-02, -8.8966e-03,\n",
            "         2.3117e-03, -8.4909e-03,  1.1915e-02,  2.1668e-02, -3.4531e-02,\n",
            "         1.6889e-03,  1.3249e-02,  7.9075e-04,  1.7057e-01,  5.7350e-03,\n",
            "        -9.0162e-03,  4.9077e-03,  2.0955e-01,  4.8613e-03, -1.5838e-02,\n",
            "        -1.4876e-02, -1.0812e-02,  8.6992e-03,  1.2045e-03,  9.8845e-03,\n",
            "         1.2076e-05, -1.4141e-02,  7.9892e-03, -5.7189e-03,  4.2753e-03,\n",
            "        -5.3526e-03,  1.3298e-02, -1.3520e-02,  9.0687e-03,  2.3961e-01,\n",
            "         2.5821e-02, -1.6385e-03, -4.8068e-03, -1.0853e-02, -2.0045e-03,\n",
            "         8.9563e-03,  1.3480e-02,  9.0208e-03,  1.0814e-02,  2.5884e-03,\n",
            "         1.0199e-02, -4.7383e-03,  6.6718e-05,  1.5607e-02,  1.0241e-02,\n",
            "        -2.6987e-03, -8.9518e-03,  8.5201e-03,  1.0763e-03, -7.0615e-03,\n",
            "         1.4503e-03, -8.6607e-04, -1.0030e-02,  4.5897e-03, -5.9288e-03,\n",
            "         1.5996e-02,  1.0952e-02, -7.1999e-03,  9.4833e-03, -1.9508e-02,\n",
            "        -1.1779e-02, -4.3604e-03,  6.4326e-03,  1.8535e-02,  7.2209e-03,\n",
            "        -1.1220e-02,  2.0999e-04, -4.0014e-03, -1.6805e-03,  1.0322e-03,\n",
            "        -5.5332e-03,  6.9410e-03, -1.1199e-02,  1.2778e-02, -2.5825e-02,\n",
            "         1.0857e-03, -7.3616e-03,  2.6332e-02,  1.3984e-03,  1.4890e-02,\n",
            "         2.5084e-03,  1.1521e-02,  1.1817e-02, -1.7249e-02,  1.1178e-02,\n",
            "        -6.9528e-03, -4.5294e-03, -2.5525e-02,  4.6588e-03, -5.1139e-04,\n",
            "         1.5672e-02,  3.1560e-03,  3.2373e-03, -2.0400e-02,  4.6760e-03,\n",
            "         1.7454e-03, -8.2891e-03, -1.7607e-03,  9.6235e-03, -8.4174e-03,\n",
            "         4.3444e-03, -6.3969e-03, -1.9427e-02,  1.4399e-02,  2.0460e-01,\n",
            "         2.8768e-04,  2.3139e-03, -9.5459e-03,  8.0945e-04,  2.2080e-01,\n",
            "        -6.6358e-02,  7.0947e-03, -6.4469e-03,  3.2932e-04, -1.7760e-02,\n",
            "        -6.7151e-03,  7.9777e-03,  1.7213e-02, -1.7194e-02,  7.7027e-03,\n",
            "        -6.4880e-03,  1.4561e-02, -5.8409e-03,  2.9137e-02, -1.0146e-02,\n",
            "        -2.8178e-03, -1.0886e-02, -7.9710e-03, -3.7564e-03, -2.2513e-03,\n",
            "        -4.6718e-03,  5.3047e-03,  1.6103e-02, -1.6867e-02,  2.2091e-03,\n",
            "         1.3690e-02,  6.0792e-03,  9.1518e-03,  6.6448e-03,  2.9194e-01,\n",
            "         3.9288e-03,  1.6820e-02,  1.3318e-02,  1.4776e-02, -1.4938e-03,\n",
            "         1.5159e-02, -4.0977e-03, -2.8584e-03, -7.1905e-03, -2.3390e-03,\n",
            "         3.4813e-03,  2.4917e-01,  5.1218e-03,  4.7574e-03,  6.4209e-03,\n",
            "         8.4503e-04,  9.5126e-03, -8.4593e-03], device='cuda:0',\n",
            "       grad_fn=<SelectBackward0>)\n"
          ]
        }
      ]
    },
    {
      "cell_type": "markdown",
      "metadata": {
        "id": "e4K-Ds4Yn0UN"
      },
      "source": [
        "궁금한 부분이나 조언이 있다면 댓글에 남겨주세요"
      ]
    }
  ],
  "metadata": {
    "kernelspec": {
      "display_name": "Python 3",
      "name": "python3"
    },
    "language_info": {
      "codemirror_mode": {
        "name": "ipython",
        "version": 3
      },
      "file_extension": ".py",
      "mimetype": "text/x-python",
      "name": "python",
      "nbconvert_exporter": "python",
      "pygments_lexer": "ipython3",
      "version": "3.8.13"
    },
    "orig_nbformat": 4,
    "vscode": {
      "interpreter": {
        "hash": "1201aed7278f566d08684214e947d9aa97ba318061e22672851b23b6bee3a7a3"
      }
    },
    "colab": {
      "provenance": [],
      "gpuType": "T4",
      "include_colab_link": true
    },
    "accelerator": "GPU",
    "widgets": {
      "application/vnd.jupyter.widget-state+json": {
        "923f49eaeca94491b876ed222024b95c": {
          "model_module": "@jupyter-widgets/controls",
          "model_name": "HBoxModel",
          "model_module_version": "1.5.0",
          "state": {
            "_dom_classes": [],
            "_model_module": "@jupyter-widgets/controls",
            "_model_module_version": "1.5.0",
            "_model_name": "HBoxModel",
            "_view_count": null,
            "_view_module": "@jupyter-widgets/controls",
            "_view_module_version": "1.5.0",
            "_view_name": "HBoxView",
            "box_style": "",
            "children": [
              "IPY_MODEL_be35be854f35472dbfeffda83df4b44e",
              "IPY_MODEL_c46ec444d3864565be5429fde601f9b5",
              "IPY_MODEL_b30ab6a0a7aa4a5482185a4cf4b0dbc8"
            ],
            "layout": "IPY_MODEL_e47c875ce14a4c6a9d129aed6cf31fd7"
          }
        },
        "be35be854f35472dbfeffda83df4b44e": {
          "model_module": "@jupyter-widgets/controls",
          "model_name": "HTMLModel",
          "model_module_version": "1.5.0",
          "state": {
            "_dom_classes": [],
            "_model_module": "@jupyter-widgets/controls",
            "_model_module_version": "1.5.0",
            "_model_name": "HTMLModel",
            "_view_count": null,
            "_view_module": "@jupyter-widgets/controls",
            "_view_module_version": "1.5.0",
            "_view_name": "HTMLView",
            "description": "",
            "description_tooltip": null,
            "layout": "IPY_MODEL_0986369541c140a6b59877b7982960fc",
            "placeholder": "​",
            "style": "IPY_MODEL_8ff810c4de3d4490b28979000f9d69f3",
            "value": "config.json: 100%"
          }
        },
        "c46ec444d3864565be5429fde601f9b5": {
          "model_module": "@jupyter-widgets/controls",
          "model_name": "FloatProgressModel",
          "model_module_version": "1.5.0",
          "state": {
            "_dom_classes": [],
            "_model_module": "@jupyter-widgets/controls",
            "_model_module_version": "1.5.0",
            "_model_name": "FloatProgressModel",
            "_view_count": null,
            "_view_module": "@jupyter-widgets/controls",
            "_view_module_version": "1.5.0",
            "_view_name": "ProgressView",
            "bar_style": "success",
            "description": "",
            "description_tooltip": null,
            "layout": "IPY_MODEL_9674456b8e7149fd83d1e686b19b2340",
            "max": 545,
            "min": 0,
            "orientation": "horizontal",
            "style": "IPY_MODEL_d5bcff7d9e4946e288d5b21a0d2d50b9",
            "value": 545
          }
        },
        "b30ab6a0a7aa4a5482185a4cf4b0dbc8": {
          "model_module": "@jupyter-widgets/controls",
          "model_name": "HTMLModel",
          "model_module_version": "1.5.0",
          "state": {
            "_dom_classes": [],
            "_model_module": "@jupyter-widgets/controls",
            "_model_module_version": "1.5.0",
            "_model_name": "HTMLModel",
            "_view_count": null,
            "_view_module": "@jupyter-widgets/controls",
            "_view_module_version": "1.5.0",
            "_view_name": "HTMLView",
            "description": "",
            "description_tooltip": null,
            "layout": "IPY_MODEL_1e8531dd295f4c1c8fd0e0840ad7e077",
            "placeholder": "​",
            "style": "IPY_MODEL_2918e18c014245d6902ca2d242fe4d7e",
            "value": " 545/545 [00:00&lt;00:00, 29.7kB/s]"
          }
        },
        "e47c875ce14a4c6a9d129aed6cf31fd7": {
          "model_module": "@jupyter-widgets/base",
          "model_name": "LayoutModel",
          "model_module_version": "1.2.0",
          "state": {
            "_model_module": "@jupyter-widgets/base",
            "_model_module_version": "1.2.0",
            "_model_name": "LayoutModel",
            "_view_count": null,
            "_view_module": "@jupyter-widgets/base",
            "_view_module_version": "1.2.0",
            "_view_name": "LayoutView",
            "align_content": null,
            "align_items": null,
            "align_self": null,
            "border": null,
            "bottom": null,
            "display": null,
            "flex": null,
            "flex_flow": null,
            "grid_area": null,
            "grid_auto_columns": null,
            "grid_auto_flow": null,
            "grid_auto_rows": null,
            "grid_column": null,
            "grid_gap": null,
            "grid_row": null,
            "grid_template_areas": null,
            "grid_template_columns": null,
            "grid_template_rows": null,
            "height": null,
            "justify_content": null,
            "justify_items": null,
            "left": null,
            "margin": null,
            "max_height": null,
            "max_width": null,
            "min_height": null,
            "min_width": null,
            "object_fit": null,
            "object_position": null,
            "order": null,
            "overflow": null,
            "overflow_x": null,
            "overflow_y": null,
            "padding": null,
            "right": null,
            "top": null,
            "visibility": null,
            "width": null
          }
        },
        "0986369541c140a6b59877b7982960fc": {
          "model_module": "@jupyter-widgets/base",
          "model_name": "LayoutModel",
          "model_module_version": "1.2.0",
          "state": {
            "_model_module": "@jupyter-widgets/base",
            "_model_module_version": "1.2.0",
            "_model_name": "LayoutModel",
            "_view_count": null,
            "_view_module": "@jupyter-widgets/base",
            "_view_module_version": "1.2.0",
            "_view_name": "LayoutView",
            "align_content": null,
            "align_items": null,
            "align_self": null,
            "border": null,
            "bottom": null,
            "display": null,
            "flex": null,
            "flex_flow": null,
            "grid_area": null,
            "grid_auto_columns": null,
            "grid_auto_flow": null,
            "grid_auto_rows": null,
            "grid_column": null,
            "grid_gap": null,
            "grid_row": null,
            "grid_template_areas": null,
            "grid_template_columns": null,
            "grid_template_rows": null,
            "height": null,
            "justify_content": null,
            "justify_items": null,
            "left": null,
            "margin": null,
            "max_height": null,
            "max_width": null,
            "min_height": null,
            "min_width": null,
            "object_fit": null,
            "object_position": null,
            "order": null,
            "overflow": null,
            "overflow_x": null,
            "overflow_y": null,
            "padding": null,
            "right": null,
            "top": null,
            "visibility": null,
            "width": null
          }
        },
        "8ff810c4de3d4490b28979000f9d69f3": {
          "model_module": "@jupyter-widgets/controls",
          "model_name": "DescriptionStyleModel",
          "model_module_version": "1.5.0",
          "state": {
            "_model_module": "@jupyter-widgets/controls",
            "_model_module_version": "1.5.0",
            "_model_name": "DescriptionStyleModel",
            "_view_count": null,
            "_view_module": "@jupyter-widgets/base",
            "_view_module_version": "1.2.0",
            "_view_name": "StyleView",
            "description_width": ""
          }
        },
        "9674456b8e7149fd83d1e686b19b2340": {
          "model_module": "@jupyter-widgets/base",
          "model_name": "LayoutModel",
          "model_module_version": "1.2.0",
          "state": {
            "_model_module": "@jupyter-widgets/base",
            "_model_module_version": "1.2.0",
            "_model_name": "LayoutModel",
            "_view_count": null,
            "_view_module": "@jupyter-widgets/base",
            "_view_module_version": "1.2.0",
            "_view_name": "LayoutView",
            "align_content": null,
            "align_items": null,
            "align_self": null,
            "border": null,
            "bottom": null,
            "display": null,
            "flex": null,
            "flex_flow": null,
            "grid_area": null,
            "grid_auto_columns": null,
            "grid_auto_flow": null,
            "grid_auto_rows": null,
            "grid_column": null,
            "grid_gap": null,
            "grid_row": null,
            "grid_template_areas": null,
            "grid_template_columns": null,
            "grid_template_rows": null,
            "height": null,
            "justify_content": null,
            "justify_items": null,
            "left": null,
            "margin": null,
            "max_height": null,
            "max_width": null,
            "min_height": null,
            "min_width": null,
            "object_fit": null,
            "object_position": null,
            "order": null,
            "overflow": null,
            "overflow_x": null,
            "overflow_y": null,
            "padding": null,
            "right": null,
            "top": null,
            "visibility": null,
            "width": null
          }
        },
        "d5bcff7d9e4946e288d5b21a0d2d50b9": {
          "model_module": "@jupyter-widgets/controls",
          "model_name": "ProgressStyleModel",
          "model_module_version": "1.5.0",
          "state": {
            "_model_module": "@jupyter-widgets/controls",
            "_model_module_version": "1.5.0",
            "_model_name": "ProgressStyleModel",
            "_view_count": null,
            "_view_module": "@jupyter-widgets/base",
            "_view_module_version": "1.2.0",
            "_view_name": "StyleView",
            "bar_color": null,
            "description_width": ""
          }
        },
        "1e8531dd295f4c1c8fd0e0840ad7e077": {
          "model_module": "@jupyter-widgets/base",
          "model_name": "LayoutModel",
          "model_module_version": "1.2.0",
          "state": {
            "_model_module": "@jupyter-widgets/base",
            "_model_module_version": "1.2.0",
            "_model_name": "LayoutModel",
            "_view_count": null,
            "_view_module": "@jupyter-widgets/base",
            "_view_module_version": "1.2.0",
            "_view_name": "LayoutView",
            "align_content": null,
            "align_items": null,
            "align_self": null,
            "border": null,
            "bottom": null,
            "display": null,
            "flex": null,
            "flex_flow": null,
            "grid_area": null,
            "grid_auto_columns": null,
            "grid_auto_flow": null,
            "grid_auto_rows": null,
            "grid_column": null,
            "grid_gap": null,
            "grid_row": null,
            "grid_template_areas": null,
            "grid_template_columns": null,
            "grid_template_rows": null,
            "height": null,
            "justify_content": null,
            "justify_items": null,
            "left": null,
            "margin": null,
            "max_height": null,
            "max_width": null,
            "min_height": null,
            "min_width": null,
            "object_fit": null,
            "object_position": null,
            "order": null,
            "overflow": null,
            "overflow_x": null,
            "overflow_y": null,
            "padding": null,
            "right": null,
            "top": null,
            "visibility": null,
            "width": null
          }
        },
        "2918e18c014245d6902ca2d242fe4d7e": {
          "model_module": "@jupyter-widgets/controls",
          "model_name": "DescriptionStyleModel",
          "model_module_version": "1.5.0",
          "state": {
            "_model_module": "@jupyter-widgets/controls",
            "_model_module_version": "1.5.0",
            "_model_name": "DescriptionStyleModel",
            "_view_count": null,
            "_view_module": "@jupyter-widgets/base",
            "_view_module_version": "1.2.0",
            "_view_name": "StyleView",
            "description_width": ""
          }
        },
        "3de6f2efa61a4be29fadae573f92cf41": {
          "model_module": "@jupyter-widgets/controls",
          "model_name": "HBoxModel",
          "model_module_version": "1.5.0",
          "state": {
            "_dom_classes": [],
            "_model_module": "@jupyter-widgets/controls",
            "_model_module_version": "1.5.0",
            "_model_name": "HBoxModel",
            "_view_count": null,
            "_view_module": "@jupyter-widgets/controls",
            "_view_module_version": "1.5.0",
            "_view_name": "HBoxView",
            "box_style": "",
            "children": [
              "IPY_MODEL_b24ca22b34784811a1daf7ebea4ec3eb",
              "IPY_MODEL_5eebd229e09346d283f0a97478ed4877",
              "IPY_MODEL_a05cd6038bb144b49854091013f2c703"
            ],
            "layout": "IPY_MODEL_76e9160b2567490daf76aef5e1dbb075"
          }
        },
        "b24ca22b34784811a1daf7ebea4ec3eb": {
          "model_module": "@jupyter-widgets/controls",
          "model_name": "HTMLModel",
          "model_module_version": "1.5.0",
          "state": {
            "_dom_classes": [],
            "_model_module": "@jupyter-widgets/controls",
            "_model_module_version": "1.5.0",
            "_model_name": "HTMLModel",
            "_view_count": null,
            "_view_module": "@jupyter-widgets/controls",
            "_view_module_version": "1.5.0",
            "_view_name": "HTMLView",
            "description": "",
            "description_tooltip": null,
            "layout": "IPY_MODEL_2b97dc6bbae64a0581cdcbc34e404dbd",
            "placeholder": "​",
            "style": "IPY_MODEL_200d79714f524d6aaf48bff2353d2867",
            "value": "model.safetensors: 100%"
          }
        },
        "5eebd229e09346d283f0a97478ed4877": {
          "model_module": "@jupyter-widgets/controls",
          "model_name": "FloatProgressModel",
          "model_module_version": "1.5.0",
          "state": {
            "_dom_classes": [],
            "_model_module": "@jupyter-widgets/controls",
            "_model_module_version": "1.5.0",
            "_model_name": "FloatProgressModel",
            "_view_count": null,
            "_view_module": "@jupyter-widgets/controls",
            "_view_module_version": "1.5.0",
            "_view_name": "ProgressView",
            "bar_style": "success",
            "description": "",
            "description_tooltip": null,
            "layout": "IPY_MODEL_720194d333404c958b9580939c15e528",
            "max": 272514464,
            "min": 0,
            "orientation": "horizontal",
            "style": "IPY_MODEL_aa5d2c4240354953b570ec096f0c4d87",
            "value": 272514464
          }
        },
        "a05cd6038bb144b49854091013f2c703": {
          "model_module": "@jupyter-widgets/controls",
          "model_name": "HTMLModel",
          "model_module_version": "1.5.0",
          "state": {
            "_dom_classes": [],
            "_model_module": "@jupyter-widgets/controls",
            "_model_module_version": "1.5.0",
            "_model_name": "HTMLModel",
            "_view_count": null,
            "_view_module": "@jupyter-widgets/controls",
            "_view_module_version": "1.5.0",
            "_view_name": "HTMLView",
            "description": "",
            "description_tooltip": null,
            "layout": "IPY_MODEL_6fa2d9044bd74d6294f097a820b0ab84",
            "placeholder": "​",
            "style": "IPY_MODEL_fbfbc3fbf80d4e9095eb01dabbaa2298",
            "value": " 273M/273M [00:03&lt;00:00, 80.0MB/s]"
          }
        },
        "76e9160b2567490daf76aef5e1dbb075": {
          "model_module": "@jupyter-widgets/base",
          "model_name": "LayoutModel",
          "model_module_version": "1.2.0",
          "state": {
            "_model_module": "@jupyter-widgets/base",
            "_model_module_version": "1.2.0",
            "_model_name": "LayoutModel",
            "_view_count": null,
            "_view_module": "@jupyter-widgets/base",
            "_view_module_version": "1.2.0",
            "_view_name": "LayoutView",
            "align_content": null,
            "align_items": null,
            "align_self": null,
            "border": null,
            "bottom": null,
            "display": null,
            "flex": null,
            "flex_flow": null,
            "grid_area": null,
            "grid_auto_columns": null,
            "grid_auto_flow": null,
            "grid_auto_rows": null,
            "grid_column": null,
            "grid_gap": null,
            "grid_row": null,
            "grid_template_areas": null,
            "grid_template_columns": null,
            "grid_template_rows": null,
            "height": null,
            "justify_content": null,
            "justify_items": null,
            "left": null,
            "margin": null,
            "max_height": null,
            "max_width": null,
            "min_height": null,
            "min_width": null,
            "object_fit": null,
            "object_position": null,
            "order": null,
            "overflow": null,
            "overflow_x": null,
            "overflow_y": null,
            "padding": null,
            "right": null,
            "top": null,
            "visibility": null,
            "width": null
          }
        },
        "2b97dc6bbae64a0581cdcbc34e404dbd": {
          "model_module": "@jupyter-widgets/base",
          "model_name": "LayoutModel",
          "model_module_version": "1.2.0",
          "state": {
            "_model_module": "@jupyter-widgets/base",
            "_model_module_version": "1.2.0",
            "_model_name": "LayoutModel",
            "_view_count": null,
            "_view_module": "@jupyter-widgets/base",
            "_view_module_version": "1.2.0",
            "_view_name": "LayoutView",
            "align_content": null,
            "align_items": null,
            "align_self": null,
            "border": null,
            "bottom": null,
            "display": null,
            "flex": null,
            "flex_flow": null,
            "grid_area": null,
            "grid_auto_columns": null,
            "grid_auto_flow": null,
            "grid_auto_rows": null,
            "grid_column": null,
            "grid_gap": null,
            "grid_row": null,
            "grid_template_areas": null,
            "grid_template_columns": null,
            "grid_template_rows": null,
            "height": null,
            "justify_content": null,
            "justify_items": null,
            "left": null,
            "margin": null,
            "max_height": null,
            "max_width": null,
            "min_height": null,
            "min_width": null,
            "object_fit": null,
            "object_position": null,
            "order": null,
            "overflow": null,
            "overflow_x": null,
            "overflow_y": null,
            "padding": null,
            "right": null,
            "top": null,
            "visibility": null,
            "width": null
          }
        },
        "200d79714f524d6aaf48bff2353d2867": {
          "model_module": "@jupyter-widgets/controls",
          "model_name": "DescriptionStyleModel",
          "model_module_version": "1.5.0",
          "state": {
            "_model_module": "@jupyter-widgets/controls",
            "_model_module_version": "1.5.0",
            "_model_name": "DescriptionStyleModel",
            "_view_count": null,
            "_view_module": "@jupyter-widgets/base",
            "_view_module_version": "1.2.0",
            "_view_name": "StyleView",
            "description_width": ""
          }
        },
        "720194d333404c958b9580939c15e528": {
          "model_module": "@jupyter-widgets/base",
          "model_name": "LayoutModel",
          "model_module_version": "1.2.0",
          "state": {
            "_model_module": "@jupyter-widgets/base",
            "_model_module_version": "1.2.0",
            "_model_name": "LayoutModel",
            "_view_count": null,
            "_view_module": "@jupyter-widgets/base",
            "_view_module_version": "1.2.0",
            "_view_name": "LayoutView",
            "align_content": null,
            "align_items": null,
            "align_self": null,
            "border": null,
            "bottom": null,
            "display": null,
            "flex": null,
            "flex_flow": null,
            "grid_area": null,
            "grid_auto_columns": null,
            "grid_auto_flow": null,
            "grid_auto_rows": null,
            "grid_column": null,
            "grid_gap": null,
            "grid_row": null,
            "grid_template_areas": null,
            "grid_template_columns": null,
            "grid_template_rows": null,
            "height": null,
            "justify_content": null,
            "justify_items": null,
            "left": null,
            "margin": null,
            "max_height": null,
            "max_width": null,
            "min_height": null,
            "min_width": null,
            "object_fit": null,
            "object_position": null,
            "order": null,
            "overflow": null,
            "overflow_x": null,
            "overflow_y": null,
            "padding": null,
            "right": null,
            "top": null,
            "visibility": null,
            "width": null
          }
        },
        "aa5d2c4240354953b570ec096f0c4d87": {
          "model_module": "@jupyter-widgets/controls",
          "model_name": "ProgressStyleModel",
          "model_module_version": "1.5.0",
          "state": {
            "_model_module": "@jupyter-widgets/controls",
            "_model_module_version": "1.5.0",
            "_model_name": "ProgressStyleModel",
            "_view_count": null,
            "_view_module": "@jupyter-widgets/base",
            "_view_module_version": "1.2.0",
            "_view_name": "StyleView",
            "bar_color": null,
            "description_width": ""
          }
        },
        "6fa2d9044bd74d6294f097a820b0ab84": {
          "model_module": "@jupyter-widgets/base",
          "model_name": "LayoutModel",
          "model_module_version": "1.2.0",
          "state": {
            "_model_module": "@jupyter-widgets/base",
            "_model_module_version": "1.2.0",
            "_model_name": "LayoutModel",
            "_view_count": null,
            "_view_module": "@jupyter-widgets/base",
            "_view_module_version": "1.2.0",
            "_view_name": "LayoutView",
            "align_content": null,
            "align_items": null,
            "align_self": null,
            "border": null,
            "bottom": null,
            "display": null,
            "flex": null,
            "flex_flow": null,
            "grid_area": null,
            "grid_auto_columns": null,
            "grid_auto_flow": null,
            "grid_auto_rows": null,
            "grid_column": null,
            "grid_gap": null,
            "grid_row": null,
            "grid_template_areas": null,
            "grid_template_columns": null,
            "grid_template_rows": null,
            "height": null,
            "justify_content": null,
            "justify_items": null,
            "left": null,
            "margin": null,
            "max_height": null,
            "max_width": null,
            "min_height": null,
            "min_width": null,
            "object_fit": null,
            "object_position": null,
            "order": null,
            "overflow": null,
            "overflow_x": null,
            "overflow_y": null,
            "padding": null,
            "right": null,
            "top": null,
            "visibility": null,
            "width": null
          }
        },
        "fbfbc3fbf80d4e9095eb01dabbaa2298": {
          "model_module": "@jupyter-widgets/controls",
          "model_name": "DescriptionStyleModel",
          "model_module_version": "1.5.0",
          "state": {
            "_model_module": "@jupyter-widgets/controls",
            "_model_module_version": "1.5.0",
            "_model_name": "DescriptionStyleModel",
            "_view_count": null,
            "_view_module": "@jupyter-widgets/base",
            "_view_module_version": "1.2.0",
            "_view_name": "StyleView",
            "description_width": ""
          }
        },
        "9491a3f6b045443fb6cc1e18671e9dcc": {
          "model_module": "@jupyter-widgets/controls",
          "model_name": "HBoxModel",
          "model_module_version": "1.5.0",
          "state": {
            "_dom_classes": [],
            "_model_module": "@jupyter-widgets/controls",
            "_model_module_version": "1.5.0",
            "_model_name": "HBoxModel",
            "_view_count": null,
            "_view_module": "@jupyter-widgets/controls",
            "_view_module_version": "1.5.0",
            "_view_name": "HBoxView",
            "box_style": "",
            "children": [
              "IPY_MODEL_8d9f8a9c134f4700b437001b4fc51cc0",
              "IPY_MODEL_f8d8efed81104687b45084a09d916dc8",
              "IPY_MODEL_13374504c83b4c9b96a93c320afaba6b"
            ],
            "layout": "IPY_MODEL_93eb1e062c204d2e9cb85ef26af74493"
          }
        },
        "8d9f8a9c134f4700b437001b4fc51cc0": {
          "model_module": "@jupyter-widgets/controls",
          "model_name": "HTMLModel",
          "model_module_version": "1.5.0",
          "state": {
            "_dom_classes": [],
            "_model_module": "@jupyter-widgets/controls",
            "_model_module_version": "1.5.0",
            "_model_name": "HTMLModel",
            "_view_count": null,
            "_view_module": "@jupyter-widgets/controls",
            "_view_module_version": "1.5.0",
            "_view_name": "HTMLView",
            "description": "",
            "description_tooltip": null,
            "layout": "IPY_MODEL_3635b4a431464d7eb3124555eaea2639",
            "placeholder": "​",
            "style": "IPY_MODEL_609344acb9514974aa727a94f54a8422",
            "value": "tokenizer_config.json: 100%"
          }
        },
        "f8d8efed81104687b45084a09d916dc8": {
          "model_module": "@jupyter-widgets/controls",
          "model_name": "FloatProgressModel",
          "model_module_version": "1.5.0",
          "state": {
            "_dom_classes": [],
            "_model_module": "@jupyter-widgets/controls",
            "_model_module_version": "1.5.0",
            "_model_name": "FloatProgressModel",
            "_view_count": null,
            "_view_module": "@jupyter-widgets/controls",
            "_view_module_version": "1.5.0",
            "_view_name": "ProgressView",
            "bar_style": "success",
            "description": "",
            "description_tooltip": null,
            "layout": "IPY_MODEL_8f3dc6fd30ee482e97c051e6f67922ea",
            "max": 375,
            "min": 0,
            "orientation": "horizontal",
            "style": "IPY_MODEL_592d6ebccfbb4f53b7632545f7f3cd54",
            "value": 375
          }
        },
        "13374504c83b4c9b96a93c320afaba6b": {
          "model_module": "@jupyter-widgets/controls",
          "model_name": "HTMLModel",
          "model_module_version": "1.5.0",
          "state": {
            "_dom_classes": [],
            "_model_module": "@jupyter-widgets/controls",
            "_model_module_version": "1.5.0",
            "_model_name": "HTMLModel",
            "_view_count": null,
            "_view_module": "@jupyter-widgets/controls",
            "_view_module_version": "1.5.0",
            "_view_name": "HTMLView",
            "description": "",
            "description_tooltip": null,
            "layout": "IPY_MODEL_84c44233fc1b45f299d3b4b13789c35a",
            "placeholder": "​",
            "style": "IPY_MODEL_ed8b537af7574d10bf213704bd89ebb9",
            "value": " 375/375 [00:00&lt;00:00, 15.3kB/s]"
          }
        },
        "93eb1e062c204d2e9cb85ef26af74493": {
          "model_module": "@jupyter-widgets/base",
          "model_name": "LayoutModel",
          "model_module_version": "1.2.0",
          "state": {
            "_model_module": "@jupyter-widgets/base",
            "_model_module_version": "1.2.0",
            "_model_name": "LayoutModel",
            "_view_count": null,
            "_view_module": "@jupyter-widgets/base",
            "_view_module_version": "1.2.0",
            "_view_name": "LayoutView",
            "align_content": null,
            "align_items": null,
            "align_self": null,
            "border": null,
            "bottom": null,
            "display": null,
            "flex": null,
            "flex_flow": null,
            "grid_area": null,
            "grid_auto_columns": null,
            "grid_auto_flow": null,
            "grid_auto_rows": null,
            "grid_column": null,
            "grid_gap": null,
            "grid_row": null,
            "grid_template_areas": null,
            "grid_template_columns": null,
            "grid_template_rows": null,
            "height": null,
            "justify_content": null,
            "justify_items": null,
            "left": null,
            "margin": null,
            "max_height": null,
            "max_width": null,
            "min_height": null,
            "min_width": null,
            "object_fit": null,
            "object_position": null,
            "order": null,
            "overflow": null,
            "overflow_x": null,
            "overflow_y": null,
            "padding": null,
            "right": null,
            "top": null,
            "visibility": null,
            "width": null
          }
        },
        "3635b4a431464d7eb3124555eaea2639": {
          "model_module": "@jupyter-widgets/base",
          "model_name": "LayoutModel",
          "model_module_version": "1.2.0",
          "state": {
            "_model_module": "@jupyter-widgets/base",
            "_model_module_version": "1.2.0",
            "_model_name": "LayoutModel",
            "_view_count": null,
            "_view_module": "@jupyter-widgets/base",
            "_view_module_version": "1.2.0",
            "_view_name": "LayoutView",
            "align_content": null,
            "align_items": null,
            "align_self": null,
            "border": null,
            "bottom": null,
            "display": null,
            "flex": null,
            "flex_flow": null,
            "grid_area": null,
            "grid_auto_columns": null,
            "grid_auto_flow": null,
            "grid_auto_rows": null,
            "grid_column": null,
            "grid_gap": null,
            "grid_row": null,
            "grid_template_areas": null,
            "grid_template_columns": null,
            "grid_template_rows": null,
            "height": null,
            "justify_content": null,
            "justify_items": null,
            "left": null,
            "margin": null,
            "max_height": null,
            "max_width": null,
            "min_height": null,
            "min_width": null,
            "object_fit": null,
            "object_position": null,
            "order": null,
            "overflow": null,
            "overflow_x": null,
            "overflow_y": null,
            "padding": null,
            "right": null,
            "top": null,
            "visibility": null,
            "width": null
          }
        },
        "609344acb9514974aa727a94f54a8422": {
          "model_module": "@jupyter-widgets/controls",
          "model_name": "DescriptionStyleModel",
          "model_module_version": "1.5.0",
          "state": {
            "_model_module": "@jupyter-widgets/controls",
            "_model_module_version": "1.5.0",
            "_model_name": "DescriptionStyleModel",
            "_view_count": null,
            "_view_module": "@jupyter-widgets/base",
            "_view_module_version": "1.2.0",
            "_view_name": "StyleView",
            "description_width": ""
          }
        },
        "8f3dc6fd30ee482e97c051e6f67922ea": {
          "model_module": "@jupyter-widgets/base",
          "model_name": "LayoutModel",
          "model_module_version": "1.2.0",
          "state": {
            "_model_module": "@jupyter-widgets/base",
            "_model_module_version": "1.2.0",
            "_model_name": "LayoutModel",
            "_view_count": null,
            "_view_module": "@jupyter-widgets/base",
            "_view_module_version": "1.2.0",
            "_view_name": "LayoutView",
            "align_content": null,
            "align_items": null,
            "align_self": null,
            "border": null,
            "bottom": null,
            "display": null,
            "flex": null,
            "flex_flow": null,
            "grid_area": null,
            "grid_auto_columns": null,
            "grid_auto_flow": null,
            "grid_auto_rows": null,
            "grid_column": null,
            "grid_gap": null,
            "grid_row": null,
            "grid_template_areas": null,
            "grid_template_columns": null,
            "grid_template_rows": null,
            "height": null,
            "justify_content": null,
            "justify_items": null,
            "left": null,
            "margin": null,
            "max_height": null,
            "max_width": null,
            "min_height": null,
            "min_width": null,
            "object_fit": null,
            "object_position": null,
            "order": null,
            "overflow": null,
            "overflow_x": null,
            "overflow_y": null,
            "padding": null,
            "right": null,
            "top": null,
            "visibility": null,
            "width": null
          }
        },
        "592d6ebccfbb4f53b7632545f7f3cd54": {
          "model_module": "@jupyter-widgets/controls",
          "model_name": "ProgressStyleModel",
          "model_module_version": "1.5.0",
          "state": {
            "_model_module": "@jupyter-widgets/controls",
            "_model_module_version": "1.5.0",
            "_model_name": "ProgressStyleModel",
            "_view_count": null,
            "_view_module": "@jupyter-widgets/base",
            "_view_module_version": "1.2.0",
            "_view_name": "StyleView",
            "bar_color": null,
            "description_width": ""
          }
        },
        "84c44233fc1b45f299d3b4b13789c35a": {
          "model_module": "@jupyter-widgets/base",
          "model_name": "LayoutModel",
          "model_module_version": "1.2.0",
          "state": {
            "_model_module": "@jupyter-widgets/base",
            "_model_module_version": "1.2.0",
            "_model_name": "LayoutModel",
            "_view_count": null,
            "_view_module": "@jupyter-widgets/base",
            "_view_module_version": "1.2.0",
            "_view_name": "LayoutView",
            "align_content": null,
            "align_items": null,
            "align_self": null,
            "border": null,
            "bottom": null,
            "display": null,
            "flex": null,
            "flex_flow": null,
            "grid_area": null,
            "grid_auto_columns": null,
            "grid_auto_flow": null,
            "grid_auto_rows": null,
            "grid_column": null,
            "grid_gap": null,
            "grid_row": null,
            "grid_template_areas": null,
            "grid_template_columns": null,
            "grid_template_rows": null,
            "height": null,
            "justify_content": null,
            "justify_items": null,
            "left": null,
            "margin": null,
            "max_height": null,
            "max_width": null,
            "min_height": null,
            "min_width": null,
            "object_fit": null,
            "object_position": null,
            "order": null,
            "overflow": null,
            "overflow_x": null,
            "overflow_y": null,
            "padding": null,
            "right": null,
            "top": null,
            "visibility": null,
            "width": null
          }
        },
        "ed8b537af7574d10bf213704bd89ebb9": {
          "model_module": "@jupyter-widgets/controls",
          "model_name": "DescriptionStyleModel",
          "model_module_version": "1.5.0",
          "state": {
            "_model_module": "@jupyter-widgets/controls",
            "_model_module_version": "1.5.0",
            "_model_name": "DescriptionStyleModel",
            "_view_count": null,
            "_view_module": "@jupyter-widgets/base",
            "_view_module_version": "1.2.0",
            "_view_name": "StyleView",
            "description_width": ""
          }
        },
        "2e4c057614044496a90919fe3b26b495": {
          "model_module": "@jupyter-widgets/controls",
          "model_name": "HBoxModel",
          "model_module_version": "1.5.0",
          "state": {
            "_dom_classes": [],
            "_model_module": "@jupyter-widgets/controls",
            "_model_module_version": "1.5.0",
            "_model_name": "HBoxModel",
            "_view_count": null,
            "_view_module": "@jupyter-widgets/controls",
            "_view_module_version": "1.5.0",
            "_view_name": "HBoxView",
            "box_style": "",
            "children": [
              "IPY_MODEL_25e32e1041c54cd4be3dc952ed29436f",
              "IPY_MODEL_3b21d4545055451f90c14dfcfa7a7516",
              "IPY_MODEL_ff1a8938dcaf4c35bcc9a393e686e582"
            ],
            "layout": "IPY_MODEL_210a345c502d4217a2cc5a8fcc4158ba"
          }
        },
        "25e32e1041c54cd4be3dc952ed29436f": {
          "model_module": "@jupyter-widgets/controls",
          "model_name": "HTMLModel",
          "model_module_version": "1.5.0",
          "state": {
            "_dom_classes": [],
            "_model_module": "@jupyter-widgets/controls",
            "_model_module_version": "1.5.0",
            "_model_name": "HTMLModel",
            "_view_count": null,
            "_view_module": "@jupyter-widgets/controls",
            "_view_module_version": "1.5.0",
            "_view_name": "HTMLView",
            "description": "",
            "description_tooltip": null,
            "layout": "IPY_MODEL_10bc9d3b8a344c2a9eb6d257bde967f5",
            "placeholder": "​",
            "style": "IPY_MODEL_529589323e8642758b582952c302e016",
            "value": "vocab.txt: 100%"
          }
        },
        "3b21d4545055451f90c14dfcfa7a7516": {
          "model_module": "@jupyter-widgets/controls",
          "model_name": "FloatProgressModel",
          "model_module_version": "1.5.0",
          "state": {
            "_dom_classes": [],
            "_model_module": "@jupyter-widgets/controls",
            "_model_module_version": "1.5.0",
            "_model_name": "FloatProgressModel",
            "_view_count": null,
            "_view_module": "@jupyter-widgets/controls",
            "_view_module_version": "1.5.0",
            "_view_name": "ProgressView",
            "bar_style": "success",
            "description": "",
            "description_tooltip": null,
            "layout": "IPY_MODEL_d6f9a2f2a4a543249c05692e01a5d7ce",
            "max": 248477,
            "min": 0,
            "orientation": "horizontal",
            "style": "IPY_MODEL_2e1693dd9d484de3a00457f7469b6449",
            "value": 248477
          }
        },
        "ff1a8938dcaf4c35bcc9a393e686e582": {
          "model_module": "@jupyter-widgets/controls",
          "model_name": "HTMLModel",
          "model_module_version": "1.5.0",
          "state": {
            "_dom_classes": [],
            "_model_module": "@jupyter-widgets/controls",
            "_model_module_version": "1.5.0",
            "_model_name": "HTMLModel",
            "_view_count": null,
            "_view_module": "@jupyter-widgets/controls",
            "_view_module_version": "1.5.0",
            "_view_name": "HTMLView",
            "description": "",
            "description_tooltip": null,
            "layout": "IPY_MODEL_5f7ef336cbda42cf945f78d5364e83dc",
            "placeholder": "​",
            "style": "IPY_MODEL_8d15e2e0be4748238882fa92ec22f8d7",
            "value": " 248k/248k [00:00&lt;00:00, 3.88MB/s]"
          }
        },
        "210a345c502d4217a2cc5a8fcc4158ba": {
          "model_module": "@jupyter-widgets/base",
          "model_name": "LayoutModel",
          "model_module_version": "1.2.0",
          "state": {
            "_model_module": "@jupyter-widgets/base",
            "_model_module_version": "1.2.0",
            "_model_name": "LayoutModel",
            "_view_count": null,
            "_view_module": "@jupyter-widgets/base",
            "_view_module_version": "1.2.0",
            "_view_name": "LayoutView",
            "align_content": null,
            "align_items": null,
            "align_self": null,
            "border": null,
            "bottom": null,
            "display": null,
            "flex": null,
            "flex_flow": null,
            "grid_area": null,
            "grid_auto_columns": null,
            "grid_auto_flow": null,
            "grid_auto_rows": null,
            "grid_column": null,
            "grid_gap": null,
            "grid_row": null,
            "grid_template_areas": null,
            "grid_template_columns": null,
            "grid_template_rows": null,
            "height": null,
            "justify_content": null,
            "justify_items": null,
            "left": null,
            "margin": null,
            "max_height": null,
            "max_width": null,
            "min_height": null,
            "min_width": null,
            "object_fit": null,
            "object_position": null,
            "order": null,
            "overflow": null,
            "overflow_x": null,
            "overflow_y": null,
            "padding": null,
            "right": null,
            "top": null,
            "visibility": null,
            "width": null
          }
        },
        "10bc9d3b8a344c2a9eb6d257bde967f5": {
          "model_module": "@jupyter-widgets/base",
          "model_name": "LayoutModel",
          "model_module_version": "1.2.0",
          "state": {
            "_model_module": "@jupyter-widgets/base",
            "_model_module_version": "1.2.0",
            "_model_name": "LayoutModel",
            "_view_count": null,
            "_view_module": "@jupyter-widgets/base",
            "_view_module_version": "1.2.0",
            "_view_name": "LayoutView",
            "align_content": null,
            "align_items": null,
            "align_self": null,
            "border": null,
            "bottom": null,
            "display": null,
            "flex": null,
            "flex_flow": null,
            "grid_area": null,
            "grid_auto_columns": null,
            "grid_auto_flow": null,
            "grid_auto_rows": null,
            "grid_column": null,
            "grid_gap": null,
            "grid_row": null,
            "grid_template_areas": null,
            "grid_template_columns": null,
            "grid_template_rows": null,
            "height": null,
            "justify_content": null,
            "justify_items": null,
            "left": null,
            "margin": null,
            "max_height": null,
            "max_width": null,
            "min_height": null,
            "min_width": null,
            "object_fit": null,
            "object_position": null,
            "order": null,
            "overflow": null,
            "overflow_x": null,
            "overflow_y": null,
            "padding": null,
            "right": null,
            "top": null,
            "visibility": null,
            "width": null
          }
        },
        "529589323e8642758b582952c302e016": {
          "model_module": "@jupyter-widgets/controls",
          "model_name": "DescriptionStyleModel",
          "model_module_version": "1.5.0",
          "state": {
            "_model_module": "@jupyter-widgets/controls",
            "_model_module_version": "1.5.0",
            "_model_name": "DescriptionStyleModel",
            "_view_count": null,
            "_view_module": "@jupyter-widgets/base",
            "_view_module_version": "1.2.0",
            "_view_name": "StyleView",
            "description_width": ""
          }
        },
        "d6f9a2f2a4a543249c05692e01a5d7ce": {
          "model_module": "@jupyter-widgets/base",
          "model_name": "LayoutModel",
          "model_module_version": "1.2.0",
          "state": {
            "_model_module": "@jupyter-widgets/base",
            "_model_module_version": "1.2.0",
            "_model_name": "LayoutModel",
            "_view_count": null,
            "_view_module": "@jupyter-widgets/base",
            "_view_module_version": "1.2.0",
            "_view_name": "LayoutView",
            "align_content": null,
            "align_items": null,
            "align_self": null,
            "border": null,
            "bottom": null,
            "display": null,
            "flex": null,
            "flex_flow": null,
            "grid_area": null,
            "grid_auto_columns": null,
            "grid_auto_flow": null,
            "grid_auto_rows": null,
            "grid_column": null,
            "grid_gap": null,
            "grid_row": null,
            "grid_template_areas": null,
            "grid_template_columns": null,
            "grid_template_rows": null,
            "height": null,
            "justify_content": null,
            "justify_items": null,
            "left": null,
            "margin": null,
            "max_height": null,
            "max_width": null,
            "min_height": null,
            "min_width": null,
            "object_fit": null,
            "object_position": null,
            "order": null,
            "overflow": null,
            "overflow_x": null,
            "overflow_y": null,
            "padding": null,
            "right": null,
            "top": null,
            "visibility": null,
            "width": null
          }
        },
        "2e1693dd9d484de3a00457f7469b6449": {
          "model_module": "@jupyter-widgets/controls",
          "model_name": "ProgressStyleModel",
          "model_module_version": "1.5.0",
          "state": {
            "_model_module": "@jupyter-widgets/controls",
            "_model_module_version": "1.5.0",
            "_model_name": "ProgressStyleModel",
            "_view_count": null,
            "_view_module": "@jupyter-widgets/base",
            "_view_module_version": "1.2.0",
            "_view_name": "StyleView",
            "bar_color": null,
            "description_width": ""
          }
        },
        "5f7ef336cbda42cf945f78d5364e83dc": {
          "model_module": "@jupyter-widgets/base",
          "model_name": "LayoutModel",
          "model_module_version": "1.2.0",
          "state": {
            "_model_module": "@jupyter-widgets/base",
            "_model_module_version": "1.2.0",
            "_model_name": "LayoutModel",
            "_view_count": null,
            "_view_module": "@jupyter-widgets/base",
            "_view_module_version": "1.2.0",
            "_view_name": "LayoutView",
            "align_content": null,
            "align_items": null,
            "align_self": null,
            "border": null,
            "bottom": null,
            "display": null,
            "flex": null,
            "flex_flow": null,
            "grid_area": null,
            "grid_auto_columns": null,
            "grid_auto_flow": null,
            "grid_auto_rows": null,
            "grid_column": null,
            "grid_gap": null,
            "grid_row": null,
            "grid_template_areas": null,
            "grid_template_columns": null,
            "grid_template_rows": null,
            "height": null,
            "justify_content": null,
            "justify_items": null,
            "left": null,
            "margin": null,
            "max_height": null,
            "max_width": null,
            "min_height": null,
            "min_width": null,
            "object_fit": null,
            "object_position": null,
            "order": null,
            "overflow": null,
            "overflow_x": null,
            "overflow_y": null,
            "padding": null,
            "right": null,
            "top": null,
            "visibility": null,
            "width": null
          }
        },
        "8d15e2e0be4748238882fa92ec22f8d7": {
          "model_module": "@jupyter-widgets/controls",
          "model_name": "DescriptionStyleModel",
          "model_module_version": "1.5.0",
          "state": {
            "_model_module": "@jupyter-widgets/controls",
            "_model_module_version": "1.5.0",
            "_model_name": "DescriptionStyleModel",
            "_view_count": null,
            "_view_module": "@jupyter-widgets/base",
            "_view_module_version": "1.2.0",
            "_view_name": "StyleView",
            "description_width": ""
          }
        },
        "0d712d1bf4d3422a856d27d9f33accbf": {
          "model_module": "@jupyter-widgets/controls",
          "model_name": "HBoxModel",
          "model_module_version": "1.5.0",
          "state": {
            "_dom_classes": [],
            "_model_module": "@jupyter-widgets/controls",
            "_model_module_version": "1.5.0",
            "_model_name": "HBoxModel",
            "_view_count": null,
            "_view_module": "@jupyter-widgets/controls",
            "_view_module_version": "1.5.0",
            "_view_name": "HBoxView",
            "box_style": "",
            "children": [
              "IPY_MODEL_c1d2c48cbdd3446a806dbff08bdf4884",
              "IPY_MODEL_cedc9abba42c47c7ab488ccde0070df4",
              "IPY_MODEL_4ebdb8acc1be4c84ab424d6676e2490f"
            ],
            "layout": "IPY_MODEL_d7fb056a042e47529b5d0e0ce19bf874"
          }
        },
        "c1d2c48cbdd3446a806dbff08bdf4884": {
          "model_module": "@jupyter-widgets/controls",
          "model_name": "HTMLModel",
          "model_module_version": "1.5.0",
          "state": {
            "_dom_classes": [],
            "_model_module": "@jupyter-widgets/controls",
            "_model_module_version": "1.5.0",
            "_model_name": "HTMLModel",
            "_view_count": null,
            "_view_module": "@jupyter-widgets/controls",
            "_view_module_version": "1.5.0",
            "_view_name": "HTMLView",
            "description": "",
            "description_tooltip": null,
            "layout": "IPY_MODEL_1aee74cdeee342f48959f36eaca748ec",
            "placeholder": "​",
            "style": "IPY_MODEL_a821ce9c1bf94bceb146d61b7ea18f56",
            "value": "tokenizer.json: 100%"
          }
        },
        "cedc9abba42c47c7ab488ccde0070df4": {
          "model_module": "@jupyter-widgets/controls",
          "model_name": "FloatProgressModel",
          "model_module_version": "1.5.0",
          "state": {
            "_dom_classes": [],
            "_model_module": "@jupyter-widgets/controls",
            "_model_module_version": "1.5.0",
            "_model_name": "FloatProgressModel",
            "_view_count": null,
            "_view_module": "@jupyter-widgets/controls",
            "_view_module_version": "1.5.0",
            "_view_name": "ProgressView",
            "bar_style": "success",
            "description": "",
            "description_tooltip": null,
            "layout": "IPY_MODEL_58f4853f90b94c30826e6deacf926aa4",
            "max": 751504,
            "min": 0,
            "orientation": "horizontal",
            "style": "IPY_MODEL_a72e3ca888b3489986bd31cbe1dfb9e6",
            "value": 751504
          }
        },
        "4ebdb8acc1be4c84ab424d6676e2490f": {
          "model_module": "@jupyter-widgets/controls",
          "model_name": "HTMLModel",
          "model_module_version": "1.5.0",
          "state": {
            "_dom_classes": [],
            "_model_module": "@jupyter-widgets/controls",
            "_model_module_version": "1.5.0",
            "_model_name": "HTMLModel",
            "_view_count": null,
            "_view_module": "@jupyter-widgets/controls",
            "_view_module_version": "1.5.0",
            "_view_name": "HTMLView",
            "description": "",
            "description_tooltip": null,
            "layout": "IPY_MODEL_e482968bc35f4b50bab92a5af5d41635",
            "placeholder": "​",
            "style": "IPY_MODEL_2bc23edaf1e347c590c9aeab3c6e8722",
            "value": " 752k/752k [00:00&lt;00:00, 6.36MB/s]"
          }
        },
        "d7fb056a042e47529b5d0e0ce19bf874": {
          "model_module": "@jupyter-widgets/base",
          "model_name": "LayoutModel",
          "model_module_version": "1.2.0",
          "state": {
            "_model_module": "@jupyter-widgets/base",
            "_model_module_version": "1.2.0",
            "_model_name": "LayoutModel",
            "_view_count": null,
            "_view_module": "@jupyter-widgets/base",
            "_view_module_version": "1.2.0",
            "_view_name": "LayoutView",
            "align_content": null,
            "align_items": null,
            "align_self": null,
            "border": null,
            "bottom": null,
            "display": null,
            "flex": null,
            "flex_flow": null,
            "grid_area": null,
            "grid_auto_columns": null,
            "grid_auto_flow": null,
            "grid_auto_rows": null,
            "grid_column": null,
            "grid_gap": null,
            "grid_row": null,
            "grid_template_areas": null,
            "grid_template_columns": null,
            "grid_template_rows": null,
            "height": null,
            "justify_content": null,
            "justify_items": null,
            "left": null,
            "margin": null,
            "max_height": null,
            "max_width": null,
            "min_height": null,
            "min_width": null,
            "object_fit": null,
            "object_position": null,
            "order": null,
            "overflow": null,
            "overflow_x": null,
            "overflow_y": null,
            "padding": null,
            "right": null,
            "top": null,
            "visibility": null,
            "width": null
          }
        },
        "1aee74cdeee342f48959f36eaca748ec": {
          "model_module": "@jupyter-widgets/base",
          "model_name": "LayoutModel",
          "model_module_version": "1.2.0",
          "state": {
            "_model_module": "@jupyter-widgets/base",
            "_model_module_version": "1.2.0",
            "_model_name": "LayoutModel",
            "_view_count": null,
            "_view_module": "@jupyter-widgets/base",
            "_view_module_version": "1.2.0",
            "_view_name": "LayoutView",
            "align_content": null,
            "align_items": null,
            "align_self": null,
            "border": null,
            "bottom": null,
            "display": null,
            "flex": null,
            "flex_flow": null,
            "grid_area": null,
            "grid_auto_columns": null,
            "grid_auto_flow": null,
            "grid_auto_rows": null,
            "grid_column": null,
            "grid_gap": null,
            "grid_row": null,
            "grid_template_areas": null,
            "grid_template_columns": null,
            "grid_template_rows": null,
            "height": null,
            "justify_content": null,
            "justify_items": null,
            "left": null,
            "margin": null,
            "max_height": null,
            "max_width": null,
            "min_height": null,
            "min_width": null,
            "object_fit": null,
            "object_position": null,
            "order": null,
            "overflow": null,
            "overflow_x": null,
            "overflow_y": null,
            "padding": null,
            "right": null,
            "top": null,
            "visibility": null,
            "width": null
          }
        },
        "a821ce9c1bf94bceb146d61b7ea18f56": {
          "model_module": "@jupyter-widgets/controls",
          "model_name": "DescriptionStyleModel",
          "model_module_version": "1.5.0",
          "state": {
            "_model_module": "@jupyter-widgets/controls",
            "_model_module_version": "1.5.0",
            "_model_name": "DescriptionStyleModel",
            "_view_count": null,
            "_view_module": "@jupyter-widgets/base",
            "_view_module_version": "1.2.0",
            "_view_name": "StyleView",
            "description_width": ""
          }
        },
        "58f4853f90b94c30826e6deacf926aa4": {
          "model_module": "@jupyter-widgets/base",
          "model_name": "LayoutModel",
          "model_module_version": "1.2.0",
          "state": {
            "_model_module": "@jupyter-widgets/base",
            "_model_module_version": "1.2.0",
            "_model_name": "LayoutModel",
            "_view_count": null,
            "_view_module": "@jupyter-widgets/base",
            "_view_module_version": "1.2.0",
            "_view_name": "LayoutView",
            "align_content": null,
            "align_items": null,
            "align_self": null,
            "border": null,
            "bottom": null,
            "display": null,
            "flex": null,
            "flex_flow": null,
            "grid_area": null,
            "grid_auto_columns": null,
            "grid_auto_flow": null,
            "grid_auto_rows": null,
            "grid_column": null,
            "grid_gap": null,
            "grid_row": null,
            "grid_template_areas": null,
            "grid_template_columns": null,
            "grid_template_rows": null,
            "height": null,
            "justify_content": null,
            "justify_items": null,
            "left": null,
            "margin": null,
            "max_height": null,
            "max_width": null,
            "min_height": null,
            "min_width": null,
            "object_fit": null,
            "object_position": null,
            "order": null,
            "overflow": null,
            "overflow_x": null,
            "overflow_y": null,
            "padding": null,
            "right": null,
            "top": null,
            "visibility": null,
            "width": null
          }
        },
        "a72e3ca888b3489986bd31cbe1dfb9e6": {
          "model_module": "@jupyter-widgets/controls",
          "model_name": "ProgressStyleModel",
          "model_module_version": "1.5.0",
          "state": {
            "_model_module": "@jupyter-widgets/controls",
            "_model_module_version": "1.5.0",
            "_model_name": "ProgressStyleModel",
            "_view_count": null,
            "_view_module": "@jupyter-widgets/base",
            "_view_module_version": "1.2.0",
            "_view_name": "StyleView",
            "bar_color": null,
            "description_width": ""
          }
        },
        "e482968bc35f4b50bab92a5af5d41635": {
          "model_module": "@jupyter-widgets/base",
          "model_name": "LayoutModel",
          "model_module_version": "1.2.0",
          "state": {
            "_model_module": "@jupyter-widgets/base",
            "_model_module_version": "1.2.0",
            "_model_name": "LayoutModel",
            "_view_count": null,
            "_view_module": "@jupyter-widgets/base",
            "_view_module_version": "1.2.0",
            "_view_name": "LayoutView",
            "align_content": null,
            "align_items": null,
            "align_self": null,
            "border": null,
            "bottom": null,
            "display": null,
            "flex": null,
            "flex_flow": null,
            "grid_area": null,
            "grid_auto_columns": null,
            "grid_auto_flow": null,
            "grid_auto_rows": null,
            "grid_column": null,
            "grid_gap": null,
            "grid_row": null,
            "grid_template_areas": null,
            "grid_template_columns": null,
            "grid_template_rows": null,
            "height": null,
            "justify_content": null,
            "justify_items": null,
            "left": null,
            "margin": null,
            "max_height": null,
            "max_width": null,
            "min_height": null,
            "min_width": null,
            "object_fit": null,
            "object_position": null,
            "order": null,
            "overflow": null,
            "overflow_x": null,
            "overflow_y": null,
            "padding": null,
            "right": null,
            "top": null,
            "visibility": null,
            "width": null
          }
        },
        "2bc23edaf1e347c590c9aeab3c6e8722": {
          "model_module": "@jupyter-widgets/controls",
          "model_name": "DescriptionStyleModel",
          "model_module_version": "1.5.0",
          "state": {
            "_model_module": "@jupyter-widgets/controls",
            "_model_module_version": "1.5.0",
            "_model_name": "DescriptionStyleModel",
            "_view_count": null,
            "_view_module": "@jupyter-widgets/base",
            "_view_module_version": "1.2.0",
            "_view_name": "StyleView",
            "description_width": ""
          }
        },
        "edbd1466ae034d8a9760a64e74d14b4f": {
          "model_module": "@jupyter-widgets/controls",
          "model_name": "HBoxModel",
          "model_module_version": "1.5.0",
          "state": {
            "_dom_classes": [],
            "_model_module": "@jupyter-widgets/controls",
            "_model_module_version": "1.5.0",
            "_model_name": "HBoxModel",
            "_view_count": null,
            "_view_module": "@jupyter-widgets/controls",
            "_view_module_version": "1.5.0",
            "_view_name": "HBoxView",
            "box_style": "",
            "children": [
              "IPY_MODEL_708063274b42488b8e82716aa1563c8c",
              "IPY_MODEL_a2e05a5df93c47429da42d384a85a42f",
              "IPY_MODEL_f334336947e44ba6a15a173e8aa0ca0e"
            ],
            "layout": "IPY_MODEL_5d9b969442294dd1ba0d22a40a5dd7fa"
          }
        },
        "708063274b42488b8e82716aa1563c8c": {
          "model_module": "@jupyter-widgets/controls",
          "model_name": "HTMLModel",
          "model_module_version": "1.5.0",
          "state": {
            "_dom_classes": [],
            "_model_module": "@jupyter-widgets/controls",
            "_model_module_version": "1.5.0",
            "_model_name": "HTMLModel",
            "_view_count": null,
            "_view_module": "@jupyter-widgets/controls",
            "_view_module_version": "1.5.0",
            "_view_name": "HTMLView",
            "description": "",
            "description_tooltip": null,
            "layout": "IPY_MODEL_38f10fa6836f4a97a62fe86634220af0",
            "placeholder": "​",
            "style": "IPY_MODEL_f04db2718d894fb59e1364085717082e",
            "value": "special_tokens_map.json: 100%"
          }
        },
        "a2e05a5df93c47429da42d384a85a42f": {
          "model_module": "@jupyter-widgets/controls",
          "model_name": "FloatProgressModel",
          "model_module_version": "1.5.0",
          "state": {
            "_dom_classes": [],
            "_model_module": "@jupyter-widgets/controls",
            "_model_module_version": "1.5.0",
            "_model_name": "FloatProgressModel",
            "_view_count": null,
            "_view_module": "@jupyter-widgets/controls",
            "_view_module_version": "1.5.0",
            "_view_name": "ProgressView",
            "bar_style": "success",
            "description": "",
            "description_tooltip": null,
            "layout": "IPY_MODEL_181a065272f940c790348a661434cef2",
            "max": 173,
            "min": 0,
            "orientation": "horizontal",
            "style": "IPY_MODEL_7e6801e80ed54dd082d00850e03676e0",
            "value": 173
          }
        },
        "f334336947e44ba6a15a173e8aa0ca0e": {
          "model_module": "@jupyter-widgets/controls",
          "model_name": "HTMLModel",
          "model_module_version": "1.5.0",
          "state": {
            "_dom_classes": [],
            "_model_module": "@jupyter-widgets/controls",
            "_model_module_version": "1.5.0",
            "_model_name": "HTMLModel",
            "_view_count": null,
            "_view_module": "@jupyter-widgets/controls",
            "_view_module_version": "1.5.0",
            "_view_name": "HTMLView",
            "description": "",
            "description_tooltip": null,
            "layout": "IPY_MODEL_2b89f1d4c1694c2f9b4a54cc6ffae43a",
            "placeholder": "​",
            "style": "IPY_MODEL_6c3027e774f54fe5a58c391d31ff7eae",
            "value": " 173/173 [00:00&lt;00:00, 9.35kB/s]"
          }
        },
        "5d9b969442294dd1ba0d22a40a5dd7fa": {
          "model_module": "@jupyter-widgets/base",
          "model_name": "LayoutModel",
          "model_module_version": "1.2.0",
          "state": {
            "_model_module": "@jupyter-widgets/base",
            "_model_module_version": "1.2.0",
            "_model_name": "LayoutModel",
            "_view_count": null,
            "_view_module": "@jupyter-widgets/base",
            "_view_module_version": "1.2.0",
            "_view_name": "LayoutView",
            "align_content": null,
            "align_items": null,
            "align_self": null,
            "border": null,
            "bottom": null,
            "display": null,
            "flex": null,
            "flex_flow": null,
            "grid_area": null,
            "grid_auto_columns": null,
            "grid_auto_flow": null,
            "grid_auto_rows": null,
            "grid_column": null,
            "grid_gap": null,
            "grid_row": null,
            "grid_template_areas": null,
            "grid_template_columns": null,
            "grid_template_rows": null,
            "height": null,
            "justify_content": null,
            "justify_items": null,
            "left": null,
            "margin": null,
            "max_height": null,
            "max_width": null,
            "min_height": null,
            "min_width": null,
            "object_fit": null,
            "object_position": null,
            "order": null,
            "overflow": null,
            "overflow_x": null,
            "overflow_y": null,
            "padding": null,
            "right": null,
            "top": null,
            "visibility": null,
            "width": null
          }
        },
        "38f10fa6836f4a97a62fe86634220af0": {
          "model_module": "@jupyter-widgets/base",
          "model_name": "LayoutModel",
          "model_module_version": "1.2.0",
          "state": {
            "_model_module": "@jupyter-widgets/base",
            "_model_module_version": "1.2.0",
            "_model_name": "LayoutModel",
            "_view_count": null,
            "_view_module": "@jupyter-widgets/base",
            "_view_module_version": "1.2.0",
            "_view_name": "LayoutView",
            "align_content": null,
            "align_items": null,
            "align_self": null,
            "border": null,
            "bottom": null,
            "display": null,
            "flex": null,
            "flex_flow": null,
            "grid_area": null,
            "grid_auto_columns": null,
            "grid_auto_flow": null,
            "grid_auto_rows": null,
            "grid_column": null,
            "grid_gap": null,
            "grid_row": null,
            "grid_template_areas": null,
            "grid_template_columns": null,
            "grid_template_rows": null,
            "height": null,
            "justify_content": null,
            "justify_items": null,
            "left": null,
            "margin": null,
            "max_height": null,
            "max_width": null,
            "min_height": null,
            "min_width": null,
            "object_fit": null,
            "object_position": null,
            "order": null,
            "overflow": null,
            "overflow_x": null,
            "overflow_y": null,
            "padding": null,
            "right": null,
            "top": null,
            "visibility": null,
            "width": null
          }
        },
        "f04db2718d894fb59e1364085717082e": {
          "model_module": "@jupyter-widgets/controls",
          "model_name": "DescriptionStyleModel",
          "model_module_version": "1.5.0",
          "state": {
            "_model_module": "@jupyter-widgets/controls",
            "_model_module_version": "1.5.0",
            "_model_name": "DescriptionStyleModel",
            "_view_count": null,
            "_view_module": "@jupyter-widgets/base",
            "_view_module_version": "1.2.0",
            "_view_name": "StyleView",
            "description_width": ""
          }
        },
        "181a065272f940c790348a661434cef2": {
          "model_module": "@jupyter-widgets/base",
          "model_name": "LayoutModel",
          "model_module_version": "1.2.0",
          "state": {
            "_model_module": "@jupyter-widgets/base",
            "_model_module_version": "1.2.0",
            "_model_name": "LayoutModel",
            "_view_count": null,
            "_view_module": "@jupyter-widgets/base",
            "_view_module_version": "1.2.0",
            "_view_name": "LayoutView",
            "align_content": null,
            "align_items": null,
            "align_self": null,
            "border": null,
            "bottom": null,
            "display": null,
            "flex": null,
            "flex_flow": null,
            "grid_area": null,
            "grid_auto_columns": null,
            "grid_auto_flow": null,
            "grid_auto_rows": null,
            "grid_column": null,
            "grid_gap": null,
            "grid_row": null,
            "grid_template_areas": null,
            "grid_template_columns": null,
            "grid_template_rows": null,
            "height": null,
            "justify_content": null,
            "justify_items": null,
            "left": null,
            "margin": null,
            "max_height": null,
            "max_width": null,
            "min_height": null,
            "min_width": null,
            "object_fit": null,
            "object_position": null,
            "order": null,
            "overflow": null,
            "overflow_x": null,
            "overflow_y": null,
            "padding": null,
            "right": null,
            "top": null,
            "visibility": null,
            "width": null
          }
        },
        "7e6801e80ed54dd082d00850e03676e0": {
          "model_module": "@jupyter-widgets/controls",
          "model_name": "ProgressStyleModel",
          "model_module_version": "1.5.0",
          "state": {
            "_model_module": "@jupyter-widgets/controls",
            "_model_module_version": "1.5.0",
            "_model_name": "ProgressStyleModel",
            "_view_count": null,
            "_view_module": "@jupyter-widgets/base",
            "_view_module_version": "1.2.0",
            "_view_name": "StyleView",
            "bar_color": null,
            "description_width": ""
          }
        },
        "2b89f1d4c1694c2f9b4a54cc6ffae43a": {
          "model_module": "@jupyter-widgets/base",
          "model_name": "LayoutModel",
          "model_module_version": "1.2.0",
          "state": {
            "_model_module": "@jupyter-widgets/base",
            "_model_module_version": "1.2.0",
            "_model_name": "LayoutModel",
            "_view_count": null,
            "_view_module": "@jupyter-widgets/base",
            "_view_module_version": "1.2.0",
            "_view_name": "LayoutView",
            "align_content": null,
            "align_items": null,
            "align_self": null,
            "border": null,
            "bottom": null,
            "display": null,
            "flex": null,
            "flex_flow": null,
            "grid_area": null,
            "grid_auto_columns": null,
            "grid_auto_flow": null,
            "grid_auto_rows": null,
            "grid_column": null,
            "grid_gap": null,
            "grid_row": null,
            "grid_template_areas": null,
            "grid_template_columns": null,
            "grid_template_rows": null,
            "height": null,
            "justify_content": null,
            "justify_items": null,
            "left": null,
            "margin": null,
            "max_height": null,
            "max_width": null,
            "min_height": null,
            "min_width": null,
            "object_fit": null,
            "object_position": null,
            "order": null,
            "overflow": null,
            "overflow_x": null,
            "overflow_y": null,
            "padding": null,
            "right": null,
            "top": null,
            "visibility": null,
            "width": null
          }
        },
        "6c3027e774f54fe5a58c391d31ff7eae": {
          "model_module": "@jupyter-widgets/controls",
          "model_name": "DescriptionStyleModel",
          "model_module_version": "1.5.0",
          "state": {
            "_model_module": "@jupyter-widgets/controls",
            "_model_module_version": "1.5.0",
            "_model_name": "DescriptionStyleModel",
            "_view_count": null,
            "_view_module": "@jupyter-widgets/base",
            "_view_module_version": "1.2.0",
            "_view_name": "StyleView",
            "description_width": ""
          }
        }
      }
    }
  },
  "nbformat": 4,
  "nbformat_minor": 0
}